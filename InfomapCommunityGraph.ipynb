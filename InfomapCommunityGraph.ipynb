{
 "cells": [
  {
   "cell_type": "markdown",
   "metadata": {
    "Collapsed": "false"
   },
   "source": [
    "# Title "
   ]
  },
  {
   "cell_type": "markdown",
   "metadata": {
    "Collapsed": "false"
   },
   "source": [
    "#### Imports"
   ]
  },
  {
   "cell_type": "code",
   "execution_count": 6,
   "metadata": {
    "Collapsed": "false",
    "ExecuteTime": {
     "end_time": "2019-11-05T22:08:59.291913Z",
     "start_time": "2019-11-05T22:08:59.283989Z"
    }
   },
   "outputs": [],
   "source": [
    "from typing import Dict, List, Tuple, Optional\n",
    "from collections import namedtuple\n",
    "import os\n",
    "import numpy as np\n",
    "import pandas as pd\n",
    "import matplotlib.pyplot as plt\n",
    "from functional import seq, pseq\n",
    "from functional.streams import Sequence\n",
    "from IPython.core.display import HTML\n",
    "\n",
    "def display_seq(sequence:Sequence,rows:int)-> None:\n",
    "        sequence._repr_html_= lambda :sequence.tabulate(rows,tablefmt='html')\n",
    "        display(sequence)\n",
    "        sequence._repr_html_= lambda :sequence.tabulate(10,tablefmt='html')"
   ]
  },
  {
   "cell_type": "code",
   "execution_count": 7,
   "metadata": {
    "Collapsed": "false",
    "ExecuteTime": {
     "end_time": "2019-11-05T21:00:44.732900Z",
     "start_time": "2019-11-05T21:00:44.728715Z"
    }
   },
   "outputs": [],
   "source": [
    "import functools\n",
    "def compose(*functions):\n",
    "    def compose2(f, g):\n",
    "        return lambda x: f(g(x))\n",
    "    return functools.reduce(compose2, functions, lambda x: x)"
   ]
  },
  {
   "cell_type": "markdown",
   "metadata": {
    "Collapsed": "false",
    "ExecuteTime": {
     "end_time": "2019-05-20T08:45:09.261251Z",
     "start_time": "2019-05-20T08:45:09.258254Z"
    }
   },
   "source": [
    "## Section 1"
   ]
  },
  {
   "cell_type": "code",
   "execution_count": 8,
   "metadata": {
    "Collapsed": "false",
    "ExecuteTime": {
     "end_time": "2019-11-05T21:00:45.342356Z",
     "start_time": "2019-11-05T21:00:45.332971Z"
    }
   },
   "outputs": [
    {
     "data": {
      "text/plain": [
       "'/home/owner/blob/data/data_mining/dblp/csv/'"
      ]
     },
     "execution_count": 8,
     "metadata": {},
     "output_type": "execute_result"
    }
   ],
   "source": [
    "from util import get_envs, cached_load\n",
    "base_dir = get_envs()[\"base_dir\"]\n",
    "base_dir"
   ]
  },
  {
   "cell_type": "code",
   "execution_count": 9,
   "metadata": {
    "Collapsed": "false",
    "ExecuteTime": {
     "end_time": "2019-11-05T21:01:34.565192Z",
     "start_time": "2019-11-05T21:01:34.562956Z"
    }
   },
   "outputs": [],
   "source": [
    "label_name = 'infomap_minor'"
   ]
  },
  {
   "cell_type": "code",
   "execution_count": 10,
   "metadata": {
    "Collapsed": "false",
    "ExecuteTime": {
     "end_time": "2019-11-05T21:18:29.315499Z",
     "start_time": "2019-11-05T21:18:29.311620Z"
    }
   },
   "outputs": [],
   "source": [
    "subdir = base_dir  + label_name + \"/\"\n",
    "os.mkdir(subdir) if not os.path.exists(subdir) else None\n",
    "\n",
    "infomap_author_community_fn = subdir + \"author_community.csv\"\n",
    "infomap_coauthor_community_edges_fn =   subdir + \"coauthor_community_edges.csv\""
   ]
  },
  {
   "cell_type": "code",
   "execution_count": 15,
   "metadata": {
    "Collapsed": "false",
    "ExecuteTime": {
     "end_time": "2019-11-05T21:06:50.315943Z",
     "start_time": "2019-11-05T21:06:50.312157Z"
    }
   },
   "outputs": [],
   "source": [
    "def infomap_minor_author_community():\n",
    "    infomap_author_community = pd.read_csv(infomap_author_community_fn,header=None)\n",
    "    infomap_author_community.columns = ['major','minor','key']\n",
    "    max_major = infomap_author_community.major.max()\n",
    "    infomap_author_community['label'] = infomap_author_community.major * max_major + infomap_author_community.minor\n",
    "    infomap_author_community = infomap_author_community.drop(['minor','major'],axis=1)\n",
    "    return infomap_author_community"
   ]
  },
  {
   "cell_type": "code",
   "execution_count": 16,
   "metadata": {
    "Collapsed": "false",
    "ExecuteTime": {
     "end_time": "2019-11-05T21:07:13.867736Z",
     "start_time": "2019-11-05T21:07:11.398678Z"
    }
   },
   "outputs": [
    {
     "data": {
      "text/html": [
       "<div>\n",
       "<style scoped>\n",
       "    .dataframe tbody tr th:only-of-type {\n",
       "        vertical-align: middle;\n",
       "    }\n",
       "\n",
       "    .dataframe tbody tr th {\n",
       "        vertical-align: top;\n",
       "    }\n",
       "\n",
       "    .dataframe thead th {\n",
       "        text-align: right;\n",
       "    }\n",
       "</style>\n",
       "<table border=\"1\" class=\"dataframe\">\n",
       "  <thead>\n",
       "    <tr style=\"text-align: right;\">\n",
       "      <th></th>\n",
       "      <th>key</th>\n",
       "      <th>label</th>\n",
       "    </tr>\n",
       "  </thead>\n",
       "  <tbody>\n",
       "    <tr>\n",
       "      <th>0</th>\n",
       "      <td>qiang wang_pers</td>\n",
       "      <td>57628</td>\n",
       "    </tr>\n",
       "    <tr>\n",
       "      <th>1</th>\n",
       "      <td>philip h. s. torr_pers</td>\n",
       "      <td>57628</td>\n",
       "    </tr>\n",
       "    <tr>\n",
       "      <th>2</th>\n",
       "      <td>jiri matas_pers</td>\n",
       "      <td>57628</td>\n",
       "    </tr>\n",
       "    <tr>\n",
       "      <th>3</th>\n",
       "      <td>haibin ling_pers</td>\n",
       "      <td>57628</td>\n",
       "    </tr>\n",
       "    <tr>\n",
       "      <th>4</th>\n",
       "      <td>zheng zhang_pers</td>\n",
       "      <td>57628</td>\n",
       "    </tr>\n",
       "  </tbody>\n",
       "</table>\n",
       "</div>"
      ],
      "text/plain": [
       "                      key  label\n",
       "0         qiang wang_pers  57628\n",
       "1  philip h. s. torr_pers  57628\n",
       "2         jiri matas_pers  57628\n",
       "3        haibin ling_pers  57628\n",
       "4        zheng zhang_pers  57628"
      ]
     },
     "execution_count": 16,
     "metadata": {},
     "output_type": "execute_result"
    }
   ],
   "source": [
    "infomap= infomap_minor_author_community()\n",
    "infomap.head()"
   ]
  },
  {
   "cell_type": "code",
   "execution_count": 18,
   "metadata": {
    "Collapsed": "false",
    "ExecuteTime": {
     "end_time": "2019-11-05T21:12:41.587590Z",
     "start_time": "2019-11-05T21:12:28.387246Z"
    }
   },
   "outputs": [
    {
     "data": {
      "text/html": [
       "<div>\n",
       "<style scoped>\n",
       "    .dataframe tbody tr th:only-of-type {\n",
       "        vertical-align: middle;\n",
       "    }\n",
       "\n",
       "    .dataframe tbody tr th {\n",
       "        vertical-align: top;\n",
       "    }\n",
       "\n",
       "    .dataframe thead th {\n",
       "        text-align: right;\n",
       "    }\n",
       "</style>\n",
       "<table border=\"1\" class=\"dataframe\">\n",
       "  <thead>\n",
       "    <tr style=\"text-align: right;\">\n",
       "      <th></th>\n",
       "      <th>a</th>\n",
       "      <th>b</th>\n",
       "      <th>count</th>\n",
       "    </tr>\n",
       "  </thead>\n",
       "  <tbody>\n",
       "    <tr>\n",
       "      <th>0</th>\n",
       "      <td>jurgen annevelink_pers</td>\n",
       "      <td>rafiul ahad_pers</td>\n",
       "      <td>1</td>\n",
       "    </tr>\n",
       "    <tr>\n",
       "      <th>1</th>\n",
       "      <td>jurgen annevelink_pers</td>\n",
       "      <td>amelia carlson_pers</td>\n",
       "      <td>1</td>\n",
       "    </tr>\n",
       "    <tr>\n",
       "      <th>2</th>\n",
       "      <td>jurgen annevelink_pers</td>\n",
       "      <td>daniel h. fishman_pers</td>\n",
       "      <td>1</td>\n",
       "    </tr>\n",
       "    <tr>\n",
       "      <th>3</th>\n",
       "      <td>jurgen annevelink_pers</td>\n",
       "      <td>michael l. heytens_pers</td>\n",
       "      <td>1</td>\n",
       "    </tr>\n",
       "    <tr>\n",
       "      <th>4</th>\n",
       "      <td>jurgen annevelink_pers</td>\n",
       "      <td>william kent_pers</td>\n",
       "      <td>3</td>\n",
       "    </tr>\n",
       "  </tbody>\n",
       "</table>\n",
       "</div>"
      ],
      "text/plain": [
       "                        a                        b  count\n",
       "0  jurgen annevelink_pers         rafiul ahad_pers      1\n",
       "1  jurgen annevelink_pers      amelia carlson_pers      1\n",
       "2  jurgen annevelink_pers   daniel h. fishman_pers      1\n",
       "3  jurgen annevelink_pers  michael l. heytens_pers      1\n",
       "4  jurgen annevelink_pers        william kent_pers      3"
      ]
     },
     "execution_count": 18,
     "metadata": {},
     "output_type": "execute_result"
    }
   ],
   "source": [
    "pers_infomap_minor_dict = seq(infomap).to_dict()\n",
    "coauthorships = pd.read_csv(base_dir + \"/coauthorships.csv\",header=None)\n",
    "coauthorships.columns= ['a','b','count']\n",
    "coauthorships.head()"
   ]
  },
  {
   "cell_type": "code",
   "execution_count": 21,
   "metadata": {
    "Collapsed": "false",
    "ExecuteTime": {
     "end_time": "2019-11-05T21:14:44.843466Z",
     "start_time": "2019-11-05T21:14:29.067267Z"
    }
   },
   "outputs": [],
   "source": [
    "info_coauthorships = coauthorships.copy()\n",
    "info_coauthorships['a_label'] = coauthorships.a.apply(lambda x: pers_infomap_minor_dict[x])\n",
    "info_coauthorships['b_label'] = coauthorships.b.apply(lambda x: pers_infomap_minor_dict[x])\n",
    "info_coauthorships = info_coauthorships.drop(['a','b'],axis=1)\n",
    "info_coauthorships = info_coauthorships[info_coauthorships.a_label != info_coauthorships.b_label].dropna()"
   ]
  },
  {
   "cell_type": "code",
   "execution_count": 46,
   "metadata": {
    "Collapsed": "false",
    "ExecuteTime": {
     "end_time": "2019-11-05T21:26:07.438627Z",
     "start_time": "2019-11-05T21:26:07.431998Z"
    }
   },
   "outputs": [
    {
     "data": {
      "text/html": [
       "<div>\n",
       "<style scoped>\n",
       "    .dataframe tbody tr th:only-of-type {\n",
       "        vertical-align: middle;\n",
       "    }\n",
       "\n",
       "    .dataframe tbody tr th {\n",
       "        vertical-align: top;\n",
       "    }\n",
       "\n",
       "    .dataframe thead th {\n",
       "        text-align: right;\n",
       "    }\n",
       "</style>\n",
       "<table border=\"1\" class=\"dataframe\">\n",
       "  <thead>\n",
       "    <tr style=\"text-align: right;\">\n",
       "      <th></th>\n",
       "      <th>count</th>\n",
       "      <th>a_label</th>\n",
       "      <th>b_label</th>\n",
       "    </tr>\n",
       "  </thead>\n",
       "  <tbody>\n",
       "    <tr>\n",
       "      <th>15</th>\n",
       "      <td>5</td>\n",
       "      <td>518710</td>\n",
       "      <td>518663</td>\n",
       "    </tr>\n",
       "    <tr>\n",
       "      <th>17</th>\n",
       "      <td>4</td>\n",
       "      <td>518663</td>\n",
       "      <td>518710</td>\n",
       "    </tr>\n",
       "    <tr>\n",
       "      <th>18</th>\n",
       "      <td>1</td>\n",
       "      <td>518710</td>\n",
       "      <td>2708560</td>\n",
       "    </tr>\n",
       "    <tr>\n",
       "      <th>20</th>\n",
       "      <td>1</td>\n",
       "      <td>1037289</td>\n",
       "      <td>518937</td>\n",
       "    </tr>\n",
       "    <tr>\n",
       "      <th>21</th>\n",
       "      <td>1</td>\n",
       "      <td>1037289</td>\n",
       "      <td>518663</td>\n",
       "    </tr>\n",
       "  </tbody>\n",
       "</table>\n",
       "</div>"
      ],
      "text/plain": [
       "    count  a_label  b_label\n",
       "15      5   518710   518663\n",
       "17      4   518663   518710\n",
       "18      1   518710  2708560\n",
       "20      1  1037289   518937\n",
       "21      1  1037289   518663"
      ]
     },
     "execution_count": 46,
     "metadata": {},
     "output_type": "execute_result"
    }
   ],
   "source": [
    "info_coauthorships.head()"
   ]
  },
  {
   "cell_type": "code",
   "execution_count": 36,
   "metadata": {
    "Collapsed": "false",
    "ExecuteTime": {
     "end_time": "2019-11-05T21:22:12.864450Z",
     "start_time": "2019-11-05T21:22:12.802129Z"
    }
   },
   "outputs": [
    {
     "data": {
      "text/plain": [
       "22617544"
      ]
     },
     "execution_count": 36,
     "metadata": {},
     "output_type": "execute_result"
    }
   ],
   "source": [
    "coauthorships['count'].sum()"
   ]
  },
  {
   "cell_type": "code",
   "execution_count": 33,
   "metadata": {
    "Collapsed": "false",
    "ExecuteTime": {
     "end_time": "2019-11-05T21:20:54.033665Z",
     "start_time": "2019-11-05T21:20:54.028087Z"
    }
   },
   "outputs": [],
   "source": [
    "from typing import Tuple\n",
    "def ordered_labels(a,b):\n",
    "    return min(a,b), max(a,b)\n",
    "def fix(x:Tuple[int,int],counts):\n",
    "    a = x\n",
    "    return (a[0],a[1],seq(counts).map(lambda x: x[0]).sum())"
   ]
  },
  {
   "cell_type": "code",
   "execution_count": 49,
   "metadata": {
    "Collapsed": "false",
    "ExecuteTime": {
     "end_time": "2019-11-05T21:27:32.357531Z",
     "start_time": "2019-11-05T21:27:32.349487Z"
    }
   },
   "outputs": [
    {
     "data": {
      "text/html": [
       "<div>\n",
       "<style scoped>\n",
       "    .dataframe tbody tr th:only-of-type {\n",
       "        vertical-align: middle;\n",
       "    }\n",
       "\n",
       "    .dataframe tbody tr th {\n",
       "        vertical-align: top;\n",
       "    }\n",
       "\n",
       "    .dataframe thead th {\n",
       "        text-align: right;\n",
       "    }\n",
       "</style>\n",
       "<table border=\"1\" class=\"dataframe\">\n",
       "  <thead>\n",
       "    <tr style=\"text-align: right;\">\n",
       "      <th></th>\n",
       "      <th>count</th>\n",
       "      <th>a_label</th>\n",
       "      <th>b_label</th>\n",
       "    </tr>\n",
       "  </thead>\n",
       "  <tbody>\n",
       "    <tr>\n",
       "      <th>15</th>\n",
       "      <td>5</td>\n",
       "      <td>518710</td>\n",
       "      <td>518663</td>\n",
       "    </tr>\n",
       "    <tr>\n",
       "      <th>17</th>\n",
       "      <td>4</td>\n",
       "      <td>518663</td>\n",
       "      <td>518710</td>\n",
       "    </tr>\n",
       "    <tr>\n",
       "      <th>18</th>\n",
       "      <td>1</td>\n",
       "      <td>518710</td>\n",
       "      <td>2708560</td>\n",
       "    </tr>\n",
       "    <tr>\n",
       "      <th>20</th>\n",
       "      <td>1</td>\n",
       "      <td>1037289</td>\n",
       "      <td>518937</td>\n",
       "    </tr>\n",
       "    <tr>\n",
       "      <th>21</th>\n",
       "      <td>1</td>\n",
       "      <td>1037289</td>\n",
       "      <td>518663</td>\n",
       "    </tr>\n",
       "  </tbody>\n",
       "</table>\n",
       "</div>"
      ],
      "text/plain": [
       "    count  a_label  b_label\n",
       "15      5   518710   518663\n",
       "17      4   518663   518710\n",
       "18      1   518710  2708560\n",
       "20      1  1037289   518937\n",
       "21      1  1037289   518663"
      ]
     },
     "execution_count": 49,
     "metadata": {},
     "output_type": "execute_result"
    }
   ],
   "source": [
    "info_coauthorships.head()"
   ]
  },
  {
   "cell_type": "code",
   "execution_count": 50,
   "metadata": {
    "Collapsed": "false",
    "ExecuteTime": {
     "end_time": "2019-11-05T21:28:55.105501Z",
     "start_time": "2019-11-05T21:28:07.625724Z"
    }
   },
   "outputs": [],
   "source": [
    "info_community_edges = seq(info_coauthorships)\\\n",
    ".group_by(lambda x: ordered_labels(x[1],x[2]))\\\n",
    ".map(lambda a: fix(a[0],a[1]) )\\\n",
    ".to_pandas(columns=['c1','c2','count'])\n"
   ]
  },
  {
   "cell_type": "code",
   "execution_count": 55,
   "metadata": {
    "Collapsed": "false",
    "ExecuteTime": {
     "end_time": "2019-11-05T21:31:29.480928Z",
     "start_time": "2019-11-05T21:31:29.477155Z"
    }
   },
   "outputs": [
    {
     "data": {
      "text/plain": [
       "2419475"
      ]
     },
     "execution_count": 55,
     "metadata": {},
     "output_type": "execute_result"
    }
   ],
   "source": [
    "len(info_community_edges)"
   ]
  },
  {
   "cell_type": "markdown",
   "metadata": {
    "Collapsed": "false",
    "ExecuteTime": {
     "end_time": "2019-11-05T21:32:41.027082Z",
     "start_time": "2019-11-05T21:32:41.022329Z"
    }
   },
   "source": [
    "Let's just take edges with at least 10 count"
   ]
  },
  {
   "cell_type": "code",
   "execution_count": 59,
   "metadata": {
    "Collapsed": "false",
    "ExecuteTime": {
     "end_time": "2019-11-05T21:33:05.026564Z",
     "start_time": "2019-11-05T21:33:05.008995Z"
    }
   },
   "outputs": [
    {
     "data": {
      "text/plain": [
       "4.02300003099846"
      ]
     },
     "execution_count": 59,
     "metadata": {},
     "output_type": "execute_result"
    }
   ],
   "source": [
    "len(info_community_edges)"
   ]
  },
  {
   "cell_type": "code",
   "execution_count": 65,
   "metadata": {
    "Collapsed": "false",
    "ExecuteTime": {
     "end_time": "2019-11-05T21:34:38.240440Z",
     "start_time": "2019-11-05T21:34:37.430107Z"
    }
   },
   "outputs": [],
   "source": [
    "trimmed_info_community_edges = info_community_edges.where(info_community_edges['count'] > 7).dropna()"
   ]
  },
  {
   "cell_type": "code",
   "execution_count": 66,
   "metadata": {
    "Collapsed": "false",
    "ExecuteTime": {
     "end_time": "2019-11-05T21:34:38.247918Z",
     "start_time": "2019-11-05T21:34:38.243195Z"
    }
   },
   "outputs": [
    {
     "data": {
      "text/plain": [
       "10.989078209115615"
      ]
     },
     "execution_count": 66,
     "metadata": {},
     "output_type": "execute_result"
    }
   ],
   "source": [
    "len(trimmed_info_community_edges) * 100 / len(info_community_edges)"
   ]
  },
  {
   "cell_type": "code",
   "execution_count": 67,
   "metadata": {
    "Collapsed": "false",
    "ExecuteTime": {
     "end_time": "2019-11-05T21:34:41.186694Z",
     "start_time": "2019-11-05T21:34:41.180808Z"
    }
   },
   "outputs": [
    {
     "data": {
      "text/plain": [
       "19.49700990679936"
      ]
     },
     "execution_count": 67,
     "metadata": {},
     "output_type": "execute_result"
    }
   ],
   "source": [
    "np.mean(trimmed_info_community_edges['count'])"
   ]
  },
  {
   "cell_type": "code",
   "execution_count": 69,
   "metadata": {
    "Collapsed": "false",
    "ExecuteTime": {
     "end_time": "2019-11-05T21:35:14.394050Z",
     "start_time": "2019-11-05T21:35:13.694369Z"
    }
   },
   "outputs": [],
   "source": [
    "trimmed_info_community_edges.to_csv(infomap_coauthor_community_edges_fn,index=False)"
   ]
  },
  {
   "cell_type": "code",
   "execution_count": null,
   "metadata": {
    "Collapsed": "false"
   },
   "outputs": [],
   "source": [
    "trimmed_info_community_edges = pd.read_csv(infomap_coauthor_community_edges_fn)"
   ]
  },
  {
   "cell_type": "code",
   "execution_count": 71,
   "metadata": {
    "Collapsed": "false",
    "ExecuteTime": {
     "end_time": "2019-11-05T21:58:16.449738Z",
     "start_time": "2019-11-05T21:58:16.441442Z"
    }
   },
   "outputs": [
    {
     "data": {
      "text/html": [
       "<div>\n",
       "<style scoped>\n",
       "    .dataframe tbody tr th:only-of-type {\n",
       "        vertical-align: middle;\n",
       "    }\n",
       "\n",
       "    .dataframe tbody tr th {\n",
       "        vertical-align: top;\n",
       "    }\n",
       "\n",
       "    .dataframe thead th {\n",
       "        text-align: right;\n",
       "    }\n",
       "</style>\n",
       "<table border=\"1\" class=\"dataframe\">\n",
       "  <thead>\n",
       "    <tr style=\"text-align: right;\">\n",
       "      <th></th>\n",
       "      <th>c1</th>\n",
       "      <th>c2</th>\n",
       "      <th>count</th>\n",
       "    </tr>\n",
       "  </thead>\n",
       "  <tbody>\n",
       "    <tr>\n",
       "      <th>0</th>\n",
       "      <td>518663.0</td>\n",
       "      <td>518710.0</td>\n",
       "      <td>40.0</td>\n",
       "    </tr>\n",
       "    <tr>\n",
       "      <th>3</th>\n",
       "      <td>518663.0</td>\n",
       "      <td>1037289.0</td>\n",
       "      <td>21.0</td>\n",
       "    </tr>\n",
       "    <tr>\n",
       "      <th>13</th>\n",
       "      <td>231022.0</td>\n",
       "      <td>576408.0</td>\n",
       "      <td>9.0</td>\n",
       "    </tr>\n",
       "    <tr>\n",
       "      <th>18</th>\n",
       "      <td>518670.0</td>\n",
       "      <td>11928798.0</td>\n",
       "      <td>18.0</td>\n",
       "    </tr>\n",
       "    <tr>\n",
       "      <th>19</th>\n",
       "      <td>60100.0</td>\n",
       "      <td>518675.0</td>\n",
       "      <td>12.0</td>\n",
       "    </tr>\n",
       "  </tbody>\n",
       "</table>\n",
       "</div>"
      ],
      "text/plain": [
       "          c1          c2  count\n",
       "0   518663.0    518710.0   40.0\n",
       "3   518663.0   1037289.0   21.0\n",
       "13  231022.0    576408.0    9.0\n",
       "18  518670.0  11928798.0   18.0\n",
       "19   60100.0    518675.0   12.0"
      ]
     },
     "execution_count": 71,
     "metadata": {},
     "output_type": "execute_result"
    }
   ],
   "source": [
    "trimmed_info_community_edges.head()"
   ]
  },
  {
   "cell_type": "code",
   "execution_count": 70,
   "metadata": {
    "Collapsed": "false",
    "ExecuteTime": {
     "end_time": "2019-11-05T21:35:53.166680Z",
     "start_time": "2019-11-05T21:35:53.162602Z"
    }
   },
   "outputs": [
    {
     "data": {
      "text/plain": [
       "265878"
      ]
     },
     "execution_count": 70,
     "metadata": {},
     "output_type": "execute_result"
    }
   ],
   "source": [
    "len(trimmed_info_community_edges)"
   ]
  },
  {
   "cell_type": "code",
   "execution_count": 76,
   "metadata": {
    "Collapsed": "false",
    "ExecuteTime": {
     "end_time": "2019-11-05T21:59:28.482347Z",
     "start_time": "2019-11-05T21:59:28.479178Z"
    }
   },
   "outputs": [],
   "source": [
    "info_community_nodes = seq(trimmed_info_community_edges.c1,trimmed_info_community_edges.c2).flat_map(lambda x: x).distinct().map(lambda x: int(x))"
   ]
  },
  {
   "cell_type": "code",
   "execution_count": 83,
   "metadata": {
    "Collapsed": "false",
    "ExecuteTime": {
     "end_time": "2019-11-05T22:09:52.775759Z",
     "start_time": "2019-11-05T22:09:52.628078Z"
    }
   },
   "outputs": [],
   "source": [
    "from py2neo import Graph,Node\n",
    "graph = Graph(\"bolt://127.0.0.1:7687\",auth=(\"neo4j\", \"admin\"))"
   ]
  },
  {
   "cell_type": "code",
   "execution_count": 84,
   "metadata": {
    "Collapsed": "false",
    "ExecuteTime": {
     "end_time": "2019-11-05T22:09:55.108774Z",
     "start_time": "2019-11-05T22:09:53.825101Z"
    }
   },
   "outputs": [
    {
     "data": {
      "text/plain": [
       "<py2neo.database.Cursor at 0x7fe2ab76ee50>"
      ]
     },
     "execution_count": 84,
     "metadata": {},
     "output_type": "execute_result"
    }
   ],
   "source": [
    "graph.run(\"\"\"\n",
    "unwind {nodes} as node_id\n",
    "CREATE (a:community_infomap_minor { key: node_id })\n",
    "\"\"\",nodes=info_community_nodes.to_list())"
   ]
  },
  {
   "cell_type": "code",
   "execution_count": 85,
   "metadata": {
    "Collapsed": "false",
    "ExecuteTime": {
     "end_time": "2019-11-05T22:10:53.418528Z",
     "start_time": "2019-11-05T22:10:53.413151Z"
    }
   },
   "outputs": [
    {
     "data": {
      "text/plain": [
       "47056"
      ]
     },
     "execution_count": 85,
     "metadata": {},
     "output_type": "execute_result"
    }
   ],
   "source": [
    "info_community_nodes.size()"
   ]
  },
  {
   "cell_type": "code",
   "execution_count": 86,
   "metadata": {
    "Collapsed": "false",
    "ExecuteTime": {
     "end_time": "2019-11-05T22:11:09.487003Z",
     "start_time": "2019-11-05T22:11:09.482861Z"
    }
   },
   "outputs": [
    {
     "data": {
      "text/plain": [
       "265"
      ]
     },
     "execution_count": 86,
     "metadata": {},
     "output_type": "execute_result"
    }
   ],
   "source": [
    "chunk_nb = int(len(trimmed_info_community_edges) *1.0 / 1000)\n",
    "chunk_nb"
   ]
  },
  {
   "cell_type": "code",
   "execution_count": 88,
   "metadata": {
    "Collapsed": "false",
    "ExecuteTime": {
     "end_time": "2019-11-05T22:22:44.225944Z",
     "start_time": "2019-11-05T22:22:26.883845Z"
    }
   },
   "outputs": [
    {
     "name": "stderr",
     "output_type": "stream",
     "text": [
      "\n",
      "  0%|          | 0/265 [00:00<?, ?it/s]\u001b[A\n",
      "  0%|          | 1/265 [00:00<02:34,  1.70it/s]\u001b[A\n",
      "  1%|          | 2/265 [00:00<02:00,  2.18it/s]\u001b[A\n",
      "  1%|          | 3/265 [00:00<01:36,  2.73it/s]\u001b[A\n",
      "  2%|▏         | 4/265 [00:01<01:16,  3.41it/s]\u001b[A\n",
      "  2%|▏         | 6/265 [00:01<01:00,  4.26it/s]\u001b[A\n",
      "  3%|▎         | 7/265 [00:01<00:50,  5.13it/s]\u001b[A\n",
      "  3%|▎         | 8/265 [00:01<00:43,  5.91it/s]\u001b[A\n",
      "  4%|▍         | 10/265 [00:01<00:36,  7.07it/s]\u001b[A\n",
      "  5%|▍         | 12/265 [00:01<00:31,  8.09it/s]\u001b[A\n",
      "  5%|▌         | 14/265 [00:01<00:28,  8.76it/s]\u001b[A\n",
      "  6%|▌         | 16/265 [00:02<00:25,  9.91it/s]\u001b[A\n",
      "  7%|▋         | 18/265 [00:02<00:24, 10.27it/s]\u001b[A\n",
      "  8%|▊         | 20/265 [00:02<00:21, 11.43it/s]\u001b[A\n",
      "  8%|▊         | 22/265 [00:02<00:20, 11.94it/s]\u001b[A\n",
      "  9%|▉         | 24/265 [00:02<00:19, 12.22it/s]\u001b[A\n",
      " 10%|▉         | 26/265 [00:02<00:19, 12.46it/s]\u001b[A\n",
      " 11%|█         | 28/265 [00:02<00:18, 12.70it/s]\u001b[A\n",
      " 11%|█▏        | 30/265 [00:03<00:18, 12.62it/s]\u001b[A\n",
      " 12%|█▏        | 32/265 [00:03<00:18, 12.41it/s]\u001b[A\n",
      " 13%|█▎        | 34/265 [00:03<00:17, 13.20it/s]\u001b[A\n",
      " 14%|█▎        | 36/265 [00:03<00:16, 14.04it/s]\u001b[A\n",
      " 14%|█▍        | 38/265 [00:03<00:16, 14.09it/s]\u001b[A\n",
      " 15%|█▌        | 40/265 [00:03<00:15, 14.95it/s]\u001b[A\n",
      " 16%|█▌        | 42/265 [00:03<00:14, 15.40it/s]\u001b[A\n",
      " 17%|█▋        | 44/265 [00:04<00:14, 15.57it/s]\u001b[A\n",
      " 17%|█▋        | 46/265 [00:04<00:14, 15.24it/s]\u001b[A\n",
      " 18%|█▊        | 48/265 [00:04<00:14, 14.88it/s]\u001b[A\n",
      " 19%|█▉        | 50/265 [00:04<00:14, 14.38it/s]\u001b[A\n",
      " 20%|█▉        | 52/265 [00:04<00:14, 14.23it/s]\u001b[A\n",
      " 20%|██        | 54/265 [00:04<00:13, 15.13it/s]\u001b[A\n",
      " 21%|██        | 56/265 [00:04<00:13, 15.98it/s]\u001b[A\n",
      " 22%|██▏       | 58/265 [00:04<00:12, 16.94it/s]\u001b[A\n",
      " 23%|██▎       | 60/265 [00:05<00:11, 17.36it/s]\u001b[A\n",
      " 23%|██▎       | 62/265 [00:05<00:11, 17.80it/s]\u001b[A\n",
      " 24%|██▍       | 64/265 [00:05<00:11, 17.96it/s]\u001b[A\n",
      " 25%|██▍       | 66/265 [00:05<00:10, 18.46it/s]\u001b[A\n",
      " 26%|██▌       | 68/265 [00:05<00:10, 18.06it/s]\u001b[A\n",
      " 26%|██▋       | 70/265 [00:05<00:11, 17.36it/s]\u001b[A\n",
      " 27%|██▋       | 72/265 [00:05<00:11, 17.23it/s]\u001b[A\n",
      " 28%|██▊       | 74/265 [00:05<00:10, 17.39it/s]\u001b[A\n",
      " 29%|██▊       | 76/265 [00:05<00:10, 17.81it/s]\u001b[A\n",
      " 29%|██▉       | 78/265 [00:06<00:10, 17.78it/s]\u001b[A\n",
      " 30%|███       | 80/265 [00:06<00:11, 16.50it/s]\u001b[A\n",
      " 31%|███       | 82/265 [00:06<00:10, 16.73it/s]\u001b[A\n",
      " 32%|███▏      | 84/265 [00:06<00:10, 17.36it/s]\u001b[A\n",
      " 32%|███▏      | 86/265 [00:06<00:10, 16.81it/s]\u001b[A\n",
      " 33%|███▎      | 88/265 [00:06<00:10, 16.51it/s]\u001b[A\n",
      " 34%|███▍      | 90/265 [00:06<00:10, 16.46it/s]\u001b[A\n",
      " 35%|███▍      | 92/265 [00:06<00:10, 16.62it/s]\u001b[A\n",
      " 35%|███▌      | 94/265 [00:07<00:09, 17.10it/s]\u001b[A\n",
      " 36%|███▌      | 96/265 [00:07<00:09, 17.48it/s]\u001b[A\n",
      " 37%|███▋      | 98/265 [00:07<00:10, 16.13it/s]\u001b[A\n",
      " 38%|███▊      | 100/265 [00:07<00:09, 16.73it/s]\u001b[A\n",
      " 38%|███▊      | 102/265 [00:07<00:09, 17.20it/s]\u001b[A\n",
      " 39%|███▉      | 104/265 [00:07<00:09, 17.15it/s]\u001b[A\n",
      " 40%|████      | 106/265 [00:07<00:09, 17.08it/s]\u001b[A\n",
      " 41%|████      | 108/265 [00:07<00:09, 16.83it/s]\u001b[A\n",
      " 42%|████▏     | 110/265 [00:07<00:09, 16.84it/s]\u001b[A\n",
      " 42%|████▏     | 112/265 [00:08<00:09, 16.51it/s]\u001b[A\n",
      " 43%|████▎     | 114/265 [00:08<00:09, 16.50it/s]\u001b[A\n",
      " 44%|████▍     | 116/265 [00:08<00:08, 16.99it/s]\u001b[A\n",
      " 45%|████▍     | 118/265 [00:08<00:08, 17.05it/s]\u001b[A\n",
      " 45%|████▌     | 120/265 [00:08<00:08, 16.57it/s]\u001b[A\n",
      " 46%|████▌     | 122/265 [00:08<00:08, 16.77it/s]\u001b[A\n",
      " 47%|████▋     | 124/265 [00:08<00:08, 16.99it/s]\u001b[A\n",
      " 48%|████▊     | 126/265 [00:08<00:08, 17.33it/s]\u001b[A\n",
      " 48%|████▊     | 128/265 [00:09<00:07, 17.54it/s]\u001b[A\n",
      " 49%|████▉     | 130/265 [00:09<00:07, 17.41it/s]\u001b[A\n",
      " 50%|████▉     | 132/265 [00:09<00:07, 17.64it/s]\u001b[A\n",
      " 51%|█████     | 134/265 [00:09<00:07, 17.98it/s]\u001b[A\n",
      " 51%|█████▏    | 136/265 [00:09<00:07, 17.56it/s]\u001b[A\n",
      " 52%|█████▏    | 138/265 [00:09<00:07, 17.77it/s]\u001b[A\n",
      " 53%|█████▎    | 140/265 [00:09<00:07, 17.74it/s]\u001b[A\n",
      " 54%|█████▎    | 142/265 [00:09<00:07, 17.56it/s]\u001b[A\n",
      " 54%|█████▍    | 144/265 [00:09<00:06, 17.81it/s]\u001b[A\n",
      " 55%|█████▌    | 146/265 [00:10<00:06, 17.84it/s]\u001b[A\n",
      " 56%|█████▌    | 148/265 [00:10<00:06, 17.53it/s]\u001b[A\n",
      " 57%|█████▋    | 150/265 [00:10<00:06, 16.59it/s]\u001b[A\n",
      " 57%|█████▋    | 152/265 [00:10<00:06, 16.64it/s]\u001b[A\n",
      " 58%|█████▊    | 154/265 [00:10<00:06, 15.93it/s]\u001b[A\n",
      " 59%|█████▉    | 156/265 [00:10<00:06, 16.11it/s]\u001b[A\n",
      " 60%|█████▉    | 158/265 [00:10<00:06, 15.48it/s]\u001b[A\n",
      " 60%|██████    | 160/265 [00:10<00:06, 16.06it/s]\u001b[A\n",
      " 61%|██████    | 162/265 [00:11<00:06, 16.33it/s]\u001b[A\n",
      " 62%|██████▏   | 164/265 [00:11<00:06, 16.60it/s]\u001b[A\n",
      " 63%|██████▎   | 166/265 [00:11<00:06, 16.46it/s]\u001b[A\n",
      " 63%|██████▎   | 168/265 [00:11<00:05, 16.75it/s]\u001b[A\n",
      " 64%|██████▍   | 170/265 [00:11<00:05, 16.55it/s]\u001b[A\n",
      " 65%|██████▍   | 172/265 [00:11<00:05, 16.71it/s]\u001b[A\n",
      " 66%|██████▌   | 174/265 [00:11<00:05, 16.90it/s]\u001b[A\n",
      " 66%|██████▋   | 176/265 [00:11<00:05, 16.85it/s]\u001b[A\n",
      " 67%|██████▋   | 178/265 [00:12<00:05, 16.80it/s]\u001b[A\n",
      " 68%|██████▊   | 180/265 [00:12<00:05, 16.58it/s]\u001b[A\n",
      " 69%|██████▊   | 182/265 [00:12<00:05, 16.21it/s]\u001b[A\n",
      " 69%|██████▉   | 184/265 [00:12<00:05, 16.17it/s]\u001b[A\n",
      " 70%|███████   | 186/265 [00:12<00:04, 16.32it/s]\u001b[A\n",
      " 71%|███████   | 188/265 [00:12<00:04, 17.22it/s]\u001b[A\n",
      " 72%|███████▏  | 190/265 [00:12<00:04, 16.74it/s]\u001b[A\n",
      " 72%|███████▏  | 192/265 [00:12<00:04, 16.61it/s]\u001b[A\n",
      " 73%|███████▎  | 194/265 [00:12<00:04, 16.42it/s]\u001b[A\n",
      " 74%|███████▍  | 196/265 [00:13<00:04, 16.44it/s]\u001b[A\n",
      " 75%|███████▍  | 198/265 [00:13<00:04, 15.97it/s]\u001b[A\n",
      " 75%|███████▌  | 200/265 [00:13<00:04, 15.02it/s]\u001b[A\n",
      " 76%|███████▌  | 202/265 [00:13<00:04, 15.61it/s]\u001b[A\n",
      " 77%|███████▋  | 204/265 [00:13<00:03, 15.47it/s]\u001b[A\n",
      " 78%|███████▊  | 206/265 [00:13<00:03, 15.54it/s]\u001b[A\n",
      " 78%|███████▊  | 208/265 [00:13<00:03, 15.31it/s]\u001b[A\n",
      " 79%|███████▉  | 210/265 [00:14<00:03, 15.88it/s]\u001b[A\n",
      " 80%|████████  | 212/265 [00:14<00:03, 16.17it/s]\u001b[A\n",
      " 81%|████████  | 214/265 [00:14<00:03, 16.25it/s]\u001b[A\n",
      " 82%|████████▏ | 216/265 [00:14<00:02, 16.36it/s]\u001b[A\n",
      " 82%|████████▏ | 218/265 [00:14<00:02, 16.43it/s]\u001b[A\n",
      " 83%|████████▎ | 220/265 [00:14<00:02, 16.72it/s]\u001b[A\n",
      " 84%|████████▍ | 222/265 [00:14<00:02, 16.71it/s]\u001b[A\n",
      " 85%|████████▍ | 224/265 [00:14<00:02, 16.51it/s]\u001b[A\n",
      " 85%|████████▌ | 226/265 [00:14<00:02, 16.64it/s]\u001b[A\n",
      " 86%|████████▌ | 228/265 [00:15<00:02, 16.66it/s]\u001b[A\n",
      " 87%|████████▋ | 230/265 [00:15<00:02, 16.95it/s]\u001b[A\n",
      " 88%|████████▊ | 232/265 [00:15<00:01, 16.77it/s]\u001b[A\n",
      " 88%|████████▊ | 234/265 [00:15<00:01, 17.10it/s]\u001b[A\n",
      " 89%|████████▉ | 236/265 [00:15<00:01, 17.63it/s]\u001b[A\n",
      " 90%|████████▉ | 238/265 [00:15<00:01, 17.75it/s]\u001b[A\n",
      " 91%|█████████ | 240/265 [00:15<00:01, 17.86it/s]\u001b[A\n",
      " 91%|█████████▏| 242/265 [00:15<00:01, 17.25it/s]\u001b[A\n",
      " 92%|█████████▏| 244/265 [00:16<00:01, 17.21it/s]\u001b[A\n",
      " 93%|█████████▎| 246/265 [00:16<00:01, 16.74it/s]\u001b[A\n",
      " 94%|█████████▎| 248/265 [00:16<00:01, 16.95it/s]\u001b[A\n",
      " 94%|█████████▍| 250/265 [00:16<00:00, 16.88it/s]\u001b[A\n",
      " 95%|█████████▌| 252/265 [00:16<00:00, 16.86it/s]\u001b[A\n",
      " 96%|█████████▌| 254/265 [00:16<00:00, 16.94it/s]\u001b[A\n",
      " 97%|█████████▋| 256/265 [00:16<00:00, 16.86it/s]\u001b[A\n",
      " 97%|█████████▋| 258/265 [00:16<00:00, 17.10it/s]\u001b[A\n",
      " 98%|█████████▊| 260/265 [00:16<00:00, 16.95it/s]\u001b[A\n",
      " 99%|█████████▉| 262/265 [00:17<00:00, 17.08it/s]\u001b[A\n",
      "100%|██████████| 265/265 [00:17<00:00, 15.33it/s]\u001b[A\n"
     ]
    }
   ],
   "source": [
    "import tqdm\n",
    "for i,chunk in tqdm.tqdm(enumerate(np.array_split(trimmed_info_community_edges,chunk_nb)),total=chunk_nb):\n",
    "    entries = seq(chunk).map(lambda x : {'a':x[0],'b':x[1],'cnt':x[2]}).to_list()\n",
    "    tx= graph.begin()\n",
    "    tx.run(\"\"\"\n",
    "unwind {entries} as e\n",
    "MATCH (a:community_infomap_minor{key:e.a})\n",
    "with a,e\n",
    "MATCH (b:community_infomap_minor{key:e.b})\n",
    "merge (a)-[:COMMUNITY_COAUTHORS_WITH{count:e.cnt}]-(b)\n",
    "\"\"\",entries=entries)\n",
    "    tx.commit()"
   ]
  },
  {
   "cell_type": "code",
   "execution_count": null,
   "metadata": {
    "Collapsed": "false"
   },
   "outputs": [],
   "source": []
  }
 ],
 "metadata": {
  "kernelspec": {
   "display_name": "Python 3",
   "language": "python",
   "name": "python3"
  },
  "language_info": {
   "codemirror_mode": {
    "name": "ipython",
    "version": 3
   },
   "file_extension": ".py",
   "mimetype": "text/x-python",
   "name": "python",
   "nbconvert_exporter": "python",
   "pygments_lexer": "ipython3",
   "version": "3.8.0"
  }
 },
 "nbformat": 4,
 "nbformat_minor": 4
}
