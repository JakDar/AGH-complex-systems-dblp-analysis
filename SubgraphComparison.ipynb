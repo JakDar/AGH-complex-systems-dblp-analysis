{
 "cells": [
  {
   "cell_type": "markdown",
   "metadata": {
    "Collapsed": "false"
   },
   "source": [
    "#### Imports"
   ]
  },
  {
   "cell_type": "code",
   "execution_count": 1,
   "metadata": {
    "Collapsed": "false",
    "ExecuteTime": {
     "end_time": "2019-12-11T16:07:04.584086Z",
     "start_time": "2019-12-11T16:07:04.580616Z"
    },
    "scrolled": true
   },
   "outputs": [],
   "source": [
    "from typing import Dict, List, Tuple, Optional\n",
    "from collections import namedtuple"
   ]
  },
  {
   "cell_type": "code",
   "execution_count": 2,
   "metadata": {
    "Collapsed": "false",
    "ExecuteTime": {
     "end_time": "2019-12-11T16:07:04.805256Z",
     "start_time": "2019-12-11T16:07:04.777160Z"
    },
    "scrolled": true
   },
   "outputs": [],
   "source": [
    "from functional import seq, pseq\n",
    "from functional.streams import Sequence\n",
    "from IPython.core.display import HTML\n",
    "\n",
    "def display_seq(sequence:Sequence,rows:int)-> None:\n",
    "        sequence._repr_html_= lambda :sequence.tabulate(rows,tablefmt='html')\n",
    "        display(sequence)\n",
    "        sequence._repr_html_= lambda :sequence.tabulate(10,tablefmt='html')"
   ]
  },
  {
   "cell_type": "code",
   "execution_count": 3,
   "metadata": {
    "Collapsed": "false",
    "ExecuteTime": {
     "end_time": "2019-12-11T16:07:05.615953Z",
     "start_time": "2019-12-11T16:07:04.937643Z"
    },
    "scrolled": true
   },
   "outputs": [],
   "source": [
    "import numpy as np\n",
    "import pandas as pd\n",
    "import matplotlib.pyplot as plt\n",
    "plt.rcParams['figure.figsize'] = [15, 8]\n",
    "import seaborn as sns\n",
    "import igraph as ig"
   ]
  },
  {
   "cell_type": "code",
   "execution_count": 4,
   "metadata": {
    "Collapsed": "false",
    "ExecuteTime": {
     "end_time": "2019-12-11T16:07:05.623162Z",
     "start_time": "2019-12-11T16:07:05.618276Z"
    },
    "scrolled": true
   },
   "outputs": [],
   "source": [
    "import os\n",
    "import functools\n",
    "def compose(*functions):\n",
    "    def compose2(f, g):\n",
    "        return lambda x: f(g(x))\n",
    "    return functools.reduce(compose2, functions, lambda x: x)"
   ]
  },
  {
   "cell_type": "markdown",
   "metadata": {
    "Collapsed": "false",
    "ExecuteTime": {
     "end_time": "2019-05-20T08:45:09.261251Z",
     "start_time": "2019-05-20T08:45:09.258254Z"
    }
   },
   "source": [
    "#  Csv Processing"
   ]
  },
  {
   "cell_type": "code",
   "execution_count": 5,
   "metadata": {
    "Collapsed": "false",
    "ExecuteTime": {
     "end_time": "2019-12-11T16:07:05.632170Z",
     "start_time": "2019-12-11T16:07:05.627019Z"
    },
    "scrolled": true
   },
   "outputs": [
    {
     "data": {
      "text/plain": [
       "['email-Eu-core-department-labels.txt', 'email-Eu-core.txt', 'eu.csv']"
      ]
     },
     "execution_count": 5,
     "metadata": {},
     "output_type": "execute_result"
    }
   ],
   "source": [
    "base_dir = \"./eu/\"\n",
    "os.listdir(base_dir)"
   ]
  },
  {
   "cell_type": "code",
   "execution_count": 6,
   "metadata": {
    "Collapsed": "false",
    "ExecuteTime": {
     "end_time": "2019-12-11T16:07:05.646986Z",
     "start_time": "2019-12-11T16:07:05.634713Z"
    }
   },
   "outputs": [],
   "source": [
    "with open(base_dir + 'email-Eu-core.txt') as f:\n",
    "    edges = seq(f.readlines()).drop_while(lambda line : line[:1] == \"#\")\\\n",
    "    .map(lambda line: line.strip().split(\" \"))\\\n",
    "    .map(lambda strTup: (int(strTup[0]),int(strTup[1])))"
   ]
  },
  {
   "cell_type": "code",
   "execution_count": 7,
   "metadata": {
    "Collapsed": "false",
    "ExecuteTime": {
     "end_time": "2019-12-11T16:07:06.977306Z",
     "start_time": "2019-12-11T16:07:06.964194Z"
    }
   },
   "outputs": [],
   "source": [
    "ground_truth_communities = pd.read_csv(base_dir + \"email-Eu-core-department-labels.txt\",header=None,names=['node','community'], sep='\\s+')"
   ]
  },
  {
   "cell_type": "code",
   "execution_count": 8,
   "metadata": {
    "Collapsed": "false"
   },
   "outputs": [],
   "source": [
    "aggr = ground_truth_communities.groupby('community',as_index=False).count()"
   ]
  },
  {
   "cell_type": "code",
   "execution_count": 9,
   "metadata": {
    "Collapsed": "false"
   },
   "outputs": [
    {
     "data": {
      "text/plain": [
       "Text(0, 0.5, 'Community size')"
      ]
     },
     "execution_count": 9,
     "metadata": {},
     "output_type": "execute_result"
    },
    {
     "data": {
      "image/png": "[encoded data removed]",
      "text/plain": [
       "<Figure size 1080x576 with 1 Axes>"
      ]
     },
     "metadata": {
      "needs_background": "light"
     },
     "output_type": "display_data"
    }
   ],
   "source": [
    "plt.bar(aggr.community,aggr.node)\n",
    "plt.title(\"Ground truth community sizes\")\n",
    "plt.xlabel(\"Community nr\")\n",
    "plt.ylabel(\"Community size\")"
   ]
  },
  {
   "cell_type": "code",
   "execution_count": 10,
   "metadata": {
    "Collapsed": "false"
   },
   "outputs": [],
   "source": [
    "import igraph as ig"
   ]
  },
  {
   "cell_type": "code",
   "execution_count": 11,
   "metadata": {
    "Collapsed": "false"
   },
   "outputs": [],
   "source": [
    "g = ig.Graph.TupleList(edges.to_list())"
   ]
  },
  {
   "cell_type": "code",
   "execution_count": 12,
   "metadata": {
    "Collapsed": "false"
   },
   "outputs": [],
   "source": [
    "### Ground truth community modularity"
   ]
  },
  {
   "cell_type": "code",
   "execution_count": 13,
   "metadata": {
    "Collapsed": "false"
   },
   "outputs": [
    {
     "data": {
      "text/plain": [
       "0.31550491081535154"
      ]
     },
     "execution_count": 13,
     "metadata": {},
     "output_type": "execute_result"
    }
   ],
   "source": [
    "g.modularity(ground_truth_communities.community)"
   ]
  },
  {
   "cell_type": "code",
   "execution_count": 14,
   "metadata": {
    "Collapsed": "false"
   },
   "outputs": [
    {
     "data": {
      "text/plain": [
       "1005"
      ]
     },
     "execution_count": 14,
     "metadata": {},
     "output_type": "execute_result"
    }
   ],
   "source": [
    "len(g.vs)"
   ]
  },
  {
   "cell_type": "code",
   "execution_count": 22,
   "metadata": {
    "Collapsed": "false"
   },
   "outputs": [],
   "source": [
    "im_communities = g.community_infomap()\n",
    "lm_communities = g.community_multilevel()\n",
    "lp_communities = g.community_label_propagation()\n",
    "clusts = {\n",
    "    \"Ground truth\": ground_truth_communities.community,\n",
    "    \"Infomap\" : im_communities,\n",
    "    \"Multilevel\":lm_communities,\n",
    "    \"Label propagation\":lp_communities,\n",
    "}"
   ]
  },
  {
   "cell_type": "code",
   "execution_count": 23,
   "metadata": {
    "Collapsed": "false"
   },
   "outputs": [
    {
     "data": {
      "image/png": "[encoded data removed]",
      "text/plain": [
       "<Figure size 1080x576 with 4 Axes>"
      ]
     },
     "metadata": {
      "needs_background": "light"
     },
     "output_type": "display_data"
    },
    {
     "name": "stdout",
     "output_type": "stream",
     "text": [
      "==========\n",
      "|Descriptior|Ground truth|Infomap|Multilevel|Label propagation|\n",
      "|Modularity|0.32|0.06|0.44|0.0|\n",
      "|Communities count|42|330|26|31|\n",
      "|Community avg size|23.93|3.05|38.65|32.42|\n",
      "|Community size std|24.22|1.59|72.93|174.94|\n",
      "|Community max size|109.0|11.0|245.0|975.0|\n"
     ]
    }
   ],
   "source": [
    "descriptiors_ = [\"Descriptior\"]\n",
    "modularity_ = [\"Modularity\"]\n",
    "cnt_ = [\"Communities count\"]\n",
    "avg_ = [\"Community avg size\"]\n",
    "std_ = [\"Community size std\"]\n",
    "max_ = [\"Community max size\"]\n",
    "\n",
    "for i,kv in enumerate(clusts.items()):\n",
    "    k,v = kv\n",
    "    if type(v) == pd.Series:\n",
    "        communities = seq(v)\\\n",
    "        .count_by_value().order_by(lambda x: -x[1])\\\n",
    "        .to_pandas(columns= [\"community\",\"size\"])\n",
    "    else:\n",
    "        communities = seq(v.membership)\\\n",
    "        .count_by_value().order_by(lambda x: -x[1])\\\n",
    "        .to_pandas(columns= [\"community\",\"size\"])\n",
    "    \n",
    "    plt.subplot(220 + 1 + i)\n",
    "    plot = communities['size'].hist(bins= 20)\n",
    "    plot.set_title(k)\n",
    "    plot.set_xlabel(\"Community size\")\n",
    "    plot.set_ylabel(\"Community count\")\n",
    "    \n",
    "\n",
    "    desc = communities['size'].describe()[[\"mean\",\"std\",\"max\"]]\n",
    "    descriptiors_.append(k)\n",
    "    m = round(g.modularity(v),2)\n",
    "    modularity_.append(m)\n",
    "    cnt_.append(len(communities))\n",
    "    avg = round(desc['mean'],2)\n",
    "    avg_.append(avg)\n",
    "    std = round(desc['std'],2)\n",
    "    std_.append(std)\n",
    "    _max = desc['max']\n",
    "    max_.append(_max)\n",
    "\n",
    "\n",
    "    \n",
    "plt.tight_layout()\n",
    "plt.show()\n",
    "print(\"=\"* 10)\n",
    "for l in [descriptiors_,modularity_,cnt_,avg_,std_,max_]:\n",
    "    str_l = seq(l).map(str).to_list()\n",
    "    print(\"|{}|\".format(\"|\".join(str_l)))"
   ]
  },
  {
   "cell_type": "code",
   "execution_count": 15,
   "metadata": {
    "Collapsed": "false",
    "ExecuteTime": {
     "end_time": "2019-12-11T16:10:13.399470Z",
     "start_time": "2019-12-11T16:10:13.382429Z"
    }
   },
   "outputs": [
    {
     "data": {
      "text/html": [
       "<div>\n",
       "<style scoped>\n",
       "    .dataframe tbody tr th:only-of-type {\n",
       "        vertical-align: middle;\n",
       "    }\n",
       "\n",
       "    .dataframe tbody tr th {\n",
       "        vertical-align: top;\n",
       "    }\n",
       "\n",
       "    .dataframe thead th {\n",
       "        text-align: right;\n",
       "    }\n",
       "</style>\n",
       "<table border=\"1\" class=\"dataframe\">\n",
       "  <thead>\n",
       "    <tr style=\"text-align: right;\">\n",
       "      <th></th>\n",
       "      <th>id</th>\n",
       "      <th>community</th>\n",
       "      <th>alpha</th>\n",
       "      <th>beta</th>\n",
       "    </tr>\n",
       "  </thead>\n",
       "  <tbody>\n",
       "    <tr>\n",
       "      <th>0</th>\n",
       "      <td>0</td>\n",
       "      <td>1</td>\n",
       "      <td>1.0</td>\n",
       "      <td>0.0</td>\n",
       "    </tr>\n",
       "  </tbody>\n",
       "</table>\n",
       "</div>"
      ],
      "text/plain": [
       "   id  community  alpha  beta\n",
       "0   0          1    1.0   0.0"
      ]
     },
     "execution_count": 15,
     "metadata": {},
     "output_type": "execute_result"
    }
   ],
   "source": [
    "particles = pd.read_csv(base_dir + \"eu.csv\")\n",
    "particles.head(n=1)"
   ]
  },
  {
   "cell_type": "code",
   "execution_count": 18,
   "metadata": {
    "Collapsed": "false"
   },
   "outputs": [
    {
     "data": {
      "text/plain": [
       "[0.0, 0.05, 0.1, 0.15, 0.2, 0.25, 0.3, 0.35, 0.4, 0.45, 0.5, 0.55, 0.6, 0.65, 0.7, 0.75, 0.8, 0.85]"
      ]
     },
     "execution_count": 18,
     "metadata": {},
     "output_type": "execute_result"
    }
   ],
   "source": [
    "seq(particles.beta.drop_duplicates()).sorted()"
   ]
  },
  {
   "cell_type": "code",
   "execution_count": 19,
   "metadata": {
    "Collapsed": "false",
    "ExecuteTime": {
     "end_time": "2019-12-11T16:15:23.744246Z",
     "start_time": "2019-12-11T16:15:23.742158Z"
    }
   },
   "outputs": [],
   "source": [
    "desired_betas = [0.05, 0.1 , 0.2 , 0.3]"
   ]
  },
  {
   "cell_type": "code",
   "execution_count": 24,
   "metadata": {
    "Collapsed": "false"
   },
   "outputs": [
    {
     "data": {
      "text/plain": [
       "igraph.Vertex(<igraph.Graph object at 0x7f37fa5d5e50>, 0, {'name': 0})"
      ]
     },
     "execution_count": 24,
     "metadata": {},
     "output_type": "execute_result"
    }
   ],
   "source": [
    "list(g.vs)[0]"
   ]
  },
  {
   "cell_type": "code",
   "execution_count": 21,
   "metadata": {
    "Collapsed": "false",
    "ExecuteTime": {
     "end_time": "2019-12-11T16:28:59.876041Z",
     "start_time": "2019-12-11T16:28:59.843668Z"
    }
   },
   "outputs": [
    {
     "data": {
      "text/html": [
       "<div>\n",
       "<style scoped>\n",
       "    .dataframe tbody tr th:only-of-type {\n",
       "        vertical-align: middle;\n",
       "    }\n",
       "\n",
       "    .dataframe tbody tr th {\n",
       "        vertical-align: top;\n",
       "    }\n",
       "\n",
       "    .dataframe thead th {\n",
       "        text-align: right;\n",
       "    }\n",
       "</style>\n",
       "<table border=\"1\" class=\"dataframe\">\n",
       "  <thead>\n",
       "    <tr style=\"text-align: right;\">\n",
       "      <th></th>\n",
       "      <th>alpha</th>\n",
       "      <th>beta</th>\n",
       "    </tr>\n",
       "  </thead>\n",
       "  <tbody>\n",
       "    <tr>\n",
       "      <th>3015</th>\n",
       "      <td>1.0</td>\n",
       "      <td>0.30</td>\n",
       "    </tr>\n",
       "    <tr>\n",
       "      <th>7035</th>\n",
       "      <td>1.0</td>\n",
       "      <td>0.10</td>\n",
       "    </tr>\n",
       "    <tr>\n",
       "      <th>8040</th>\n",
       "      <td>1.0</td>\n",
       "      <td>0.05</td>\n",
       "    </tr>\n",
       "    <tr>\n",
       "      <th>13065</th>\n",
       "      <td>1.0</td>\n",
       "      <td>0.20</td>\n",
       "    </tr>\n",
       "  </tbody>\n",
       "</table>\n",
       "</div>"
      ],
      "text/plain": [
       "       alpha  beta\n",
       "3015     1.0  0.30\n",
       "7035     1.0  0.10\n",
       "8040     1.0  0.05\n",
       "13065    1.0  0.20"
      ]
     },
     "execution_count": 21,
     "metadata": {},
     "output_type": "execute_result"
    }
   ],
   "source": [
    "particles.where(particles.beta.isin(desired_betas))[['alpha','beta']].drop_duplicates().dropna()"
   ]
  },
  {
   "cell_type": "code",
   "execution_count": 27,
   "metadata": {
    "Collapsed": "false",
    "ExecuteTime": {
     "end_time": "2019-12-11T16:36:03.827168Z",
     "start_time": "2019-12-11T16:36:03.767597Z"
    }
   },
   "outputs": [
    {
     "name": "stdout",
     "output_type": "stream",
     "text": [
      "==========\n",
      "|Descriptior|PM b=0.05|PM b=0.1|PM b=0.2|PM b=0.3|\n",
      "|Modularity|0.21|0.25|0.35|0.34|\n",
      "|Communities count|21|16|53|62|\n",
      "|Community avg size|47.86|62.81|18.96|16.21|\n",
      "|Community size std|106.79|111.44|40.08|36.21|\n",
      "|Community max size|484.0|422.0|216.0|188.0|\n"
     ]
    }
   ],
   "source": [
    "descriptiors_ = [\"Descriptior\"]\n",
    "modularity_ = [\"Modularity\"]\n",
    "cnt_ = [\"Communities count\"]\n",
    "avg_ = [\"Community avg size\"]\n",
    "std_ = [\"Community size std\"]\n",
    "max_ = [\"Community max size\"]\n",
    "\n",
    "for beta in desired_betas:\n",
    "    df = particles.where(particles.beta == beta).dropna()\n",
    "    person_to_communiy = seq(df[['id','community']]).to_dict()\n",
    "    membership = seq(list(g.vs)).map(lambda x: person_to_communiy[x['name']]).to_list()\n",
    "    \n",
    "    communities = seq(membership)\\\n",
    "    .count_by_value().order_by(lambda x: -x[1])\\\n",
    "    .to_pandas(columns= [\"community\",\"size\"])\n",
    "    \n",
    "#     plot = communities['size'].hist(bins= 20)\n",
    "#     plot.set_title(k)\n",
    "#     plot.set_xlabel(\"Community size\")\n",
    "#     plot.set_ylabel(\"Community count\")\n",
    "#     plt.show()\n",
    "    \n",
    "\n",
    "    desc = communities['size'].describe()[[\"mean\",\"std\",\"max\"]]\n",
    "#     print(\"|Descriptor|{}|\".format(\"Particles b={}\".format(beta)) )\n",
    "#     print(\"|Modularity |{}|\".format(round(g.modularity(membership),2)))\n",
    "#     print(\"|Communities count|{}|\".format(len(communities)))\n",
    "#     print(\"|Community avg size|{}|\".format(desc['mean']))\n",
    "#     print(\"|Community size std|{}|\".format(round(desc['std']),2))\n",
    "#     print(\"|Community max size|{}|\".format(desc['max']))\n",
    "    descriptiors_.append(\"PM b={}\".format(beta)) \n",
    "    modularity_.append(round(g.modularity(membership),2))\n",
    "    cnt_.append(len(communities))\n",
    "    avg_.append(round(desc['mean'],2))\n",
    "    std_.append(round(desc['std'],2))\n",
    "    max_.append(desc['max'])\n",
    "    \n",
    "print(\"=\"* 10)\n",
    "for l in [descriptiors_,modularity_,cnt_,avg_,std_,max_]:\n",
    "    str_l = seq(l).map(str).to_list()\n",
    "    print(\"|{}|\".format(\"|\".join(str_l)))"
   ]
  },
  {
   "cell_type": "code",
   "execution_count": 43,
   "metadata": {
    "Collapsed": "false",
    "ExecuteTime": {
     "end_time": "2019-12-11T16:27:08.280882Z",
     "start_time": "2019-12-11T16:27:08.278390Z"
    }
   },
   "outputs": [],
   "source": []
  },
  {
   "cell_type": "code",
   "execution_count": 44,
   "metadata": {
    "Collapsed": "false",
    "ExecuteTime": {
     "end_time": "2019-12-11T16:27:08.853989Z",
     "start_time": "2019-12-11T16:27:08.851109Z"
    }
   },
   "outputs": [],
   "source": []
  },
  {
   "cell_type": "code",
   "execution_count": 46,
   "metadata": {
    "Collapsed": "false",
    "ExecuteTime": {
     "end_time": "2019-12-11T16:27:25.994917Z",
     "start_time": "2019-12-11T16:27:25.990984Z"
    }
   },
   "outputs": [],
   "source": []
  },
  {
   "cell_type": "code",
   "execution_count": 66,
   "metadata": {
    "Collapsed": "false",
    "ExecuteTime": {
     "end_time": "2019-12-10T19:18:48.640932Z",
     "start_time": "2019-12-10T19:18:46.751743Z"
    }
   },
   "outputs": [],
   "source": [
    "im_communities = g.community_infomap(edge_weights=g.edge_attributes()[0],trials = 30)"
   ]
  },
  {
   "cell_type": "code",
   "execution_count": 67,
   "metadata": {
    "Collapsed": "false",
    "ExecuteTime": {
     "end_time": "2019-12-10T19:18:48.656592Z",
     "start_time": "2019-12-10T19:18:48.642590Z"
    }
   },
   "outputs": [],
   "source": [
    "lm_communities = g.community_multilevel(weights=g.edge_attributes()[0])"
   ]
  },
  {
   "cell_type": "code",
   "execution_count": 68,
   "metadata": {
    "Collapsed": "false",
    "ExecuteTime": {
     "end_time": "2019-12-10T19:18:48.665302Z",
     "start_time": "2019-12-10T19:18:48.658675Z"
    }
   },
   "outputs": [],
   "source": [
    "lp_communities = g.community_label_propagation(weights=g.edge_attributes()[0])"
   ]
  },
  {
   "cell_type": "code",
   "execution_count": 88,
   "metadata": {
    "Collapsed": "false",
    "ExecuteTime": {
     "end_time": "2019-12-10T20:15:06.377475Z",
     "start_time": "2019-12-10T20:15:06.374615Z"
    }
   },
   "outputs": [],
   "source": [
    "clusts = {\n",
    "    \"Infomap\" : im_communities,\n",
    "    \"Multilevel\":lm_communities,\n",
    "    \"Label propagation\":lp_communities\n",
    "}"
   ]
  },
  {
   "cell_type": "code",
   "execution_count": 94,
   "metadata": {
    "Collapsed": "false",
    "ExecuteTime": {
     "end_time": "2019-12-10T20:20:25.555049Z",
     "start_time": "2019-12-10T20:20:25.543816Z"
    }
   },
   "outputs": [
    {
     "name": "stdout",
     "output_type": "stream",
     "text": [
      "count     39.000000\n",
      "mean      16.000000\n",
      "std       43.757105\n",
      "max      272.000000\n",
      "Name: size, dtype: float64\n"
     ]
    }
   ],
   "source": []
  },
  {
   "cell_type": "markdown",
   "metadata": {
    "Collapsed": "false",
    "ExecuteTime": {
     "end_time": "2019-12-10T21:10:11.888497Z",
     "start_time": "2019-12-10T21:10:11.883571Z"
    }
   },
   "source": [
    "For `modularity` we can use membership array in `g.modularity(arr)`\n",
    "where `arr[i]` = community_nr of `list(g.vs)[i]`"
   ]
  },
  {
   "cell_type": "code",
   "execution_count": 102,
   "metadata": {
    "Collapsed": "false",
    "ExecuteTime": {
     "end_time": "2019-12-10T20:34:15.478879Z",
     "start_time": "2019-12-10T20:34:14.854377Z"
    }
   },
   "outputs": [
    {
     "data": {
      "image/png": "[encoded data removed]",
      "text/plain": [
       "<Figure size 1080x576 with 1 Axes>"
      ]
     },
     "metadata": {
      "needs_background": "light"
     },
     "output_type": "display_data"
    },
    {
     "name": "stdout",
     "output_type": "stream",
     "text": [
      "|Descriptor|Infomap|\n",
      "|Modularity |0.55|\n",
      "|Communities count|50|\n",
      "|Community avg size|12.48|\n",
      "|Community size std|14.0|\n",
      "|Community max size|63.0|\n"
     ]
    },
    {
     "data": {
      "image/png": "[encoded data removed]",
      "text/plain": [
       "<Figure size 1080x576 with 1 Axes>"
      ]
     },
     "metadata": {
      "needs_background": "light"
     },
     "output_type": "display_data"
    },
    {
     "name": "stdout",
     "output_type": "stream",
     "text": [
      "|Descriptor|Multilevel|\n",
      "|Modularity |0.58|\n",
      "|Communities count|15|\n",
      "|Community avg size|41.6|\n",
      "|Community size std|32.0|\n",
      "|Community max size|105.0|\n"
     ]
    },
    {
     "data": {
      "image/png": "[encoded data removed]",
      "text/plain": [
       "<Figure size 1080x576 with 1 Axes>"
      ]
     },
     "metadata": {
      "needs_background": "light"
     },
     "output_type": "display_data"
    },
    {
     "name": "stdout",
     "output_type": "stream",
     "text": [
      "|Descriptor|Label propagation|\n",
      "|Modularity |0.45|\n",
      "|Communities count|39|\n",
      "|Community avg size|16.0|\n",
      "|Community size std|44.0|\n",
      "|Community max size|272.0|\n"
     ]
    }
   ],
   "source": [
    "for k,v in clusts.items():\n",
    "    communities = seq(v.membership)\\\n",
    "    .count_by_value().order_by(lambda x: -x[1])\\\n",
    "    .to_pandas(columns= [\"community\",\"size\"])\n",
    "    \n",
    "    plot = communities['size'].hist(bins= 20)\n",
    "    plot.set_title(k)\n",
    "    plot.set_xlabel(\"Community size\")\n",
    "    plot.set_ylabel(\"Community count\")\n",
    "    plt.show()\n",
    "    \n",
    "\n",
    "    desc = communities['size'].describe()[[\"mean\",\"std\",\"max\"]]\n",
    "    print(\"|Descriptor|{}|\".format(k) )\n",
    "    print(\"|Modularity |{}|\".format(round(g.modularity(v),2)))\n",
    "    print(\"|Communities count|{}|\".format(len(communities)))\n",
    "    print(\"|Community avg size|{}|\".format(desc['mean']))\n",
    "    print(\"|Community size std|{}|\".format(round(desc['std']),2))\n",
    "    print(\"|Community max size|{}|\".format(desc['max']))"
   ]
  },
  {
   "cell_type": "code",
   "execution_count": null,
   "metadata": {
    "Collapsed": "false"
   },
   "outputs": [],
   "source": []
  },
  {
   "cell_type": "code",
   "execution_count": 63,
   "metadata": {
    "Collapsed": "false",
    "ExecuteTime": {
     "end_time": "2019-12-10T19:17:18.773349Z",
     "start_time": "2019-12-10T19:17:18.769778Z"
    }
   },
   "outputs": [
    {
     "data": {
      "text/plain": [
       "0.5463515877988907"
      ]
     },
     "execution_count": 63,
     "metadata": {},
     "output_type": "execute_result"
    }
   ],
   "source": []
  },
  {
   "cell_type": "code",
   "execution_count": 61,
   "metadata": {
    "Collapsed": "false",
    "ExecuteTime": {
     "end_time": "2019-12-10T15:18:15.864474Z",
     "start_time": "2019-12-10T15:18:15.851640Z"
    }
   },
   "outputs": [
    {
     "ename": "IndexError",
     "evalue": "list index out of range",
     "output_type": "error",
     "traceback": [
      "\u001b[0;31m---------------------------------------------------------------------------\u001b[0m",
      "\u001b[0;31mIndexError\u001b[0m                                Traceback (most recent call last)",
      "\u001b[0;32m/usr/lib/python3.8/site-packages/IPython/core/formatters.py\u001b[0m in \u001b[0;36m__call__\u001b[0;34m(self, obj)\u001b[0m\n\u001b[1;32m    343\u001b[0m             \u001b[0mmethod\u001b[0m \u001b[0;34m=\u001b[0m \u001b[0mget_real_method\u001b[0m\u001b[0;34m(\u001b[0m\u001b[0mobj\u001b[0m\u001b[0;34m,\u001b[0m \u001b[0mself\u001b[0m\u001b[0;34m.\u001b[0m\u001b[0mprint_method\u001b[0m\u001b[0;34m)\u001b[0m\u001b[0;34m\u001b[0m\u001b[0;34m\u001b[0m\u001b[0m\n\u001b[1;32m    344\u001b[0m             \u001b[0;32mif\u001b[0m \u001b[0mmethod\u001b[0m \u001b[0;32mis\u001b[0m \u001b[0;32mnot\u001b[0m \u001b[0;32mNone\u001b[0m\u001b[0;34m:\u001b[0m\u001b[0;34m\u001b[0m\u001b[0;34m\u001b[0m\u001b[0m\n\u001b[0;32m--> 345\u001b[0;31m                 \u001b[0;32mreturn\u001b[0m \u001b[0mmethod\u001b[0m\u001b[0;34m(\u001b[0m\u001b[0;34m)\u001b[0m\u001b[0;34m\u001b[0m\u001b[0;34m\u001b[0m\u001b[0m\n\u001b[0m\u001b[1;32m    346\u001b[0m             \u001b[0;32mreturn\u001b[0m \u001b[0;32mNone\u001b[0m\u001b[0;34m\u001b[0m\u001b[0;34m\u001b[0m\u001b[0m\n\u001b[1;32m    347\u001b[0m         \u001b[0;32melse\u001b[0m\u001b[0;34m:\u001b[0m\u001b[0;34m\u001b[0m\u001b[0;34m\u001b[0m\u001b[0m\n",
      "\u001b[0;32m~/.local/lib/python3.8/site-packages/igraph/drawing/__init__.py\u001b[0m in \u001b[0;36m_repr_svg_\u001b[0;34m(self)\u001b[0m\n\u001b[1;32m    347\u001b[0m         \u001b[0mcontext\u001b[0m \u001b[0;34m=\u001b[0m \u001b[0mcairo\u001b[0m\u001b[0;34m.\u001b[0m\u001b[0mContext\u001b[0m\u001b[0;34m(\u001b[0m\u001b[0msurface\u001b[0m\u001b[0;34m)\u001b[0m\u001b[0;34m\u001b[0m\u001b[0;34m\u001b[0m\u001b[0m\n\u001b[1;32m    348\u001b[0m         \u001b[0;31m# Plot the graph on this context\u001b[0m\u001b[0;34m\u001b[0m\u001b[0;34m\u001b[0m\u001b[0;34m\u001b[0m\u001b[0m\n\u001b[0;32m--> 349\u001b[0;31m         \u001b[0mself\u001b[0m\u001b[0;34m.\u001b[0m\u001b[0mredraw\u001b[0m\u001b[0;34m(\u001b[0m\u001b[0mcontext\u001b[0m\u001b[0;34m)\u001b[0m\u001b[0;34m\u001b[0m\u001b[0;34m\u001b[0m\u001b[0m\n\u001b[0m\u001b[1;32m    350\u001b[0m         \u001b[0;31m# No idea why this is needed but python crashes without\u001b[0m\u001b[0;34m\u001b[0m\u001b[0;34m\u001b[0m\u001b[0;34m\u001b[0m\u001b[0m\n\u001b[1;32m    351\u001b[0m         \u001b[0mcontext\u001b[0m\u001b[0;34m.\u001b[0m\u001b[0mshow_page\u001b[0m\u001b[0;34m(\u001b[0m\u001b[0;34m)\u001b[0m\u001b[0;34m\u001b[0m\u001b[0;34m\u001b[0m\u001b[0m\n",
      "\u001b[0;32m~/.local/lib/python3.8/site-packages/igraph/drawing/__init__.py\u001b[0m in \u001b[0;36mredraw\u001b[0;34m(self, context)\u001b[0m\n\u001b[1;32m    267\u001b[0m                 \u001b[0;32melse\u001b[0m\u001b[0;34m:\u001b[0m\u001b[0;34m\u001b[0m\u001b[0;34m\u001b[0m\u001b[0m\n\u001b[1;32m    268\u001b[0m                     \u001b[0mctx\u001b[0m\u001b[0;34m.\u001b[0m\u001b[0msave\u001b[0m\u001b[0;34m(\u001b[0m\u001b[0;34m)\u001b[0m\u001b[0;34m\u001b[0m\u001b[0;34m\u001b[0m\u001b[0m\n\u001b[0;32m--> 269\u001b[0;31m                 \u001b[0mplotter\u001b[0m\u001b[0;34m(\u001b[0m\u001b[0mctx\u001b[0m\u001b[0;34m,\u001b[0m \u001b[0mbbox\u001b[0m\u001b[0;34m,\u001b[0m \u001b[0mpalette\u001b[0m\u001b[0;34m,\u001b[0m \u001b[0;34m*\u001b[0m\u001b[0margs\u001b[0m\u001b[0;34m,\u001b[0m \u001b[0;34m**\u001b[0m\u001b[0mkwds\u001b[0m\u001b[0;34m)\u001b[0m\u001b[0;34m\u001b[0m\u001b[0;34m\u001b[0m\u001b[0m\n\u001b[0m\u001b[1;32m    270\u001b[0m                 \u001b[0;32mif\u001b[0m \u001b[0mopacity\u001b[0m \u001b[0;34m<\u001b[0m \u001b[0;36m1.0\u001b[0m\u001b[0;34m:\u001b[0m\u001b[0;34m\u001b[0m\u001b[0;34m\u001b[0m\u001b[0m\n\u001b[1;32m    271\u001b[0m                     \u001b[0mctx\u001b[0m\u001b[0;34m.\u001b[0m\u001b[0mpop_group_to_source\u001b[0m\u001b[0;34m(\u001b[0m\u001b[0;34m)\u001b[0m\u001b[0;34m\u001b[0m\u001b[0;34m\u001b[0m\u001b[0m\n",
      "\u001b[0;32m~/.local/lib/python3.8/site-packages/igraph/clustering.py\u001b[0m in \u001b[0;36m__plot__\u001b[0;34m(self, context, bbox, palette, *args, **kwds)\u001b[0m\n\u001b[1;32m   1022\u001b[0m         self._names = [name if name is not None else str(idx)\n\u001b[1;32m   1023\u001b[0m                        for idx, name in enumerate(self._names)]\n\u001b[0;32m-> 1024\u001b[0;31m         result = Dendrogram.__plot__(self, context, bbox, palette, \\\n\u001b[0m\u001b[1;32m   1025\u001b[0m                 *args, **kwds)\n\u001b[1;32m   1026\u001b[0m         \u001b[0;32mdel\u001b[0m \u001b[0mself\u001b[0m\u001b[0;34m.\u001b[0m\u001b[0m_names\u001b[0m\u001b[0;34m\u001b[0m\u001b[0;34m\u001b[0m\u001b[0m\n",
      "\u001b[0;32m~/.local/lib/python3.8/site-packages/igraph/clustering.py\u001b[0m in \u001b[0;36m__plot__\u001b[0;34m(self, context, bbox, palette, *args, **kwds)\u001b[0m\n\u001b[1;32m    805\u001b[0m         \u001b[0;31m# Calculate coordinates\u001b[0m\u001b[0;34m\u001b[0m\u001b[0;34m\u001b[0m\u001b[0;34m\u001b[0m\u001b[0m\n\u001b[1;32m    806\u001b[0m         \u001b[0mlayout\u001b[0m \u001b[0;34m=\u001b[0m \u001b[0mLayout\u001b[0m\u001b[0;34m(\u001b[0m\u001b[0;34m[\u001b[0m\u001b[0;34m(\u001b[0m\u001b[0;36m0\u001b[0m\u001b[0;34m,\u001b[0m \u001b[0;36m0\u001b[0m\u001b[0;34m)\u001b[0m\u001b[0;34m]\u001b[0m \u001b[0;34m*\u001b[0m \u001b[0mself\u001b[0m\u001b[0;34m.\u001b[0m\u001b[0m_nitems\u001b[0m\u001b[0;34m,\u001b[0m \u001b[0mdim\u001b[0m\u001b[0;34m=\u001b[0m\u001b[0;36m2\u001b[0m\u001b[0;34m)\u001b[0m\u001b[0;34m\u001b[0m\u001b[0;34m\u001b[0m\u001b[0m\n\u001b[0;32m--> 807\u001b[0;31m         \u001b[0minorder\u001b[0m \u001b[0;34m=\u001b[0m \u001b[0mself\u001b[0m\u001b[0;34m.\u001b[0m\u001b[0m_traverse_inorder\u001b[0m\u001b[0;34m(\u001b[0m\u001b[0;34m)\u001b[0m\u001b[0;34m\u001b[0m\u001b[0;34m\u001b[0m\u001b[0m\n\u001b[0m\u001b[1;32m    808\u001b[0m         \u001b[0;32mif\u001b[0m \u001b[0;32mnot\u001b[0m \u001b[0mhoriz\u001b[0m\u001b[0;34m:\u001b[0m\u001b[0;34m\u001b[0m\u001b[0;34m\u001b[0m\u001b[0m\n\u001b[1;32m    809\u001b[0m             \u001b[0mx\u001b[0m\u001b[0;34m,\u001b[0m \u001b[0my\u001b[0m \u001b[0;34m=\u001b[0m \u001b[0;36m0\u001b[0m\u001b[0;34m,\u001b[0m \u001b[0;36m0\u001b[0m\u001b[0;34m\u001b[0m\u001b[0;34m\u001b[0m\u001b[0m\n",
      "\u001b[0;32m~/.local/lib/python3.8/site-packages/igraph/clustering.py\u001b[0m in \u001b[0;36m_traverse_inorder\u001b[0;34m(self)\u001b[0m\n\u001b[1;32m    617\u001b[0m                     \u001b[0;31m# 'last' is a merge node, so let us proceed with the entry\u001b[0m\u001b[0;34m\u001b[0m\u001b[0;34m\u001b[0m\u001b[0;34m\u001b[0m\u001b[0m\n\u001b[1;32m    618\u001b[0m                     \u001b[0;31m# where this merge node was created\u001b[0m\u001b[0;34m\u001b[0m\u001b[0;34m\u001b[0m\u001b[0;34m\u001b[0m\u001b[0m\n\u001b[0;32m--> 619\u001b[0;31m                     \u001b[0mstack\u001b[0m\u001b[0;34m.\u001b[0m\u001b[0mextend\u001b[0m\u001b[0;34m(\u001b[0m\u001b[0mself\u001b[0m\u001b[0;34m.\u001b[0m\u001b[0m_merges\u001b[0m\u001b[0;34m[\u001b[0m\u001b[0mlast\u001b[0m\u001b[0;34m-\u001b[0m\u001b[0mself\u001b[0m\u001b[0;34m.\u001b[0m\u001b[0m_nitems\u001b[0m\u001b[0;34m]\u001b[0m\u001b[0;34m)\u001b[0m\u001b[0;34m\u001b[0m\u001b[0;34m\u001b[0m\u001b[0m\n\u001b[0m\u001b[1;32m    620\u001b[0m \u001b[0;34m\u001b[0m\u001b[0m\n\u001b[1;32m    621\u001b[0m         \u001b[0;32mreturn\u001b[0m \u001b[0mresult\u001b[0m\u001b[0;34m\u001b[0m\u001b[0;34m\u001b[0m\u001b[0m\n",
      "\u001b[0;31mIndexError\u001b[0m: list index out of range"
     ]
    },
    {
     "data": {
      "text/plain": [
       "<igraph.drawing.Plot at 0x7f81a7bb9f10>"
      ]
     },
     "execution_count": 61,
     "metadata": {},
     "output_type": "execute_result"
    }
   ],
   "source": [
    "ig.plot(ddg)"
   ]
  },
  {
   "cell_type": "code",
   "execution_count": 28,
   "metadata": {
    "Collapsed": "false",
    "ExecuteTime": {
     "end_time": "2019-12-10T14:53:18.006866Z",
     "start_time": "2019-12-10T14:53:18.002409Z"
    }
   },
   "outputs": [
    {
     "data": {
      "text/plain": [
       "1.14845664086854"
      ]
     },
     "execution_count": 28,
     "metadata": {},
     "output_type": "execute_result"
    }
   ],
   "source": [
    "ig.compare_communities(im_communities,lm_communities)"
   ]
  },
  {
   "cell_type": "code",
   "execution_count": 27,
   "metadata": {
    "Collapsed": "false",
    "ExecuteTime": {
     "end_time": "2019-12-10T14:52:15.577242Z",
     "start_time": "2019-12-10T14:52:15.573348Z"
    }
   },
   "outputs": [
    {
     "data": {
      "text/html": [
       "<table>\n",
       "<tbody>\n",
       "<tr><td style=\"text-align: right;\"> 3</td><td style=\"text-align: right;\">166</td></tr>\n",
       "<tr><td style=\"text-align: right;\"> 0</td><td style=\"text-align: right;\"> 54</td></tr>\n",
       "<tr><td style=\"text-align: right;\"> 4</td><td style=\"text-align: right;\"> 54</td></tr>\n",
       "<tr><td style=\"text-align: right;\"> 2</td><td style=\"text-align: right;\"> 46</td></tr>\n",
       "<tr><td style=\"text-align: right;\"> 8</td><td style=\"text-align: right;\"> 34</td></tr>\n",
       "<tr><td style=\"text-align: right;\">18</td><td style=\"text-align: right;\"> 30</td></tr>\n",
       "<tr><td style=\"text-align: right;\">20</td><td style=\"text-align: right;\"> 22</td></tr>\n",
       "<tr><td style=\"text-align: right;\">12</td><td style=\"text-align: right;\"> 16</td></tr>\n",
       "<tr><td style=\"text-align: right;\">16</td><td style=\"text-align: right;\"> 13</td></tr>\n",
       "<tr><td style=\"text-align: right;\">17</td><td style=\"text-align: right;\"> 12</td></tr>\n",
       "</tbody>\n",
       "</table><p>Showing 10 of 48 rows"
      ],
      "text/plain": [
       "[(3, 166), (0, 54), (4, 54), (2, 46), (8, 34), (18, 30), (20, 22), (12, 16), (16, 13), (17, 12), (15, 10), (10, 9), (25, 9), (27, 9), (31, 8), (14, 7), (29, 7), (34, 7), (42, 7), (6, 6), (11, 6), (21, 6), (30, 6), (5, 5), (9, 5), (19, 5), (1, 4), (7, 4), (13, 4), (26, 4), (33, 4), (39, 4), (40, 4), (41, 4), (22, 3), (23, 3), (24, 3), (32, 3), (43, 3), (28, 2), (35, 2), (36, 2), (37, 2), (38, 2), (44, 2), (45, 2), (46, 2), (47, 2)]"
      ]
     },
     "execution_count": 27,
     "metadata": {},
     "output_type": "execute_result"
    }
   ],
   "source": []
  },
  {
   "cell_type": "markdown",
   "metadata": {
    "Collapsed": "false"
   },
   "source": [
    "### Local transitivity"
   ]
  },
  {
   "cell_type": "code",
   "execution_count": 12,
   "metadata": {
    "Collapsed": "false",
    "ExecuteTime": {
     "end_time": "2019-12-10T11:51:31.247023Z",
     "start_time": "2019-12-10T11:51:03.114637Z"
    }
   },
   "outputs": [],
   "source": [
    "trans_local = g.transitivity_local_undirected(mode=\"zero\",weights =\"weight\")"
   ]
  },
  {
   "cell_type": "code",
   "execution_count": 13,
   "metadata": {
    "Collapsed": "false",
    "ExecuteTime": {
     "end_time": "2019-12-10T11:51:31.259200Z",
     "start_time": "2019-12-10T11:51:31.248407Z"
    }
   },
   "outputs": [
    {
     "data": {
      "text/plain": [
       "True"
      ]
     },
     "execution_count": 13,
     "metadata": {},
     "output_type": "execute_result"
    }
   ],
   "source": [
    "len(trans_local) == len(g.vs)"
   ]
  },
  {
   "cell_type": "code",
   "execution_count": 14,
   "metadata": {
    "Collapsed": "false",
    "ExecuteTime": {
     "end_time": "2019-12-10T11:51:32.609804Z",
     "start_time": "2019-12-10T11:51:31.261493Z"
    }
   },
   "outputs": [],
   "source": [
    "df_trans_local = seq(list(g.vs)).map(lambda node:node['id']).zip(trans_local).to_pandas(columns= ['key','trans'])"
   ]
  },
  {
   "cell_type": "code",
   "execution_count": 15,
   "metadata": {
    "Collapsed": "false",
    "ExecuteTime": {
     "end_time": "2019-12-10T11:51:32.613978Z",
     "start_time": "2019-12-10T11:51:32.610947Z"
    }
   },
   "outputs": [],
   "source": [
    "def plot_trans(s:pd.Series,label:str,log:bool = True):\n",
    "    plot = s.hist(bins=100)\n",
    "    plot.set_xlabel(label)\n",
    "    plot.set_ylabel(\"Node count\")\n",
    "    if log:\n",
    "        plot.set_yscale('log')"
   ]
  },
  {
   "cell_type": "code",
   "execution_count": 16,
   "metadata": {
    "Collapsed": "false",
    "ExecuteTime": {
     "end_time": "2019-12-10T11:51:33.215310Z",
     "start_time": "2019-12-10T11:51:32.615375Z"
    }
   },
   "outputs": [
    {
     "data": {
      "text/plain": [
       "[]"
      ]
     },
     "execution_count": 16,
     "metadata": {},
     "output_type": "execute_result"
    }
   ],
   "source": [
    "list(df_trans_local.where(df_trans_local.trans > 1).dropna().key)"
   ]
  },
  {
   "cell_type": "code",
   "execution_count": 17,
   "metadata": {
    "Collapsed": "false",
    "ExecuteTime": {
     "end_time": "2019-12-10T11:51:34.376648Z",
     "start_time": "2019-12-10T11:51:33.217234Z"
    }
   },
   "outputs": [
    {
     "data": {
      "image/png": "[encoded data removed]",
      "text/plain": [
       "<Figure size 1080x576 with 1 Axes>"
      ]
     },
     "metadata": {
      "needs_background": "light"
     },
     "output_type": "display_data"
    },
    {
     "data": {
      "image/png": "[encoded data removed]",
      "text/plain": [
       "<Figure size 1080x576 with 1 Axes>"
      ]
     },
     "metadata": {
      "needs_background": "light"
     },
     "output_type": "display_data"
    }
   ],
   "source": [
    "plot_trans(df_trans_local.trans, 'Local transitivity',log=True)\n",
    "plt.show()\n",
    "plot_trans(df_trans_local.trans, 'Local transitivity',log=False)"
   ]
  },
  {
   "cell_type": "markdown",
   "metadata": {
    "Collapsed": "false"
   },
   "source": [
    "# Pagerank"
   ]
  },
  {
   "cell_type": "code",
   "execution_count": 18,
   "metadata": {
    "Collapsed": "false",
    "ExecuteTime": {
     "end_time": "2019-12-10T11:52:00.849218Z",
     "start_time": "2019-12-10T11:51:59.957843Z"
    }
   },
   "outputs": [],
   "source": [
    "keyset = seq(list(g.vs)).map(lambda x : x['id']).to_set()"
   ]
  },
  {
   "cell_type": "code",
   "execution_count": 38,
   "metadata": {
    "Collapsed": "false",
    "ExecuteTime": {
     "end_time": "2019-12-09T21:19:20.293024Z",
     "start_time": "2019-12-09T21:19:20.288432Z"
    }
   },
   "outputs": [
    {
     "data": {
      "text/plain": [
       "True"
      ]
     },
     "execution_count": 38,
     "metadata": {},
     "output_type": "execute_result"
    }
   ],
   "source": [
    "\"jeffrey d. ullman_pers\" in keyset"
   ]
  },
  {
   "cell_type": "code",
   "execution_count": 19,
   "metadata": {
    "Collapsed": "false",
    "ExecuteTime": {
     "end_time": "2019-12-10T11:52:27.917984Z",
     "start_time": "2019-12-10T11:52:02.321923Z"
    }
   },
   "outputs": [],
   "source": [
    "pr = g.pagerank(directed=False,weights='weight')"
   ]
  },
  {
   "cell_type": "code",
   "execution_count": 20,
   "metadata": {
    "Collapsed": "false",
    "ExecuteTime": {
     "end_time": "2019-12-10T11:52:29.378820Z",
     "start_time": "2019-12-10T11:52:27.919466Z"
    }
   },
   "outputs": [],
   "source": [
    "df_pr= seq(list(g.vs)).map(lambda node:node['id']).zip(pr).to_pandas(columns= ['key','pr'])"
   ]
  },
  {
   "cell_type": "code",
   "execution_count": 21,
   "metadata": {
    "Collapsed": "false",
    "ExecuteTime": {
     "end_time": "2019-12-10T11:52:30.193462Z",
     "start_time": "2019-12-10T11:52:29.380307Z"
    }
   },
   "outputs": [],
   "source": [
    "top = df_pr.sort_values('pr',ascending=False).head(n=16)"
   ]
  },
  {
   "cell_type": "code",
   "execution_count": 23,
   "metadata": {
    "Collapsed": "false",
    "ExecuteTime": {
     "end_time": "2019-12-10T11:53:00.446249Z",
     "start_time": "2019-12-10T11:52:55.539476Z"
    }
   },
   "outputs": [],
   "source": [
    "persons = pd.read_csv(base_dir + \"persons.csv\").drop_duplicates(subset=\"key\").dropna()\n",
    "pers_dict = seq(persons).to_dict()\n",
    "del persons"
   ]
  },
  {
   "cell_type": "code",
   "execution_count": 24,
   "metadata": {
    "Collapsed": "false",
    "ExecuteTime": {
     "end_time": "2019-12-10T11:53:13.411518Z",
     "start_time": "2019-12-10T11:53:13.406998Z"
    }
   },
   "outputs": [],
   "source": [
    "top['name'] = top.key.apply(lambda x: pers_dict[x])"
   ]
  },
  {
   "cell_type": "code",
   "execution_count": 25,
   "metadata": {
    "Collapsed": "false",
    "ExecuteTime": {
     "end_time": "2019-12-10T11:53:18.065323Z",
     "start_time": "2019-12-10T11:53:18.056406Z"
    }
   },
   "outputs": [
    {
     "name": "stdout",
     "output_type": "stream",
     "text": [
      "            name        pr\n",
      "        Wei Wang  0.000067\n",
      "          Wei Li  0.000067\n",
      "       Wei Zhang  0.000066\n",
      "        Lei Wang  0.000059\n",
      "       Lei Zhang  0.000056\n",
      "        Yu Zhang  0.000056\n",
      "        Jun Wang  0.000055\n",
      "        Yang Liu  0.000054\n",
      "         Jing Li  0.000054\n",
      "        Xin Wang  0.000053\n",
      " H. Vincent Poor  0.000052\n",
      "        Li Zhang  0.000050\n",
      "       Jing Wang  0.000050\n",
      "   Nadeem Javaid  0.000048\n",
      "        Wei Chen  0.000048\n",
      "    Nassir Navab  0.000048\n"
     ]
    }
   ],
   "source": [
    "print(top[['name','pr']].to_string(index=False))"
   ]
  }
 ],
 "metadata": {
  "kernelspec": {
   "display_name": "Python 3",
   "language": "python",
   "name": "python3"
  },
  "language_info": {
   "codemirror_mode": {
    "name": "ipython",
    "version": 3
   },
   "file_extension": ".py",
   "mimetype": "text/x-python",
   "name": "python",
   "nbconvert_exporter": "python",
   "pygments_lexer": "ipython3",
   "version": "3.8.0"
  }
 },
 "nbformat": 4,
 "nbformat_minor": 4
}
