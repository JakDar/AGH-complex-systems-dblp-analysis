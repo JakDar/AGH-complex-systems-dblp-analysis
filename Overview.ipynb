{
 "cells": [
  {
   "cell_type": "code",
   "execution_count": 1,
   "metadata": {
    "Collapsed": "false",
    "ExecuteTime": {
     "end_time": "2019-12-11T20:40:53.069288Z",
     "start_time": "2019-12-11T20:40:53.054682Z"
    }
   },
   "outputs": [],
   "source": [
    "%load_ext autoreload\n",
    "%autoreload 2"
   ]
  },
  {
   "cell_type": "code",
   "execution_count": 2,
   "metadata": {
    "Collapsed": "false",
    "ExecuteTime": {
     "end_time": "2019-12-11T20:40:53.924821Z",
     "start_time": "2019-12-11T20:40:53.283392Z"
    }
   },
   "outputs": [],
   "source": [
    "import matplotlib.pyplot as plt\n",
    "import pandas as pd\n",
    "import numpy as np\n",
    "import seaborn as sns\n",
    "\n",
    "from util import show_df"
   ]
  },
  {
   "cell_type": "code",
   "execution_count": 3,
   "metadata": {
    "Collapsed": "false",
    "ExecuteTime": {
     "end_time": "2019-12-11T20:40:53.938047Z",
     "start_time": "2019-12-11T20:40:53.926146Z"
    }
   },
   "outputs": [],
   "source": [
    "%matplotlib inline"
   ]
  },
  {
   "cell_type": "code",
   "execution_count": 4,
   "metadata": {
    "Collapsed": "false",
    "ExecuteTime": {
     "end_time": "2019-12-11T20:40:53.950480Z",
     "start_time": "2019-12-11T20:40:53.939718Z"
    }
   },
   "outputs": [],
   "source": [
    "plt.rcParams['figure.figsize'] = [15, 8]"
   ]
  },
  {
   "cell_type": "markdown",
   "metadata": {
    "Collapsed": "false"
   },
   "source": [
    "# Loading the data "
   ]
  },
  {
   "cell_type": "code",
   "execution_count": 5,
   "metadata": {
    "Collapsed": "false",
    "ExecuteTime": {
     "end_time": "2019-12-11T20:41:13.600458Z",
     "start_time": "2019-12-11T20:40:53.951766Z"
    }
   },
   "outputs": [],
   "source": [
    "from util import get_envs, cached_load\n",
    "base_dir = get_envs()[\"base_dir\"]\n",
    "\n",
    "authors = pd.read_csv(base_dir + \"persons.csv\")\n",
    "authored = pd.read_csv(base_dir + \"authored.csv\")\n",
    "publications = pd.read_csv(base_dir + \"publications.csv\")\n",
    "citations = pd.read_csv(base_dir + \"cited.csv\")"
   ]
  },
  {
   "cell_type": "code",
   "execution_count": 6,
   "metadata": {
    "Collapsed": "false",
    "ExecuteTime": {
     "end_time": "2019-12-11T20:41:13.612876Z",
     "start_time": "2019-12-11T20:41:13.601734Z"
    }
   },
   "outputs": [],
   "source": [
    "# authors = authors.sample(100000)\n",
    "# authored = authored.sample(100000)\n",
    "# publications = publications.sample(100000)"
   ]
  },
  {
   "cell_type": "markdown",
   "metadata": {
    "Collapsed": "false"
   },
   "source": [
    "# Statistical Overview"
   ]
  },
  {
   "cell_type": "markdown",
   "metadata": {
    "Collapsed": "true"
   },
   "source": [
    "## Data"
   ]
  },
  {
   "cell_type": "markdown",
   "metadata": {
    "Collapsed": "false"
   },
   "source": [
    "### Description"
   ]
  },
  {
   "cell_type": "code",
   "execution_count": 7,
   "metadata": {
    "Collapsed": "false",
    "ExecuteTime": {
     "end_time": "2019-12-11T20:41:20.079411Z",
     "start_time": "2019-12-11T20:41:13.614127Z"
    }
   },
   "outputs": [
    {
     "data": {
      "text/html": [
       "<div>\n",
       "<style scoped>\n",
       "    .dataframe tbody tr th:only-of-type {\n",
       "        vertical-align: middle;\n",
       "    }\n",
       "\n",
       "    .dataframe tbody tr th {\n",
       "        vertical-align: top;\n",
       "    }\n",
       "\n",
       "    .dataframe thead th {\n",
       "        text-align: right;\n",
       "    }\n",
       "</style>\n",
       "<table border=\"1\" class=\"dataframe\">\n",
       "  <thead>\n",
       "    <tr style=\"text-align: right;\">\n",
       "      <th></th>\n",
       "      <th>key</th>\n",
       "      <th>name</th>\n",
       "    </tr>\n",
       "  </thead>\n",
       "  <tbody>\n",
       "    <tr>\n",
       "      <th>count</th>\n",
       "      <td>2436603</td>\n",
       "      <td>2436603</td>\n",
       "    </tr>\n",
       "    <tr>\n",
       "      <th>unique</th>\n",
       "      <td>2429524</td>\n",
       "      <td>2436329</td>\n",
       "    </tr>\n",
       "    <tr>\n",
       "      <th>top</th>\n",
       "      <td>wenan tan_pers</td>\n",
       "      <td>Yanan Jin</td>\n",
       "    </tr>\n",
       "    <tr>\n",
       "      <th>freq</th>\n",
       "      <td>3</td>\n",
       "      <td>3</td>\n",
       "    </tr>\n",
       "  </tbody>\n",
       "</table>\n",
       "</div>"
      ],
      "text/plain": [
       "                   key       name\n",
       "count          2436603    2436603\n",
       "unique         2429524    2436329\n",
       "top     wenan tan_pers  Yanan Jin\n",
       "freq                 3          3"
      ]
     },
     "execution_count": 7,
     "metadata": {},
     "output_type": "execute_result"
    }
   ],
   "source": [
    "authors.describe(include='all')"
   ]
  },
  {
   "cell_type": "code",
   "execution_count": 8,
   "metadata": {
    "Collapsed": "false",
    "ExecuteTime": {
     "end_time": "2019-12-11T20:41:35.442340Z",
     "start_time": "2019-12-11T20:41:20.081130Z"
    }
   },
   "outputs": [
    {
     "data": {
      "text/html": [
       "<div>\n",
       "<style scoped>\n",
       "    .dataframe tbody tr th:only-of-type {\n",
       "        vertical-align: middle;\n",
       "    }\n",
       "\n",
       "    .dataframe tbody tr th {\n",
       "        vertical-align: top;\n",
       "    }\n",
       "\n",
       "    .dataframe thead th {\n",
       "        text-align: right;\n",
       "    }\n",
       "</style>\n",
       "<table border=\"1\" class=\"dataframe\">\n",
       "  <thead>\n",
       "    <tr style=\"text-align: right;\">\n",
       "      <th></th>\n",
       "      <th>author_name</th>\n",
       "      <th>publication_key</th>\n",
       "    </tr>\n",
       "  </thead>\n",
       "  <tbody>\n",
       "    <tr>\n",
       "      <th>count</th>\n",
       "      <td>14394421</td>\n",
       "      <td>14394421</td>\n",
       "    </tr>\n",
       "    <tr>\n",
       "      <th>unique</th>\n",
       "      <td>2427700</td>\n",
       "      <td>4772570</td>\n",
       "    </tr>\n",
       "    <tr>\n",
       "      <th>top</th>\n",
       "      <td>h. vincent poor_pers</td>\n",
       "      <td>journals/corr/AartsenA13</td>\n",
       "    </tr>\n",
       "    <tr>\n",
       "      <th>freq</th>\n",
       "      <td>1784</td>\n",
       "      <td>287</td>\n",
       "    </tr>\n",
       "  </tbody>\n",
       "</table>\n",
       "</div>"
      ],
      "text/plain": [
       "                 author_name           publication_key\n",
       "count               14394421                  14394421\n",
       "unique               2427700                   4772570\n",
       "top     h. vincent poor_pers  journals/corr/AartsenA13\n",
       "freq                    1784                       287"
      ]
     },
     "execution_count": 8,
     "metadata": {},
     "output_type": "execute_result"
    }
   ],
   "source": [
    "authored.describe(include='all')"
   ]
  },
  {
   "cell_type": "code",
   "execution_count": 9,
   "metadata": {
    "Collapsed": "false",
    "ExecuteTime": {
     "end_time": "2019-12-11T20:41:50.487891Z",
     "start_time": "2019-12-11T20:41:35.443945Z"
    }
   },
   "outputs": [
    {
     "data": {
      "text/html": [
       "<div>\n",
       "<style scoped>\n",
       "    .dataframe tbody tr th:only-of-type {\n",
       "        vertical-align: middle;\n",
       "    }\n",
       "\n",
       "    .dataframe tbody tr th {\n",
       "        vertical-align: top;\n",
       "    }\n",
       "\n",
       "    .dataframe thead th {\n",
       "        text-align: right;\n",
       "    }\n",
       "</style>\n",
       "<table border=\"1\" class=\"dataframe\">\n",
       "  <thead>\n",
       "    <tr style=\"text-align: right;\">\n",
       "      <th></th>\n",
       "      <th>key</th>\n",
       "      <th>type</th>\n",
       "      <th>title</th>\n",
       "    </tr>\n",
       "  </thead>\n",
       "  <tbody>\n",
       "    <tr>\n",
       "      <th>count</th>\n",
       "      <td>4809168</td>\n",
       "      <td>4809168</td>\n",
       "      <td>4809168</td>\n",
       "    </tr>\n",
       "    <tr>\n",
       "      <th>unique</th>\n",
       "      <td>4809168</td>\n",
       "      <td>8</td>\n",
       "      <td>4685484</td>\n",
       "    </tr>\n",
       "    <tr>\n",
       "      <th>top</th>\n",
       "      <td>conf/interspeech/ChatterjeeS06</td>\n",
       "      <td>inproceedings</td>\n",
       "      <td>Editorial.</td>\n",
       "    </tr>\n",
       "    <tr>\n",
       "      <th>freq</th>\n",
       "      <td>1</td>\n",
       "      <td>2486041</td>\n",
       "      <td>5011</td>\n",
       "    </tr>\n",
       "  </tbody>\n",
       "</table>\n",
       "</div>"
      ],
      "text/plain": [
       "                                   key           type       title\n",
       "count                          4809168        4809168     4809168\n",
       "unique                         4809168              8     4685484\n",
       "top     conf/interspeech/ChatterjeeS06  inproceedings  Editorial.\n",
       "freq                                 1        2486041        5011"
      ]
     },
     "execution_count": 9,
     "metadata": {},
     "output_type": "execute_result"
    }
   ],
   "source": [
    "publications[['key', 'type', 'title']].describe(include='all')"
   ]
  },
  {
   "cell_type": "code",
   "execution_count": 11,
   "metadata": {
    "Collapsed": "false",
    "ExecuteTime": {
     "end_time": "2019-12-11T15:25:45.594330Z",
     "start_time": "2019-12-11T15:25:45.528200Z"
    }
   },
   "outputs": [
    {
     "data": {
      "text/html": [
       "<div>\n",
       "<style scoped>\n",
       "    .dataframe tbody tr th:only-of-type {\n",
       "        vertical-align: middle;\n",
       "    }\n",
       "\n",
       "    .dataframe tbody tr th {\n",
       "        vertical-align: top;\n",
       "    }\n",
       "\n",
       "    .dataframe thead th {\n",
       "        text-align: right;\n",
       "    }\n",
       "</style>\n",
       "<table border=\"1\" class=\"dataframe\">\n",
       "  <thead>\n",
       "    <tr style=\"text-align: right;\">\n",
       "      <th></th>\n",
       "      <th>citing</th>\n",
       "      <th>cited</th>\n",
       "    </tr>\n",
       "  </thead>\n",
       "  <tbody>\n",
       "    <tr>\n",
       "      <th>count</th>\n",
       "      <td>172576</td>\n",
       "      <td>172576</td>\n",
       "    </tr>\n",
       "    <tr>\n",
       "      <th>unique</th>\n",
       "      <td>8263</td>\n",
       "      <td>19895</td>\n",
       "    </tr>\n",
       "    <tr>\n",
       "      <th>top</th>\n",
       "      <td>books/aw/AbiteboulHV95</td>\n",
       "      <td>...</td>\n",
       "    </tr>\n",
       "    <tr>\n",
       "      <th>freq</th>\n",
       "      <td>741</td>\n",
       "      <td>60100</td>\n",
       "    </tr>\n",
       "  </tbody>\n",
       "</table>\n",
       "</div>"
      ],
      "text/plain": [
       "                        citing   cited\n",
       "count                   172576  172576\n",
       "unique                    8263   19895\n",
       "top     books/aw/AbiteboulHV95     ...\n",
       "freq                       741   60100"
      ]
     },
     "execution_count": 11,
     "metadata": {},
     "output_type": "execute_result"
    }
   ],
   "source": [
    "citations.describe(include='all')"
   ]
  },
  {
   "cell_type": "markdown",
   "metadata": {
    "Collapsed": "false"
   },
   "source": [
    "### Missing Values"
   ]
  },
  {
   "cell_type": "code",
   "execution_count": 12,
   "metadata": {
    "Collapsed": "false",
    "ExecuteTime": {
     "end_time": "2019-12-11T15:25:45.759719Z",
     "start_time": "2019-12-11T15:25:45.596402Z"
    }
   },
   "outputs": [
    {
     "data": {
      "text/plain": [
       "key     0\n",
       "name    0\n",
       "dtype: int64"
      ]
     },
     "execution_count": 12,
     "metadata": {},
     "output_type": "execute_result"
    }
   ],
   "source": [
    "authors.isna().sum()"
   ]
  },
  {
   "cell_type": "code",
   "execution_count": 13,
   "metadata": {
    "Collapsed": "false",
    "ExecuteTime": {
     "end_time": "2019-12-11T15:25:46.224546Z",
     "start_time": "2019-12-11T15:25:45.761106Z"
    }
   },
   "outputs": [
    {
     "data": {
      "text/plain": [
       "key      0\n",
       "type     0\n",
       "title    0\n",
       "year     0\n",
       "dtype: int64"
      ]
     },
     "execution_count": 13,
     "metadata": {},
     "output_type": "execute_result"
    }
   ],
   "source": [
    "publications.isna().sum()"
   ]
  },
  {
   "cell_type": "code",
   "execution_count": 41,
   "metadata": {
    "Collapsed": "false"
   },
   "outputs": [
    {
     "data": {
      "text/html": [
       "<div>\n",
       "<style scoped>\n",
       "    .dataframe tbody tr th:only-of-type {\n",
       "        vertical-align: middle;\n",
       "    }\n",
       "\n",
       "    .dataframe tbody tr th {\n",
       "        vertical-align: top;\n",
       "    }\n",
       "\n",
       "    .dataframe thead th {\n",
       "        text-align: right;\n",
       "    }\n",
       "</style>\n",
       "<table border=\"1\" class=\"dataframe\">\n",
       "  <thead>\n",
       "    <tr style=\"text-align: right;\">\n",
       "      <th></th>\n",
       "      <th>key</th>\n",
       "      <th>type</th>\n",
       "      <th>title</th>\n",
       "      <th>year</th>\n",
       "    </tr>\n",
       "  </thead>\n",
       "  <tbody>\n",
       "    <tr>\n",
       "      <th>2553598</th>\n",
       "      <td>dblpnote/ellipsis</td>\n",
       "      <td>article</td>\n",
       "      <td>…</td>\n",
       "      <td>0</td>\n",
       "    </tr>\n",
       "    <tr>\n",
       "      <th>2553599</th>\n",
       "      <td>dblpnote/error</td>\n",
       "      <td>article</td>\n",
       "      <td>(error)</td>\n",
       "      <td>0</td>\n",
       "    </tr>\n",
       "    <tr>\n",
       "      <th>2553600</th>\n",
       "      <td>dblpnote/neverpublished</td>\n",
       "      <td>article</td>\n",
       "      <td>(was never published)</td>\n",
       "      <td>0</td>\n",
       "    </tr>\n",
       "  </tbody>\n",
       "</table>\n",
       "</div>"
      ],
      "text/plain": [
       "                             key     type                  title  year\n",
       "2553598        dblpnote/ellipsis  article                      …     0\n",
       "2553599           dblpnote/error  article                (error)     0\n",
       "2553600  dblpnote/neverpublished  article  (was never published)     0"
      ]
     },
     "execution_count": 41,
     "metadata": {},
     "output_type": "execute_result"
    }
   ],
   "source": [
    "publications[publications['year'] < 1000]"
   ]
  },
  {
   "cell_type": "code",
   "execution_count": 39,
   "metadata": {
    "Collapsed": "false"
   },
   "outputs": [
    {
     "data": {
      "text/plain": [
       "author_name        0\n",
       "publication_key    0\n",
       "dtype: int64"
      ]
     },
     "execution_count": 39,
     "metadata": {},
     "output_type": "execute_result"
    }
   ],
   "source": [
    "authored.isna().sum()"
   ]
  },
  {
   "cell_type": "markdown",
   "metadata": {
    "Collapsed": "false"
   },
   "source": [
    "### Clean Up"
   ]
  },
  {
   "cell_type": "code",
   "execution_count": 42,
   "metadata": {
    "Collapsed": "false"
   },
   "outputs": [],
   "source": [
    "publications = publications[publications['year'] != 0]"
   ]
  },
  {
   "cell_type": "code",
   "execution_count": 85,
   "metadata": {
    "Collapsed": "false"
   },
   "outputs": [],
   "source": [
    "citations = citations[citations['cited'] != '...']"
   ]
  },
  {
   "cell_type": "code",
   "execution_count": null,
   "metadata": {
    "Collapsed": "false"
   },
   "outputs": [],
   "source": []
  },
  {
   "cell_type": "code",
   "execution_count": null,
   "metadata": {
    "Collapsed": "false"
   },
   "outputs": [],
   "source": []
  },
  {
   "cell_type": "markdown",
   "metadata": {
    "Collapsed": "true"
   },
   "source": [
    "## Publications "
   ]
  },
  {
   "cell_type": "markdown",
   "metadata": {
    "Collapsed": "false"
   },
   "source": [
    "### By Year"
   ]
  },
  {
   "cell_type": "code",
   "execution_count": 45,
   "metadata": {
    "Collapsed": "false"
   },
   "outputs": [
    {
     "data": {
      "image/png": "[encoded data removed]",
      "text/plain": [
       "<Figure size 432x288 with 1 Axes>"
      ]
     },
     "metadata": {
      "needs_background": "light"
     },
     "output_type": "display_data"
    }
   ],
   "source": [
    "sns.distplot(publications['year'], kde=False);"
   ]
  },
  {
   "cell_type": "markdown",
   "metadata": {
    "Collapsed": "false"
   },
   "source": [
    "### Citations"
   ]
  },
  {
   "cell_type": "code",
   "execution_count": 67,
   "metadata": {
    "Collapsed": "false"
   },
   "outputs": [],
   "source": [
    "by_citing = citations.groupby('citing').size()"
   ]
  },
  {
   "cell_type": "code",
   "execution_count": 74,
   "metadata": {
    "Collapsed": "false"
   },
   "outputs": [
    {
     "data": {
      "image/png": "[encoded data removed]",
      "text/plain": [
       "<Figure size 1080x576 with 1 Axes>"
      ]
     },
     "metadata": {
      "needs_background": "light"
     },
     "output_type": "display_data"
    }
   ],
   "source": [
    "sns.distplot(by_citing, kde=False);"
   ]
  },
  {
   "cell_type": "code",
   "execution_count": 88,
   "metadata": {
    "Collapsed": "false"
   },
   "outputs": [
    {
     "data": {
      "text/html": [
       "<div>\n",
       "<style scoped>\n",
       "    .dataframe tbody tr th:only-of-type {\n",
       "        vertical-align: middle;\n",
       "    }\n",
       "\n",
       "    .dataframe tbody tr th {\n",
       "        vertical-align: top;\n",
       "    }\n",
       "\n",
       "    .dataframe thead th {\n",
       "        text-align: right;\n",
       "    }\n",
       "</style>\n",
       "<table border=\"1\" class=\"dataframe\">\n",
       "  <thead>\n",
       "    <tr style=\"text-align: right;\">\n",
       "      <th></th>\n",
       "      <th>title</th>\n",
       "      <th>count</th>\n",
       "    </tr>\n",
       "  </thead>\n",
       "  <tbody>\n",
       "    <tr>\n",
       "      <th>0</th>\n",
       "      <td>Foundations of Databases.</td>\n",
       "      <td>741</td>\n",
       "    </tr>\n",
       "    <tr>\n",
       "      <th>1</th>\n",
       "      <td>Principles of Database and Knowledge-Base Syst...</td>\n",
       "      <td>643</td>\n",
       "    </tr>\n",
       "    <tr>\n",
       "      <th>2</th>\n",
       "      <td>Datenbanken: Implementierungstechniken</td>\n",
       "      <td>421</td>\n",
       "    </tr>\n",
       "    <tr>\n",
       "      <th>3</th>\n",
       "      <td>Concurrency Control and Recovery in Database S...</td>\n",
       "      <td>365</td>\n",
       "    </tr>\n",
       "    <tr>\n",
       "      <th>4</th>\n",
       "      <td>Query Evaluation Techniques for Large Databases.</td>\n",
       "      <td>348</td>\n",
       "    </tr>\n",
       "    <tr>\n",
       "      <th>5</th>\n",
       "      <td>Engineering a Compiler</td>\n",
       "      <td>342</td>\n",
       "    </tr>\n",
       "    <tr>\n",
       "      <th>6</th>\n",
       "      <td>The Theory of Relational Databases.</td>\n",
       "      <td>284</td>\n",
       "    </tr>\n",
       "    <tr>\n",
       "      <th>7</th>\n",
       "      <td>Query Optimization in Database Systems.</td>\n",
       "      <td>252</td>\n",
       "    </tr>\n",
       "    <tr>\n",
       "      <th>8</th>\n",
       "      <td>Orthogonally Persistent Object Systems</td>\n",
       "      <td>249</td>\n",
       "    </tr>\n",
       "    <tr>\n",
       "      <th>9</th>\n",
       "      <td>Temporal and Real-Time Databases: A Survey.</td>\n",
       "      <td>232</td>\n",
       "    </tr>\n",
       "  </tbody>\n",
       "</table>\n",
       "</div>"
      ],
      "text/plain": [
       "                                               title  count\n",
       "0                          Foundations of Databases.    741\n",
       "1  Principles of Database and Knowledge-Base Syst...    643\n",
       "2             Datenbanken: Implementierungstechniken    421\n",
       "3  Concurrency Control and Recovery in Database S...    365\n",
       "4   Query Evaluation Techniques for Large Databases.    348\n",
       "5                             Engineering a Compiler    342\n",
       "6                The Theory of Relational Databases.    284\n",
       "7            Query Optimization in Database Systems.    252\n",
       "8             Orthogonally Persistent Object Systems    249\n",
       "9        Temporal and Real-Time Databases: A Survey.    232"
      ]
     },
     "execution_count": 88,
     "metadata": {},
     "output_type": "execute_result"
    }
   ],
   "source": [
    "by_citing = by_citing.sort_values(ascending = False)[:10].to_frame('count')\n",
    "by_citing = by_citing.reset_index()\n",
    "by_citing = pd.merge(by_citing, publications, left_on='citing', right_on='key')\n",
    "\n",
    "by_citing[['title', 'count']]"
   ]
  },
  {
   "cell_type": "code",
   "execution_count": 87,
   "metadata": {
    "Collapsed": "false"
   },
   "outputs": [
    {
     "data": {
      "image/png": "[encoded data removed]",
      "text/plain": [
       "<Figure size 1080x576 with 1 Axes>"
      ]
     },
     "metadata": {
      "needs_background": "light"
     },
     "output_type": "display_data"
    }
   ],
   "source": [
    "by_cited = citations.groupby('cited').size()\n",
    "\n",
    "sns.distplot(by_cited, kde=False);"
   ]
  },
  {
   "cell_type": "code",
   "execution_count": 89,
   "metadata": {
    "Collapsed": "false"
   },
   "outputs": [
    {
     "data": {
      "text/html": [
       "<div>\n",
       "<style scoped>\n",
       "    .dataframe tbody tr th:only-of-type {\n",
       "        vertical-align: middle;\n",
       "    }\n",
       "\n",
       "    .dataframe tbody tr th {\n",
       "        vertical-align: top;\n",
       "    }\n",
       "\n",
       "    .dataframe thead th {\n",
       "        text-align: right;\n",
       "    }\n",
       "</style>\n",
       "<table border=\"1\" class=\"dataframe\">\n",
       "  <thead>\n",
       "    <tr style=\"text-align: right;\">\n",
       "      <th></th>\n",
       "      <th>title</th>\n",
       "      <th>count</th>\n",
       "    </tr>\n",
       "  </thead>\n",
       "  <tbody>\n",
       "    <tr>\n",
       "      <th>0</th>\n",
       "      <td>The Entity-Relationship Model - Toward a Unifi...</td>\n",
       "      <td>609</td>\n",
       "    </tr>\n",
       "    <tr>\n",
       "      <th>1</th>\n",
       "      <td>A Relational Model of Data for Large Shared Da...</td>\n",
       "      <td>584</td>\n",
       "    </tr>\n",
       "    <tr>\n",
       "      <th>2</th>\n",
       "      <td>Access Path Selection in a Relational Database...</td>\n",
       "      <td>373</td>\n",
       "    </tr>\n",
       "    <tr>\n",
       "      <th>3</th>\n",
       "      <td>Principles of Database and Knowledge-Base Syst...</td>\n",
       "      <td>366</td>\n",
       "    </tr>\n",
       "    <tr>\n",
       "      <th>4</th>\n",
       "      <td>Principles of Database Systems, 2nd Edition</td>\n",
       "      <td>354</td>\n",
       "    </tr>\n",
       "    <tr>\n",
       "      <th>5</th>\n",
       "      <td>The Notions of Consistency and Predicate Locks...</td>\n",
       "      <td>330</td>\n",
       "    </tr>\n",
       "    <tr>\n",
       "      <th>6</th>\n",
       "      <td>Concurrency Control and Recovery in Database S...</td>\n",
       "      <td>317</td>\n",
       "    </tr>\n",
       "    <tr>\n",
       "      <th>7</th>\n",
       "      <td>Database Abstractions: Aggregation and General...</td>\n",
       "      <td>317</td>\n",
       "    </tr>\n",
       "    <tr>\n",
       "      <th>8</th>\n",
       "      <td>Notes on Data Base Operating Systems.</td>\n",
       "      <td>302</td>\n",
       "    </tr>\n",
       "    <tr>\n",
       "      <th>9</th>\n",
       "      <td>Extending the Database Relational Model to Cap...</td>\n",
       "      <td>283</td>\n",
       "    </tr>\n",
       "  </tbody>\n",
       "</table>\n",
       "</div>"
      ],
      "text/plain": [
       "                                               title  count\n",
       "0  The Entity-Relationship Model - Toward a Unifi...    609\n",
       "1  A Relational Model of Data for Large Shared Da...    584\n",
       "2  Access Path Selection in a Relational Database...    373\n",
       "3  Principles of Database and Knowledge-Base Syst...    366\n",
       "4        Principles of Database Systems, 2nd Edition    354\n",
       "5  The Notions of Consistency and Predicate Locks...    330\n",
       "6  Concurrency Control and Recovery in Database S...    317\n",
       "7  Database Abstractions: Aggregation and General...    317\n",
       "8              Notes on Data Base Operating Systems.    302\n",
       "9  Extending the Database Relational Model to Cap...    283"
      ]
     },
     "execution_count": 89,
     "metadata": {},
     "output_type": "execute_result"
    }
   ],
   "source": [
    "by_cited = by_cited.sort_values(ascending = False)[:10].to_frame('count')\n",
    "by_cited = by_cited.reset_index()\n",
    "by_cited = pd.merge(by_cited, publications, left_on='cited', right_on='key')\n",
    "\n",
    "by_cited[['title', 'count']]"
   ]
  },
  {
   "cell_type": "markdown",
   "metadata": {
    "Collapsed": "false"
   },
   "source": [
    "### Author Count"
   ]
  },
  {
   "cell_type": "code",
   "execution_count": 18,
   "metadata": {
    "Collapsed": "false"
   },
   "outputs": [
    {
     "data": {
      "text/html": [
       "<style  type=\"text/css\" >\n",
       "</style><table id=\"T_a5adc1ca_f5a8_11e9_becb_645d86a11e31\" ><caption><b>Publications by the most authors</b></caption><thead>    <tr>        <th class=\"blank level0\" ></th>        <th class=\"col_heading level0 col0\" >title</th>        <th class=\"col_heading level0 col1\" >year</th>        <th class=\"col_heading level0 col2\" >type</th>        <th class=\"col_heading level0 col3\" >author_count</th>    </tr></thead><tbody>\n",
       "                <tr>\n",
       "                        <th id=\"T_a5adc1ca_f5a8_11e9_becb_645d86a11e31level0_row0\" class=\"row_heading level0 row0\" >0</th>\n",
       "                        <td id=\"T_a5adc1ca_f5a8_11e9_becb_645d86a11e31row0_col0\" class=\"data row0 col0\" >The IceProd Framework: Distributed Data Processing for the IceCube Neutrino Observatory.</td>\n",
       "                        <td id=\"T_a5adc1ca_f5a8_11e9_becb_645d86a11e31row0_col1\" class=\"data row0 col1\" >2013</td>\n",
       "                        <td id=\"T_a5adc1ca_f5a8_11e9_becb_645d86a11e31row0_col2\" class=\"data row0 col2\" >article</td>\n",
       "                        <td id=\"T_a5adc1ca_f5a8_11e9_becb_645d86a11e31row0_col3\" class=\"data row0 col3\" >287</td>\n",
       "            </tr>\n",
       "            <tr>\n",
       "                        <th id=\"T_a5adc1ca_f5a8_11e9_becb_645d86a11e31level0_row1\" class=\"row_heading level0 row1\" >1</th>\n",
       "                        <td id=\"T_a5adc1ca_f5a8_11e9_becb_645d86a11e31row1_col0\" class=\"data row1 col0\" >The IceProd framework: Distributed data processing for the IceCube neutrino observatory.</td>\n",
       "                        <td id=\"T_a5adc1ca_f5a8_11e9_becb_645d86a11e31row1_col1\" class=\"data row1 col1\" >2015</td>\n",
       "                        <td id=\"T_a5adc1ca_f5a8_11e9_becb_645d86a11e31row1_col2\" class=\"data row1 col2\" >article</td>\n",
       "                        <td id=\"T_a5adc1ca_f5a8_11e9_becb_645d86a11e31row1_col3\" class=\"data row1 col3\" >287</td>\n",
       "            </tr>\n",
       "            <tr>\n",
       "                        <th id=\"T_a5adc1ca_f5a8_11e9_becb_645d86a11e31level0_row2\" class=\"row_heading level0 row2\" >2</th>\n",
       "                        <td id=\"T_a5adc1ca_f5a8_11e9_becb_645d86a11e31row2_col0\" class=\"data row2 col0\" >A promoter-level mammalian expression atlas.</td>\n",
       "                        <td id=\"T_a5adc1ca_f5a8_11e9_becb_645d86a11e31row2_col1\" class=\"data row2 col1\" >2014</td>\n",
       "                        <td id=\"T_a5adc1ca_f5a8_11e9_becb_645d86a11e31row2_col2\" class=\"data row2 col2\" >article</td>\n",
       "                        <td id=\"T_a5adc1ca_f5a8_11e9_becb_645d86a11e31row2_col3\" class=\"data row2 col3\" >264</td>\n",
       "            </tr>\n",
       "            <tr>\n",
       "                        <th id=\"T_a5adc1ca_f5a8_11e9_becb_645d86a11e31level0_row3\" class=\"row_heading level0 row3\" >3</th>\n",
       "                        <td id=\"T_a5adc1ca_f5a8_11e9_becb_645d86a11e31row3_col0\" class=\"data row3 col0\" >The Sixth Visual Object Tracking VOT2018 Challenge Results.</td>\n",
       "                        <td id=\"T_a5adc1ca_f5a8_11e9_becb_645d86a11e31row3_col1\" class=\"data row3 col1\" >2018</td>\n",
       "                        <td id=\"T_a5adc1ca_f5a8_11e9_becb_645d86a11e31row3_col2\" class=\"data row3 col2\" >inproceedings</td>\n",
       "                        <td id=\"T_a5adc1ca_f5a8_11e9_becb_645d86a11e31row3_col3\" class=\"data row3 col3\" >155</td>\n",
       "            </tr>\n",
       "            <tr>\n",
       "                        <th id=\"T_a5adc1ca_f5a8_11e9_becb_645d86a11e31level0_row4\" class=\"row_heading level0 row4\" >4</th>\n",
       "                        <td id=\"T_a5adc1ca_f5a8_11e9_becb_645d86a11e31row4_col0\" class=\"data row4 col0\" >The Visual Object Tracking VOT2016 Challenge Results.</td>\n",
       "                        <td id=\"T_a5adc1ca_f5a8_11e9_becb_645d86a11e31row4_col1\" class=\"data row4 col1\" >2016</td>\n",
       "                        <td id=\"T_a5adc1ca_f5a8_11e9_becb_645d86a11e31row4_col2\" class=\"data row4 col2\" >inproceedings</td>\n",
       "                        <td id=\"T_a5adc1ca_f5a8_11e9_becb_645d86a11e31row4_col3\" class=\"data row4 col3\" >139</td>\n",
       "            </tr>\n",
       "            <tr>\n",
       "                        <th id=\"T_a5adc1ca_f5a8_11e9_becb_645d86a11e31level0_row5\" class=\"row_heading level0 row5\" >5</th>\n",
       "                        <td id=\"T_a5adc1ca_f5a8_11e9_becb_645d86a11e31row5_col0\" class=\"data row5 col0\" >Length Sensing and Control in the Virgo Gravitational Wave Interferometer.</td>\n",
       "                        <td id=\"T_a5adc1ca_f5a8_11e9_becb_645d86a11e31row5_col1\" class=\"data row5 col1\" >2006</td>\n",
       "                        <td id=\"T_a5adc1ca_f5a8_11e9_becb_645d86a11e31row5_col2\" class=\"data row5 col2\" >article</td>\n",
       "                        <td id=\"T_a5adc1ca_f5a8_11e9_becb_645d86a11e31row5_col3\" class=\"data row5 col3\" >119</td>\n",
       "            </tr>\n",
       "            <tr>\n",
       "                        <th id=\"T_a5adc1ca_f5a8_11e9_becb_645d86a11e31level0_row6\" class=\"row_heading level0 row6\" >6</th>\n",
       "                        <td id=\"T_a5adc1ca_f5a8_11e9_becb_645d86a11e31row6_col0\" class=\"data row6 col0\" >Machine Learning in High Energy Physics Community White Paper.</td>\n",
       "                        <td id=\"T_a5adc1ca_f5a8_11e9_becb_645d86a11e31row6_col1\" class=\"data row6 col1\" >2018</td>\n",
       "                        <td id=\"T_a5adc1ca_f5a8_11e9_becb_645d86a11e31row6_col2\" class=\"data row6 col2\" >article</td>\n",
       "                        <td id=\"T_a5adc1ca_f5a8_11e9_becb_645d86a11e31row6_col3\" class=\"data row6 col3\" >118</td>\n",
       "            </tr>\n",
       "            <tr>\n",
       "                        <th id=\"T_a5adc1ca_f5a8_11e9_becb_645d86a11e31level0_row7\" class=\"row_heading level0 row7\" >7</th>\n",
       "                        <td id=\"T_a5adc1ca_f5a8_11e9_becb_645d86a11e31row7_col0\" class=\"data row7 col0\" >An overview of the BlueGene/L Supercomputer.</td>\n",
       "                        <td id=\"T_a5adc1ca_f5a8_11e9_becb_645d86a11e31row7_col1\" class=\"data row7 col1\" >2002</td>\n",
       "                        <td id=\"T_a5adc1ca_f5a8_11e9_becb_645d86a11e31row7_col2\" class=\"data row7 col2\" >inproceedings</td>\n",
       "                        <td id=\"T_a5adc1ca_f5a8_11e9_becb_645d86a11e31row7_col3\" class=\"data row7 col3\" >115</td>\n",
       "            </tr>\n",
       "            <tr>\n",
       "                        <th id=\"T_a5adc1ca_f5a8_11e9_becb_645d86a11e31level0_row8\" class=\"row_heading level0 row8\" >8</th>\n",
       "                        <td id=\"T_a5adc1ca_f5a8_11e9_becb_645d86a11e31row8_col0\" class=\"data row8 col0\" >Theano: A Python framework for fast computation of mathematical expressions.</td>\n",
       "                        <td id=\"T_a5adc1ca_f5a8_11e9_becb_645d86a11e31row8_col1\" class=\"data row8 col1\" >2016</td>\n",
       "                        <td id=\"T_a5adc1ca_f5a8_11e9_becb_645d86a11e31row8_col2\" class=\"data row8 col2\" >article</td>\n",
       "                        <td id=\"T_a5adc1ca_f5a8_11e9_becb_645d86a11e31row8_col3\" class=\"data row8 col3\" >112</td>\n",
       "            </tr>\n",
       "            <tr>\n",
       "                        <th id=\"T_a5adc1ca_f5a8_11e9_becb_645d86a11e31level0_row9\" class=\"row_heading level0 row9\" >9</th>\n",
       "                        <td id=\"T_a5adc1ca_f5a8_11e9_becb_645d86a11e31row9_col0\" class=\"data row9 col0\" >The BioMart community portal: an innovative alternative to large, centralized data repositories.</td>\n",
       "                        <td id=\"T_a5adc1ca_f5a8_11e9_becb_645d86a11e31row9_col1\" class=\"data row9 col1\" >2015</td>\n",
       "                        <td id=\"T_a5adc1ca_f5a8_11e9_becb_645d86a11e31row9_col2\" class=\"data row9 col2\" >article</td>\n",
       "                        <td id=\"T_a5adc1ca_f5a8_11e9_becb_645d86a11e31row9_col3\" class=\"data row9 col3\" >105</td>\n",
       "            </tr>\n",
       "    </tbody></table>"
      ],
      "text/plain": [
       "<pandas.io.formats.style.Styler at 0x7f0bd0d5abe0>"
      ]
     },
     "execution_count": 18,
     "metadata": {},
     "output_type": "execute_result"
    }
   ],
   "source": [
    "most_authors = authored.groupby('publication_key').count().sort_values('author_name', ascending=False).rename(columns={'author_name': 'author_count'})\n",
    "most_authors_pubs = pd.merge(most_authors, publications, left_on = 'publication_key', right_on = 'key')[['title', 'year', 'type', 'author_count']]\n",
    "\n",
    "most_authors_pubs[:10].style.set_caption('<b>Publications by the most authors</b>')"
   ]
  },
  {
   "cell_type": "code",
   "execution_count": 19,
   "metadata": {
    "Collapsed": "false"
   },
   "outputs": [],
   "source": [
    "authors_pubs = pd.merge(most_authors, publications, left_on = 'publication_key', right_on = 'key')[['key', 'title', 'year', 'type', 'author_count']]"
   ]
  },
  {
   "cell_type": "code",
   "execution_count": 22,
   "metadata": {
    "Collapsed": "false"
   },
   "outputs": [
    {
     "data": {
      "image/png": "[encoded data removed]",
      "text/plain": [
       "<Figure size 1186.62x576 with 1 Axes>"
      ]
     },
     "metadata": {
      "needs_background": "light"
     },
     "output_type": "display_data"
    }
   ],
   "source": [
    "most_authors_type = authors_pubs.groupby(['author_count', 'type']).size().to_frame('count')\n",
    "most_authors_type = most_authors_type.reset_index()\n",
    "most_authors_type = most_authors_type[most_authors_type['author_count'] < 10]\n",
    "\n",
    "sns.catplot(x='author_count', y='count', hue='type', kind='swarm', data=most_authors_type, height=8, aspect=15/8);"
   ]
  },
  {
   "cell_type": "code",
   "execution_count": 10,
   "metadata": {
    "Collapsed": "false"
   },
   "outputs": [
    {
     "data": {
      "text/html": [
       "<div>\n",
       "<style scoped>\n",
       "    .dataframe tbody tr th:only-of-type {\n",
       "        vertical-align: middle;\n",
       "    }\n",
       "\n",
       "    .dataframe tbody tr th {\n",
       "        vertical-align: top;\n",
       "    }\n",
       "\n",
       "    .dataframe thead th {\n",
       "        text-align: right;\n",
       "    }\n",
       "</style>\n",
       "<table border=\"1\" class=\"dataframe\">\n",
       "  <thead>\n",
       "    <tr style=\"text-align: right;\">\n",
       "      <th></th>\n",
       "      <th>author_count</th>\n",
       "      <th>type</th>\n",
       "      <th>count</th>\n",
       "    </tr>\n",
       "  </thead>\n",
       "  <tbody>\n",
       "    <tr>\n",
       "      <th>0</th>\n",
       "      <td>1</td>\n",
       "      <td>article</td>\n",
       "      <td>900</td>\n",
       "    </tr>\n",
       "    <tr>\n",
       "      <th>1</th>\n",
       "      <td>1</td>\n",
       "      <td>book</td>\n",
       "      <td>8</td>\n",
       "    </tr>\n",
       "    <tr>\n",
       "      <th>2</th>\n",
       "      <td>1</td>\n",
       "      <td>incollection</td>\n",
       "      <td>14</td>\n",
       "    </tr>\n",
       "    <tr>\n",
       "      <th>3</th>\n",
       "      <td>1</td>\n",
       "      <td>inproceedings</td>\n",
       "      <td>1112</td>\n",
       "    </tr>\n",
       "    <tr>\n",
       "      <th>4</th>\n",
       "      <td>1</td>\n",
       "      <td>phdthesis</td>\n",
       "      <td>14</td>\n",
       "    </tr>\n",
       "    <tr>\n",
       "      <th>5</th>\n",
       "      <td>1</td>\n",
       "      <td>proceedings</td>\n",
       "      <td>17</td>\n",
       "    </tr>\n",
       "    <tr>\n",
       "      <th>6</th>\n",
       "      <td>2</td>\n",
       "      <td>article</td>\n",
       "      <td>9</td>\n",
       "    </tr>\n",
       "    <tr>\n",
       "      <th>7</th>\n",
       "      <td>2</td>\n",
       "      <td>inproceedings</td>\n",
       "      <td>10</td>\n",
       "    </tr>\n",
       "  </tbody>\n",
       "</table>\n",
       "</div>"
      ],
      "text/plain": [
       "   author_count           type  count\n",
       "0             1        article    900\n",
       "1             1           book      8\n",
       "2             1   incollection     14\n",
       "3             1  inproceedings   1112\n",
       "4             1      phdthesis     14\n",
       "5             1    proceedings     17\n",
       "6             2        article      9\n",
       "7             2  inproceedings     10"
      ]
     },
     "execution_count": 10,
     "metadata": {},
     "output_type": "execute_result"
    }
   ],
   "source": [
    "most_authors_type"
   ]
  },
  {
   "cell_type": "markdown",
   "metadata": {
    "Collapsed": "false"
   },
   "source": [
    "# Graph Analysis"
   ]
  },
  {
   "cell_type": "markdown",
   "metadata": {
    "Collapsed": "false"
   },
   "source": [
    "## Clustering Coefficient\n",
    "\n",
    "$G(N, A)$ \\\n",
    "$S_i$ - a set of neigbours of $ith$ node \\\n",
    "$n_i$ - cardinality of $S_i$ \n",
    "\n",
    "$\\eta(i) = \\frac{|(j, k) \\in A: j \\in S_i, k \\in S_i|}{n_i \\choose{2}}$"
   ]
  },
  {
   "cell_type": "markdown",
   "metadata": {
    "Collapsed": "false"
   },
   "source": [
    "## Degree distribution"
   ]
  },
  {
   "cell_type": "code",
   "execution_count": 10,
   "metadata": {
    "Collapsed": "false",
    "ExecuteTime": {
     "end_time": "2019-12-11T20:42:15.099322Z",
     "start_time": "2019-12-11T20:42:07.586865Z"
    }
   },
   "outputs": [],
   "source": [
    "coauthorships = pd.read_csv(base_dir + 'coauthorships.csv',names= ['a_key','b_key','count'])"
   ]
  },
  {
   "cell_type": "code",
   "execution_count": 11,
   "metadata": {
    "Collapsed": "false",
    "ExecuteTime": {
     "end_time": "2019-12-11T20:42:15.786800Z",
     "start_time": "2019-12-11T20:42:15.101115Z"
    }
   },
   "outputs": [],
   "source": [
    "a = coauthorships[['a_key','count']]\n",
    "a.columns = ['key','count']\n",
    "b = coauthorships[['b_key','count']]\n",
    "b.columns = ['key','count']\n",
    "\n",
    "author_edges = pd.concat([a,b])"
   ]
  },
  {
   "cell_type": "code",
   "execution_count": 12,
   "metadata": {
    "Collapsed": "false",
    "ExecuteTime": {
     "end_time": "2019-12-11T20:42:26.048860Z",
     "start_time": "2019-12-11T20:42:15.788335Z"
    }
   },
   "outputs": [],
   "source": [
    "author_degrees = author_edges.groupby('key',as_index = False).agg(['count','sum'])"
   ]
  },
  {
   "cell_type": "code",
   "execution_count": 13,
   "metadata": {
    "Collapsed": "false",
    "ExecuteTime": {
     "end_time": "2019-12-11T20:42:26.114935Z",
     "start_time": "2019-12-11T20:42:26.050251Z"
    }
   },
   "outputs": [],
   "source": [
    "author_degrees = author_degrees['count'].reset_index()"
   ]
  },
  {
   "cell_type": "code",
   "execution_count": 39,
   "metadata": {
    "ExecuteTime": {
     "end_time": "2019-12-11T21:03:17.352254Z",
     "start_time": "2019-12-11T21:03:17.300722Z"
    }
   },
   "outputs": [],
   "source": [
    "from sklearn.linear_model import LinearRegression\n"
   ]
  },
  {
   "cell_type": "code",
   "execution_count": 76,
   "metadata": {
    "ExecuteTime": {
     "end_time": "2019-12-11T21:32:47.169800Z",
     "start_time": "2019-12-11T21:32:46.959588Z"
    }
   },
   "outputs": [
    {
     "data": {
      "text/plain": [
       "<matplotlib.legend.Legend at 0x7fba03671130>"
      ]
     },
     "execution_count": 76,
     "metadata": {},
     "output_type": "execute_result"
    },
    {
     "data": {
      "image/png": "[encoded data removed]",
      "text/plain": [
       "<Figure size 1080x576 with 1 Axes>"
      ]
     },
     "metadata": {
      "needs_background": "light"
     },
     "output_type": "display_data"
    }
   ],
   "source": [
    "hist,bin_edges= np.histogram(author_degrees['sum'],bins=50)\n",
    "# hist,bin_edges= np.histogram(author_degrees['count'],bins=50)\n",
    "x = bin_edges[:-1]\n",
    "y = hist\n",
    "x [ x==0 ] = 1\n",
    "y [ y ==0 ] = 1\n",
    "x= np.log(x)\n",
    "y = np.log(y)\n",
    "\n",
    "lr = LinearRegression().fit(x[:,np.newaxis],y)\n",
    "f = lambda x: lr.intercept_+ x * lr.coef_\n",
    "line_x = np.arange(0,max(x),0.01)\n",
    "line_y = f(line_x)\n",
    "\n",
    "plt.plot(x,y,)\n",
    "plt.plot(line_x,line_y)\n",
    "# plt.xlabel(\"Coauthor count [log]\")\n",
    "plt.xlabel(\"Coauthorship count [log]\")\n",
    "plt.ylabel(\"Number of authors [log]\")\n",
    "plt.title\n",
    "plt.legend([\"Histogram\",\"Linear regression, a= {}\".format(round(float(lr.coef_),2))])"
   ]
  },
  {
   "cell_type": "code",
   "execution_count": 14,
   "metadata": {
    "Collapsed": "false",
    "ExecuteTime": {
     "end_time": "2019-12-11T20:42:26.131807Z",
     "start_time": "2019-12-11T20:42:26.116483Z"
    }
   },
   "outputs": [],
   "source": [
    "def presentDegrees(series:pd.Series,label:str):\n",
    "    quantiles =  series.quantile([0.5,0.8,0.9,0.99,0.999,1])\n",
    "    limit = quantiles[0.99]\n",
    "    print(quantiles)\n",
    "    plot = series.where(series <= limit).hist(bins=50)\n",
    "    plot.set_xlabel(label)\n",
    "    plot.set_ylabel('Number of authors')\n",
    "    plot.set_yscale('log')\n",
    "    plot.set_xscale('log')\n",
    "    return plot"
   ]
  },
  {
   "cell_type": "code",
   "execution_count": 20,
   "metadata": {
    "Collapsed": "false",
    "ExecuteTime": {
     "end_time": "2019-12-11T15:43:50.665407Z",
     "start_time": "2019-12-11T15:43:49.987649Z"
    }
   },
   "outputs": [
    {
     "name": "stdout",
     "output_type": "stream",
     "text": [
      "0.500       5.0\n",
      "0.800      12.0\n",
      "0.900      22.0\n",
      "0.990     103.0\n",
      "0.999     286.0\n",
      "1.000    3306.0\n",
      "Name: count, dtype: float64\n"
     ]
    },
    {
     "data": {
      "text/plain": [
       "<matplotlib.axes._subplots.AxesSubplot at 0x7f5c009a4310>"
      ]
     },
     "execution_count": 20,
     "metadata": {},
     "output_type": "execute_result"
    },
    {
     "data": {
      "image/png": "[encoded data removed]",
      "text/plain": [
       "<Figure size 1080x576 with 1 Axes>"
      ]
     },
     "metadata": {
      "needs_background": "light"
     },
     "output_type": "display_data"
    }
   ],
   "source": [
    "presentDegrees(author_degrees['count'],'Coauthor count')"
   ]
  },
  {
   "cell_type": "code",
   "execution_count": 21,
   "metadata": {
    "Collapsed": "false",
    "ExecuteTime": {
     "end_time": "2019-12-11T15:43:51.393358Z",
     "start_time": "2019-12-11T15:43:50.827455Z"
    }
   },
   "outputs": [
    {
     "name": "stdout",
     "output_type": "stream",
     "text": [
      "0.500       6.0\n",
      "0.800      18.0\n",
      "0.900      39.0\n",
      "0.990     249.0\n",
      "0.999     758.0\n",
      "1.000    4681.0\n",
      "Name: sum, dtype: float64\n"
     ]
    },
    {
     "data": {
      "text/plain": [
       "<matplotlib.axes._subplots.AxesSubplot at 0x7f5c0b2a2820>"
      ]
     },
     "execution_count": 21,
     "metadata": {},
     "output_type": "execute_result"
    },
    {
     "data": {
      "image/png": "[encoded data removed]",
      "text/plain": [
       "<Figure size 1080x576 with 1 Axes>"
      ]
     },
     "metadata": {
      "needs_background": "light"
     },
     "output_type": "display_data"
    }
   ],
   "source": [
    "presentDegrees(author_degrees['sum'],'Coauthorships count')"
   ]
  }
 ],
 "metadata": {
  "kernelspec": {
   "display_name": "Python 3",
   "language": "python",
   "name": "python3"
  },
  "language_info": {
   "codemirror_mode": {
    "name": "ipython",
    "version": 3
   },
   "file_extension": ".py",
   "mimetype": "text/x-python",
   "name": "python",
   "nbconvert_exporter": "python",
   "pygments_lexer": "ipython3",
   "version": "3.8.1"
  }
 },
 "nbformat": 4,
 "nbformat_minor": 4
}
