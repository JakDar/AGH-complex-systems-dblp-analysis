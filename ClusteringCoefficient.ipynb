{
 "cells": [
  {
   "cell_type": "markdown",
   "metadata": {
    "Collapsed": "false"
   },
   "source": [
    "#### Imports"
   ]
  },
  {
   "cell_type": "code",
   "execution_count": 8,
   "metadata": {
    "Collapsed": "false",
    "ExecuteTime": {
     "end_time": "2019-12-10T11:51:03.098230Z",
     "start_time": "2019-12-10T11:51:03.095805Z"
    },
    "scrolled": true
   },
   "outputs": [],
   "source": [
    "from typing import Dict, List, Tuple, Optional\n",
    "from collections import namedtuple"
   ]
  },
  {
   "cell_type": "code",
   "execution_count": 9,
   "metadata": {
    "Collapsed": "false",
    "ExecuteTime": {
     "end_time": "2019-12-10T11:51:03.104057Z",
     "start_time": "2019-12-10T11:51:03.099858Z"
    },
    "scrolled": true
   },
   "outputs": [],
   "source": [
    "from functional import seq, pseq\n",
    "from functional.streams import Sequence\n",
    "from IPython.core.display import HTML\n",
    "\n",
    "def display_seq(sequence:Sequence,rows:int)-> None:\n",
    "        sequence._repr_html_= lambda :sequence.tabulate(rows,tablefmt='html')\n",
    "        display(sequence)\n",
    "        sequence._repr_html_= lambda :sequence.tabulate(10,tablefmt='html')"
   ]
  },
  {
   "cell_type": "code",
   "execution_count": 10,
   "metadata": {
    "Collapsed": "false",
    "ExecuteTime": {
     "end_time": "2019-12-10T11:51:03.108838Z",
     "start_time": "2019-12-10T11:51:03.105810Z"
    },
    "scrolled": true
   },
   "outputs": [],
   "source": [
    "import numpy as np\n",
    "import pandas as pd\n",
    "import matplotlib.pyplot as plt\n",
    "plt.rcParams['figure.figsize'] = [15, 8]\n",
    "import seaborn as sns"
   ]
  },
  {
   "cell_type": "code",
   "execution_count": 11,
   "metadata": {
    "Collapsed": "false",
    "ExecuteTime": {
     "end_time": "2019-12-10T11:51:03.113202Z",
     "start_time": "2019-12-10T11:51:03.110231Z"
    },
    "scrolled": true
   },
   "outputs": [],
   "source": [
    "import functools\n",
    "def compose(*functions):\n",
    "    def compose2(f, g):\n",
    "        return lambda x: f(g(x))\n",
    "    return functools.reduce(compose2, functions, lambda x: x)"
   ]
  },
  {
   "cell_type": "markdown",
   "metadata": {
    "Collapsed": "false",
    "ExecuteTime": {
     "end_time": "2019-05-20T08:45:09.261251Z",
     "start_time": "2019-05-20T08:45:09.258254Z"
    }
   },
   "source": [
    "#  Csv Processing"
   ]
  },
  {
   "cell_type": "code",
   "execution_count": 5,
   "metadata": {
    "Collapsed": "false",
    "ExecuteTime": {
     "end_time": "2019-12-10T11:50:31.936088Z",
     "start_time": "2019-12-10T11:50:31.924836Z"
    },
    "scrolled": true
   },
   "outputs": [],
   "source": [
    "from util import get_envs, cached_load\n",
    "base_dir = get_envs()[\"base_dir\"]"
   ]
  },
  {
   "cell_type": "code",
   "execution_count": 9,
   "metadata": {
    "Collapsed": "false",
    "ExecuteTime": {
     "end_time": "2019-12-10T09:00:54.438729Z",
     "start_time": "2019-12-10T09:00:45.517211Z"
    },
    "scrolled": true
   },
   "outputs": [],
   "source": [
    "# coauthorships = pd.read_csv(base_dir + \"/coauthorships.csv\",header=None,names= ['a_key','b_key','count'])"
   ]
  },
  {
   "cell_type": "code",
   "execution_count": 6,
   "metadata": {
    "Collapsed": "false",
    "ExecuteTime": {
     "end_time": "2019-12-10T11:50:38.559836Z",
     "start_time": "2019-12-10T11:50:38.536927Z"
    }
   },
   "outputs": [],
   "source": [
    "import igraph as ig\n",
    "# iGraph = ig.Graph.TupleList(seq(coauthorships).to_list(),weights=True,vertex_name_attr='id')"
   ]
  },
  {
   "cell_type": "code",
   "execution_count": 7,
   "metadata": {
    "Collapsed": "false",
    "ExecuteTime": {
     "end_time": "2019-12-10T11:51:03.065043Z",
     "start_time": "2019-12-10T11:50:39.050663Z"
    }
   },
   "outputs": [],
   "source": [
    "g  = ig.read(base_dir + \"coauthorships.net\",format=\"pajek\")"
   ]
  },
  {
   "cell_type": "code",
   "execution_count": 11,
   "metadata": {
    "Collapsed": "false",
    "ExecuteTime": {
     "end_time": "2019-12-10T09:01:41.365859Z",
     "start_time": "2019-12-10T09:01:41.355453Z"
    }
   },
   "outputs": [
    {
     "data": {
      "text/plain": [
       "2319227"
      ]
     },
     "execution_count": 11,
     "metadata": {},
     "output_type": "execute_result"
    }
   ],
   "source": [
    "len(g.vs)"
   ]
  },
  {
   "cell_type": "markdown",
   "metadata": {
    "Collapsed": "false"
   },
   "source": [
    "### Local transitivity"
   ]
  },
  {
   "cell_type": "code",
   "execution_count": 12,
   "metadata": {
    "Collapsed": "false",
    "ExecuteTime": {
     "end_time": "2019-12-10T11:51:31.247023Z",
     "start_time": "2019-12-10T11:51:03.114637Z"
    }
   },
   "outputs": [],
   "source": [
    "trans_local = g.transitivity_local_undirected(mode=\"zero\",weights =\"weight\")"
   ]
  },
  {
   "cell_type": "code",
   "execution_count": 13,
   "metadata": {
    "Collapsed": "false",
    "ExecuteTime": {
     "end_time": "2019-12-10T11:51:31.259200Z",
     "start_time": "2019-12-10T11:51:31.248407Z"
    }
   },
   "outputs": [
    {
     "data": {
      "text/plain": [
       "True"
      ]
     },
     "execution_count": 13,
     "metadata": {},
     "output_type": "execute_result"
    }
   ],
   "source": [
    "len(trans_local) == len(g.vs)"
   ]
  },
  {
   "cell_type": "code",
   "execution_count": 14,
   "metadata": {
    "Collapsed": "false",
    "ExecuteTime": {
     "end_time": "2019-12-10T11:51:32.609804Z",
     "start_time": "2019-12-10T11:51:31.261493Z"
    }
   },
   "outputs": [],
   "source": [
    "df_trans_local = seq(list(g.vs)).map(lambda node:node['id']).zip(trans_local).to_pandas(columns= ['key','trans'])"
   ]
  },
  {
   "cell_type": "code",
   "execution_count": 15,
   "metadata": {
    "Collapsed": "false",
    "ExecuteTime": {
     "end_time": "2019-12-10T11:51:32.613978Z",
     "start_time": "2019-12-10T11:51:32.610947Z"
    }
   },
   "outputs": [],
   "source": [
    "def plot_trans(s:pd.Series,label:str,log:bool = True):\n",
    "    plot = s.hist(bins=100)\n",
    "    plot.set_xlabel(label)\n",
    "    plot.set_ylabel(\"Node count\")\n",
    "    if log:\n",
    "        plot.set_yscale('log')"
   ]
  },
  {
   "cell_type": "code",
   "execution_count": 16,
   "metadata": {
    "Collapsed": "false",
    "ExecuteTime": {
     "end_time": "2019-12-10T11:51:33.215310Z",
     "start_time": "2019-12-10T11:51:32.615375Z"
    }
   },
   "outputs": [
    {
     "data": {
      "text/plain": [
       "[]"
      ]
     },
     "execution_count": 16,
     "metadata": {},
     "output_type": "execute_result"
    }
   ],
   "source": [
    "list(df_trans_local.where(df_trans_local.trans > 1).dropna().key)"
   ]
  },
  {
   "cell_type": "code",
   "execution_count": 17,
   "metadata": {
    "Collapsed": "false",
    "ExecuteTime": {
     "end_time": "2019-12-10T11:51:34.376648Z",
     "start_time": "2019-12-10T11:51:33.217234Z"
    }
   },
   "outputs": [
    {
     "data": {
      "image/png": "[encoded data removed]",
      "text/plain": [
       "<Figure size 1080x576 with 1 Axes>"
      ]
     },
     "metadata": {
      "needs_background": "light"
     },
     "output_type": "display_data"
    },
    {
     "data": {
      "image/png": "[encoded data removed]",
      "text/plain": [
       "<Figure size 1080x576 with 1 Axes>"
      ]
     },
     "metadata": {
      "needs_background": "light"
     },
     "output_type": "display_data"
    }
   ],
   "source": [
    "plot_trans(df_trans_local.trans, 'Local transitivity',log=True)\n",
    "plt.show()\n",
    "plot_trans(df_trans_local.trans, 'Local transitivity',log=False)"
   ]
  },
  {
   "cell_type": "markdown",
   "metadata": {
    "Collapsed": "false"
   },
   "source": [
    "# Pagerank"
   ]
  },
  {
   "cell_type": "code",
   "execution_count": 18,
   "metadata": {
    "Collapsed": "false",
    "ExecuteTime": {
     "end_time": "2019-12-10T11:52:00.849218Z",
     "start_time": "2019-12-10T11:51:59.957843Z"
    }
   },
   "outputs": [],
   "source": [
    "keyset = seq(list(g.vs)).map(lambda x : x['id']).to_set()"
   ]
  },
  {
   "cell_type": "code",
   "execution_count": 38,
   "metadata": {
    "Collapsed": "false",
    "ExecuteTime": {
     "end_time": "2019-12-09T21:19:20.293024Z",
     "start_time": "2019-12-09T21:19:20.288432Z"
    }
   },
   "outputs": [
    {
     "data": {
      "text/plain": [
       "True"
      ]
     },
     "execution_count": 38,
     "metadata": {},
     "output_type": "execute_result"
    }
   ],
   "source": [
    "\"jeffrey d. ullman_pers\" in keyset"
   ]
  },
  {
   "cell_type": "code",
   "execution_count": 19,
   "metadata": {
    "Collapsed": "false",
    "ExecuteTime": {
     "end_time": "2019-12-10T11:52:27.917984Z",
     "start_time": "2019-12-10T11:52:02.321923Z"
    }
   },
   "outputs": [],
   "source": [
    "pr = g.pagerank(directed=False,weights='weight')"
   ]
  },
  {
   "cell_type": "code",
   "execution_count": 20,
   "metadata": {
    "Collapsed": "false",
    "ExecuteTime": {
     "end_time": "2019-12-10T11:52:29.378820Z",
     "start_time": "2019-12-10T11:52:27.919466Z"
    }
   },
   "outputs": [],
   "source": [
    "df_pr= seq(list(g.vs)).map(lambda node:node['id']).zip(pr).to_pandas(columns= ['key','pr'])"
   ]
  },
  {
   "cell_type": "code",
   "execution_count": 21,
   "metadata": {
    "Collapsed": "false",
    "ExecuteTime": {
     "end_time": "2019-12-10T11:52:30.193462Z",
     "start_time": "2019-12-10T11:52:29.380307Z"
    }
   },
   "outputs": [],
   "source": [
    "top = df_pr.sort_values('pr',ascending=False).head(n=16)"
   ]
  },
  {
   "cell_type": "code",
   "execution_count": 23,
   "metadata": {
    "Collapsed": "false",
    "ExecuteTime": {
     "end_time": "2019-12-10T11:53:00.446249Z",
     "start_time": "2019-12-10T11:52:55.539476Z"
    }
   },
   "outputs": [],
   "source": [
    "persons = pd.read_csv(base_dir + \"persons.csv\").drop_duplicates(subset=\"key\").dropna()\n",
    "pers_dict = seq(persons).to_dict()\n",
    "del persons"
   ]
  },
  {
   "cell_type": "code",
   "execution_count": 24,
   "metadata": {
    "Collapsed": "false",
    "ExecuteTime": {
     "end_time": "2019-12-10T11:53:13.411518Z",
     "start_time": "2019-12-10T11:53:13.406998Z"
    }
   },
   "outputs": [],
   "source": [
    "top['name'] = top.key.apply(lambda x: pers_dict[x])"
   ]
  },
  {
   "cell_type": "code",
   "execution_count": 25,
   "metadata": {
    "Collapsed": "false",
    "ExecuteTime": {
     "end_time": "2019-12-10T11:53:18.065323Z",
     "start_time": "2019-12-10T11:53:18.056406Z"
    }
   },
   "outputs": [
    {
     "name": "stdout",
     "output_type": "stream",
     "text": [
      "            name        pr\n",
      "        Wei Wang  0.000067\n",
      "          Wei Li  0.000067\n",
      "       Wei Zhang  0.000066\n",
      "        Lei Wang  0.000059\n",
      "       Lei Zhang  0.000056\n",
      "        Yu Zhang  0.000056\n",
      "        Jun Wang  0.000055\n",
      "        Yang Liu  0.000054\n",
      "         Jing Li  0.000054\n",
      "        Xin Wang  0.000053\n",
      " H. Vincent Poor  0.000052\n",
      "        Li Zhang  0.000050\n",
      "       Jing Wang  0.000050\n",
      "   Nadeem Javaid  0.000048\n",
      "        Wei Chen  0.000048\n",
      "    Nassir Navab  0.000048\n"
     ]
    }
   ],
   "source": [
    "print(top[['name','pr']].to_string(index=False))"
   ]
  }
 ],
 "metadata": {
  "kernelspec": {
   "display_name": "Python 3",
   "language": "python",
   "name": "python3"
  },
  "language_info": {
   "codemirror_mode": {
    "name": "ipython",
    "version": 3
   },
   "file_extension": ".py",
   "mimetype": "text/x-python",
   "name": "python",
   "nbconvert_exporter": "python",
   "pygments_lexer": "ipython3",
   "version": "3.8.1"
  }
 },
 "nbformat": 4,
 "nbformat_minor": 4
}
