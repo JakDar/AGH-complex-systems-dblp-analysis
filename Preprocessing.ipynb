{
 "cells": [
  {
   "cell_type": "markdown",
   "metadata": {
    "Collapsed": "false"
   },
   "source": [
    "#### Imports"
   ]
  },
  {
   "cell_type": "code",
   "execution_count": 1,
   "metadata": {
    "Collapsed": "false",
    "ExecuteTime": {
     "end_time": "2019-12-11T20:38:51.471722Z",
     "start_time": "2019-12-11T20:38:51.468892Z"
    },
    "scrolled": true
   },
   "outputs": [],
   "source": [
    "from typing import Dict, List, Tuple, Optional\n",
    "from collections import namedtuple"
   ]
  },
  {
   "cell_type": "code",
   "execution_count": 2,
   "metadata": {
    "Collapsed": "false",
    "ExecuteTime": {
     "end_time": "2019-12-11T20:38:52.166645Z",
     "start_time": "2019-12-11T20:38:52.150530Z"
    },
    "scrolled": true
   },
   "outputs": [],
   "source": [
    "from functional import seq, pseq\n",
    "from functional.streams import Sequence\n",
    "from IPython.core.display import HTML\n",
    "\n",
    "def display_seq(sequence:Sequence,rows:int)-> None:\n",
    "        sequence._repr_html_= lambda :sequence.tabulate(rows,tablefmt='html')\n",
    "        display(sequence)\n",
    "        sequence._repr_html_= lambda :sequence.tabulate(10,tablefmt='html')"
   ]
  },
  {
   "cell_type": "code",
   "execution_count": 3,
   "metadata": {
    "Collapsed": "false",
    "ExecuteTime": {
     "end_time": "2019-12-11T20:38:53.049633Z",
     "start_time": "2019-12-11T20:38:52.408353Z"
    },
    "scrolled": true
   },
   "outputs": [],
   "source": [
    "import numpy as np\n",
    "import pandas as pd\n",
    "import matplotlib.pyplot as plt\n",
    "import seaborn as sns"
   ]
  },
  {
   "cell_type": "code",
   "execution_count": 4,
   "metadata": {
    "Collapsed": "false",
    "ExecuteTime": {
     "end_time": "2019-12-11T20:38:53.054141Z",
     "start_time": "2019-12-11T20:38:53.050883Z"
    },
    "scrolled": true
   },
   "outputs": [],
   "source": [
    "import functools\n",
    "def compose(*functions):\n",
    "    def compose2(f, g):\n",
    "        return lambda x: f(g(x))\n",
    "    return functools.reduce(compose2, functions, lambda x: x)"
   ]
  },
  {
   "cell_type": "markdown",
   "metadata": {
    "Collapsed": "false",
    "ExecuteTime": {
     "end_time": "2019-05-20T08:45:09.261251Z",
     "start_time": "2019-05-20T08:45:09.258254Z"
    }
   },
   "source": [
    "#  Csv Processing"
   ]
  },
  {
   "cell_type": "code",
   "execution_count": 6,
   "metadata": {
    "Collapsed": "false",
    "ExecuteTime": {
     "end_time": "2019-12-11T20:39:28.808630Z",
     "start_time": "2019-12-11T20:39:28.805382Z"
    },
    "scrolled": true
   },
   "outputs": [],
   "source": [
    "import util\n",
    "base_dir = util.get_envs()['base_dir']\n",
    "neo_dir = \"/home/owner/blob/data/data_mining/dblp/csv_for_neo/\""
   ]
  },
  {
   "cell_type": "code",
   "execution_count": 8,
   "metadata": {
    "Collapsed": "false",
    "ExecuteTime": {
     "end_time": "2019-12-11T20:39:36.362292Z",
     "start_time": "2019-12-11T20:39:36.360164Z"
    }
   },
   "outputs": [],
   "source": [
    "infomap_dir =  base_dir + \"infomap/\""
   ]
  },
  {
   "cell_type": "markdown",
   "metadata": {
    "Collapsed": "false"
   },
   "source": [
    "### Nodes"
   ]
  },
  {
   "cell_type": "code",
   "execution_count": 9,
   "metadata": {
    "Collapsed": "false",
    "ExecuteTime": {
     "end_time": "2019-12-11T20:39:45.436633Z",
     "start_time": "2019-12-11T20:39:38.081627Z"
    },
    "scrolled": true
   },
   "outputs": [
    {
     "name": "stdout",
     "output_type": "stream",
     "text": [
      "Index(['key', 'type', 'title', 'year'], dtype='object')\n"
     ]
    },
    {
     "data": {
      "text/html": [
       "<div>\n",
       "<style scoped>\n",
       "    .dataframe tbody tr th:only-of-type {\n",
       "        vertical-align: middle;\n",
       "    }\n",
       "\n",
       "    .dataframe tbody tr th {\n",
       "        vertical-align: top;\n",
       "    }\n",
       "\n",
       "    .dataframe thead th {\n",
       "        text-align: right;\n",
       "    }\n",
       "</style>\n",
       "<table border=\"1\" class=\"dataframe\">\n",
       "  <thead>\n",
       "    <tr style=\"text-align: right;\">\n",
       "      <th></th>\n",
       "      <th>key</th>\n",
       "      <th>type</th>\n",
       "      <th>title</th>\n",
       "      <th>year</th>\n",
       "    </tr>\n",
       "  </thead>\n",
       "  <tbody>\n",
       "    <tr>\n",
       "      <th>0</th>\n",
       "      <td>books/acm/0082477</td>\n",
       "      <td>book</td>\n",
       "      <td>The no-nonsense guide to computing careers.</td>\n",
       "      <td>1992</td>\n",
       "    </tr>\n",
       "    <tr>\n",
       "      <th>1</th>\n",
       "      <td>books/acm/Kim95</td>\n",
       "      <td>book</td>\n",
       "      <td>Modern Database Systems: The Object Model Inte...</td>\n",
       "      <td>1995</td>\n",
       "    </tr>\n",
       "  </tbody>\n",
       "</table>\n",
       "</div>"
      ],
      "text/plain": [
       "                 key  type                                              title  \\\n",
       "0  books/acm/0082477  book        The no-nonsense guide to computing careers.   \n",
       "1    books/acm/Kim95  book  Modern Database Systems: The Object Model Inte...   \n",
       "\n",
       "   year  \n",
       "0  1992  \n",
       "1  1995  "
      ]
     },
     "execution_count": 9,
     "metadata": {},
     "output_type": "execute_result"
    }
   ],
   "source": [
    "publications = pd.read_csv(base_dir + \"publications.csv\")\n",
    "print(publications.columns)\n",
    "publications.head(n=2)"
   ]
  },
  {
   "cell_type": "code",
   "execution_count": 10,
   "metadata": {
    "Collapsed": "false",
    "ExecuteTime": {
     "end_time": "2019-12-11T20:40:24.489913Z",
     "start_time": "2019-12-11T20:40:20.643519Z"
    },
    "scrolled": true
   },
   "outputs": [
    {
     "name": "stdout",
     "output_type": "stream",
     "text": [
      "Index(['key', 'name'], dtype='object')\n"
     ]
    },
    {
     "data": {
      "text/html": [
       "<div>\n",
       "<style scoped>\n",
       "    .dataframe tbody tr th:only-of-type {\n",
       "        vertical-align: middle;\n",
       "    }\n",
       "\n",
       "    .dataframe tbody tr th {\n",
       "        vertical-align: top;\n",
       "    }\n",
       "\n",
       "    .dataframe thead th {\n",
       "        text-align: right;\n",
       "    }\n",
       "</style>\n",
       "<table border=\"1\" class=\"dataframe\">\n",
       "  <thead>\n",
       "    <tr style=\"text-align: right;\">\n",
       "      <th></th>\n",
       "      <th>key</th>\n",
       "      <th>name</th>\n",
       "    </tr>\n",
       "  </thead>\n",
       "  <tbody>\n",
       "    <tr>\n",
       "      <th>0</th>\n",
       "      <td>johann sebastian rudolph_pers</td>\n",
       "      <td>Johann Sebastian Rudolph</td>\n",
       "    </tr>\n",
       "    <tr>\n",
       "      <th>1</th>\n",
       "      <td>anau mesui_pers</td>\n",
       "      <td>Anau Mesui</td>\n",
       "    </tr>\n",
       "    <tr>\n",
       "      <th>2</th>\n",
       "      <td>maseka lesaoana_pers</td>\n",
       "      <td>Maseka Lesaoana</td>\n",
       "    </tr>\n",
       "    <tr>\n",
       "      <th>3</th>\n",
       "      <td>niran adetoro_pers</td>\n",
       "      <td>Niran Adetoro</td>\n",
       "    </tr>\n",
       "    <tr>\n",
       "      <th>4</th>\n",
       "      <td>yinka oyerinde_pers</td>\n",
       "      <td>Yinka Oyerinde</td>\n",
       "    </tr>\n",
       "  </tbody>\n",
       "</table>\n",
       "</div>"
      ],
      "text/plain": [
       "                             key                      name\n",
       "0  johann sebastian rudolph_pers  Johann Sebastian Rudolph\n",
       "1                anau mesui_pers                Anau Mesui\n",
       "2           maseka lesaoana_pers           Maseka Lesaoana\n",
       "3             niran adetoro_pers             Niran Adetoro\n",
       "4            yinka oyerinde_pers            Yinka Oyerinde"
      ]
     },
     "execution_count": 10,
     "metadata": {},
     "output_type": "execute_result"
    }
   ],
   "source": [
    "persons = pd.read_csv(base_dir + \"persons.csv\").drop_duplicates(subset=\"key\").dropna()\n",
    "print(persons.columns)\n",
    "persons.head()\n"
   ]
  },
  {
   "cell_type": "code",
   "execution_count": 11,
   "metadata": {
    "Collapsed": "false",
    "ExecuteTime": {
     "end_time": "2019-12-11T20:40:26.643605Z",
     "start_time": "2019-12-11T20:40:24.491817Z"
    },
    "scrolled": true
   },
   "outputs": [
    {
     "data": {
      "text/plain": [
       "0"
      ]
     },
     "execution_count": 11,
     "metadata": {},
     "output_type": "execute_result"
    }
   ],
   "source": [
    "len(persons[persons.duplicated()])"
   ]
  },
  {
   "cell_type": "code",
   "execution_count": 9,
   "metadata": {
    "Collapsed": "false",
    "ExecuteTime": {
     "end_time": "2019-10-26T16:35:01.918142Z",
     "start_time": "2019-10-26T16:35:01.861425Z"
    },
    "scrolled": true
   },
   "outputs": [
    {
     "name": "stdout",
     "output_type": "stream",
     "text": [
      "Index(['key', 'name', 'type'], dtype='object')\n"
     ]
    },
    {
     "data": {
      "text/html": [
       "<div>\n",
       "<style scoped>\n",
       "    .dataframe tbody tr th:only-of-type {\n",
       "        vertical-align: middle;\n",
       "    }\n",
       "\n",
       "    .dataframe tbody tr th {\n",
       "        vertical-align: top;\n",
       "    }\n",
       "\n",
       "    .dataframe thead th {\n",
       "        text-align: right;\n",
       "    }\n",
       "</style>\n",
       "<table border=\"1\" class=\"dataframe\">\n",
       "  <thead>\n",
       "    <tr style=\"text-align: right;\">\n",
       "      <th></th>\n",
       "      <th>key</th>\n",
       "      <th>name</th>\n",
       "      <th>type</th>\n",
       "    </tr>\n",
       "  </thead>\n",
       "  <tbody>\n",
       "    <tr>\n",
       "      <th>0</th>\n",
       "      <td>acm_venue</td>\n",
       "      <td>ACM</td>\n",
       "      <td>publisher</td>\n",
       "    </tr>\n",
       "    <tr>\n",
       "      <th>1</th>\n",
       "      <td>modern database systems_venue</td>\n",
       "      <td>Modern Database Systems</td>\n",
       "      <td>book</td>\n",
       "    </tr>\n",
       "    <tr>\n",
       "      <th>2</th>\n",
       "      <td>computational complexity theory_venue</td>\n",
       "      <td>Computational Complexity Theory</td>\n",
       "      <td>book</td>\n",
       "    </tr>\n",
       "    <tr>\n",
       "      <th>3</th>\n",
       "      <td>ams chelsea publishing_venue</td>\n",
       "      <td>AMS Chelsea Publishing</td>\n",
       "      <td>publisher</td>\n",
       "    </tr>\n",
       "    <tr>\n",
       "      <th>4</th>\n",
       "      <td>academic press_venue</td>\n",
       "      <td>Academic Press</td>\n",
       "      <td>publisher</td>\n",
       "    </tr>\n",
       "  </tbody>\n",
       "</table>\n",
       "</div>"
      ],
      "text/plain": [
       "                                     key                             name  \\\n",
       "0                              acm_venue                              ACM   \n",
       "1          modern database systems_venue          Modern Database Systems   \n",
       "2  computational complexity theory_venue  Computational Complexity Theory   \n",
       "3           ams chelsea publishing_venue           AMS Chelsea Publishing   \n",
       "4                   academic press_venue                   Academic Press   \n",
       "\n",
       "        type  \n",
       "0  publisher  \n",
       "1       book  \n",
       "2       book  \n",
       "3  publisher  \n",
       "4  publisher  "
      ]
     },
     "execution_count": 9,
     "metadata": {},
     "output_type": "execute_result"
    }
   ],
   "source": [
    "venues = pd.read_csv(base_dir + \"venues.csv\").drop_duplicates(subset=\"key\")\n",
    "venues = venues.where(venues.name != venues.type).dropna()\n",
    "print(venues.columns)\n",
    "venues.head()"
   ]
  },
  {
   "cell_type": "markdown",
   "metadata": {
    "Collapsed": "false"
   },
   "source": [
    "### Edges"
   ]
  },
  {
   "cell_type": "code",
   "execution_count": 9,
   "metadata": {
    "Collapsed": "false",
    "ExecuteTime": {
     "end_time": "2019-10-26T19:18:44.462661Z",
     "start_time": "2019-10-26T19:18:32.429685Z"
    },
    "scrolled": true
   },
   "outputs": [
    {
     "name": "stdout",
     "output_type": "stream",
     "text": [
      "Index(['author_name', 'publication_key'], dtype='object')\n"
     ]
    },
    {
     "data": {
      "text/html": [
       "<div>\n",
       "<style scoped>\n",
       "    .dataframe tbody tr th:only-of-type {\n",
       "        vertical-align: middle;\n",
       "    }\n",
       "\n",
       "    .dataframe tbody tr th {\n",
       "        vertical-align: top;\n",
       "    }\n",
       "\n",
       "    .dataframe thead th {\n",
       "        text-align: right;\n",
       "    }\n",
       "</style>\n",
       "<table border=\"1\" class=\"dataframe\">\n",
       "  <thead>\n",
       "    <tr style=\"text-align: right;\">\n",
       "      <th></th>\n",
       "      <th>author_name</th>\n",
       "      <th>publication_key</th>\n",
       "    </tr>\n",
       "  </thead>\n",
       "  <tbody>\n",
       "    <tr>\n",
       "      <th>0</th>\n",
       "      <td>marc rettig_pers</td>\n",
       "      <td>books/acm/0082477</td>\n",
       "    </tr>\n",
       "    <tr>\n",
       "      <th>1</th>\n",
       "      <td>won kim 0001_pers</td>\n",
       "      <td>books/acm/Kim95</td>\n",
       "    </tr>\n",
       "    <tr>\n",
       "      <th>2</th>\n",
       "      <td>jurgen annevelink_pers</td>\n",
       "      <td>books/acm/kim95/AnnevelinkACFHK95</td>\n",
       "    </tr>\n",
       "    <tr>\n",
       "      <th>3</th>\n",
       "      <td>rafiul ahad_pers</td>\n",
       "      <td>books/acm/kim95/AnnevelinkACFHK95</td>\n",
       "    </tr>\n",
       "    <tr>\n",
       "      <th>4</th>\n",
       "      <td>amelia carlson_pers</td>\n",
       "      <td>books/acm/kim95/AnnevelinkACFHK95</td>\n",
       "    </tr>\n",
       "  </tbody>\n",
       "</table>\n",
       "</div>"
      ],
      "text/plain": [
       "              author_name                    publication_key\n",
       "0        marc rettig_pers                  books/acm/0082477\n",
       "1       won kim 0001_pers                    books/acm/Kim95\n",
       "2  jurgen annevelink_pers  books/acm/kim95/AnnevelinkACFHK95\n",
       "3        rafiul ahad_pers  books/acm/kim95/AnnevelinkACFHK95\n",
       "4     amelia carlson_pers  books/acm/kim95/AnnevelinkACFHK95"
      ]
     },
     "execution_count": 9,
     "metadata": {},
     "output_type": "execute_result"
    }
   ],
   "source": [
    "authored = pd.read_csv(base_dir + \"authored.csv\")\n",
    "print(authored.columns)\n",
    "authored.head()"
   ]
  },
  {
   "cell_type": "code",
   "execution_count": 10,
   "metadata": {
    "Collapsed": "false",
    "ExecuteTime": {
     "end_time": "2019-10-23T15:54:18.395186Z",
     "start_time": "2019-10-23T15:54:18.220330Z"
    },
    "scrolled": true
   },
   "outputs": [
    {
     "name": "stdout",
     "output_type": "stream",
     "text": [
      "Index(['citing', 'cited'], dtype='object')\n"
     ]
    }
   ],
   "source": [
    "cited = pd.read_csv(base_dir + \"cited.csv\")\n",
    "print(cited.columns)\n",
    "cited = cited.where(cited[\"cited\"] != \"...\").drop_duplicates().dropna()"
   ]
  },
  {
   "cell_type": "code",
   "execution_count": 15,
   "metadata": {
    "Collapsed": "false",
    "ExecuteTime": {
     "end_time": "2019-10-23T15:54:22.120642Z",
     "start_time": "2019-10-23T15:54:18.396952Z"
    },
    "scrolled": true
   },
   "outputs": [
    {
     "name": "stdout",
     "output_type": "stream",
     "text": [
      "Index(['publication_key', 'venue_name'], dtype='object')\n"
     ]
    },
    {
     "data": {
      "text/html": [
       "<div>\n",
       "<style scoped>\n",
       "    .dataframe tbody tr th:only-of-type {\n",
       "        vertical-align: middle;\n",
       "    }\n",
       "\n",
       "    .dataframe tbody tr th {\n",
       "        vertical-align: top;\n",
       "    }\n",
       "\n",
       "    .dataframe thead th {\n",
       "        text-align: right;\n",
       "    }\n",
       "</style>\n",
       "<table border=\"1\" class=\"dataframe\">\n",
       "  <thead>\n",
       "    <tr style=\"text-align: right;\">\n",
       "      <th></th>\n",
       "      <th>publication_key</th>\n",
       "      <th>venue_name</th>\n",
       "    </tr>\n",
       "  </thead>\n",
       "  <tbody>\n",
       "    <tr>\n",
       "      <th>0</th>\n",
       "      <td>books/acm/0082477</td>\n",
       "      <td>acm_venue</td>\n",
       "    </tr>\n",
       "    <tr>\n",
       "      <th>1</th>\n",
       "      <td>books/acm/Kim95</td>\n",
       "      <td>modern database systems_venue</td>\n",
       "    </tr>\n",
       "    <tr>\n",
       "      <th>2</th>\n",
       "      <td>books/acm/kim95/AnnevelinkACFHK95</td>\n",
       "      <td>modern database systems_venue</td>\n",
       "    </tr>\n",
       "  </tbody>\n",
       "</table>\n",
       "</div>"
      ],
      "text/plain": [
       "                     publication_key                     venue_name\n",
       "0                  books/acm/0082477                      acm_venue\n",
       "1                    books/acm/Kim95  modern database systems_venue\n",
       "2  books/acm/kim95/AnnevelinkACFHK95  modern database systems_venue"
      ]
     },
     "execution_count": 15,
     "metadata": {},
     "output_type": "execute_result"
    }
   ],
   "source": [
    "in_venue = pd.read_csv(base_dir + \"in_venue.csv\")\n",
    "print(in_venue.columns)\n",
    "in_venue.head(n=3)"
   ]
  },
  {
   "cell_type": "markdown",
   "metadata": {
    "Collapsed": "false"
   },
   "source": [
    "## saving cleaned csv for neo4j import"
   ]
  },
  {
   "cell_type": "code",
   "execution_count": 27,
   "metadata": {
    "Collapsed": "false",
    "ExecuteTime": {
     "end_time": "2019-10-22T19:25:38.133212Z",
     "start_time": "2019-10-22T19:25:38.130420Z"
    },
    "scrolled": true
   },
   "outputs": [],
   "source": [
    "import os\n",
    "os.mkdir(neo_dir)"
   ]
  },
  {
   "cell_type": "code",
   "execution_count": 28,
   "metadata": {
    "Collapsed": "false",
    "ExecuteTime": {
     "end_time": "2019-10-22T19:26:22.923555Z",
     "start_time": "2019-10-22T19:25:38.922398Z"
    },
    "scrolled": true
   },
   "outputs": [],
   "source": [
    "publications.to_csv(neo_dir+ 'publications.csv' ,header=False,index=False)\n",
    "persons.to_csv(neo_dir+ 'persons.csv' ,header=False,index=False)\n",
    "venues.to_csv(neo_dir+ 'venues.csv' ,header=False,index=False)\n",
    "authored.to_csv(neo_dir+ 'authored.csv' ,header=False,index=False)\n",
    "cited.to_csv(neo_dir+ 'cited.csv' ,header=False,index=False)\n",
    "in_venue.to_csv(neo_dir+ 'in_venue.csv' ,header=False,index=False)"
   ]
  },
  {
   "cell_type": "markdown",
   "metadata": {
    "Collapsed": "false",
    "ExecuteTime": {
     "end_time": "2019-10-19T15:39:34.096236Z",
     "start_time": "2019-10-19T15:39:34.093128Z"
    }
   },
   "source": [
    "not sure if cite count is ok"
   ]
  },
  {
   "cell_type": "markdown",
   "metadata": {
    "Collapsed": "false",
    "heading_collapsed": true
   },
   "source": [
    "# Bibliometric indicators"
   ]
  },
  {
   "cell_type": "markdown",
   "metadata": {
    "Collapsed": "false",
    "hidden": true
   },
   "source": [
    "## H-index"
   ]
  },
  {
   "cell_type": "code",
   "execution_count": 11,
   "metadata": {
    "Collapsed": "false",
    "ExecuteTime": {
     "end_time": "2019-10-23T15:54:32.204213Z",
     "start_time": "2019-10-23T15:54:32.154703Z"
    },
    "hidden": true,
    "scrolled": true
   },
   "outputs": [],
   "source": [
    "c_counts = cited.copy()\n",
    "c_counts[\"cites_count\"] = 1\n",
    "c_counts = c_counts.drop(\"citing\",axis=1)\n",
    "c_counts = c_counts.groupby(\"cited\").sum().reset_index()\n",
    "c_counts = c_counts.dropna()"
   ]
  },
  {
   "cell_type": "code",
   "execution_count": 12,
   "metadata": {
    "Collapsed": "false",
    "ExecuteTime": {
     "end_time": "2019-10-23T15:54:39.774701Z",
     "start_time": "2019-10-23T15:54:32.500160Z"
    },
    "hidden": true,
    "scrolled": true
   },
   "outputs": [
    {
     "data": {
      "text/plain": [
       "45374"
      ]
     },
     "execution_count": 12,
     "metadata": {},
     "output_type": "execute_result"
    }
   ],
   "source": [
    "authors_with_counts = pd.merge(authored, c_counts, how='outer', left_on=['publication_key'], right_on=['cited']).dropna().sort_values(\"cites_count\",ascending=False)\n",
    "authors_with_counts = authors_with_counts.drop(\"cited\",axis=1)\n",
    "len(authors_with_counts)"
   ]
  },
  {
   "cell_type": "code",
   "execution_count": 18,
   "metadata": {
    "Collapsed": "false",
    "ExecuteTime": {
     "end_time": "2019-10-23T15:54:43.794379Z",
     "start_time": "2019-10-23T15:54:43.786982Z"
    },
    "hidden": true,
    "scrolled": true
   },
   "outputs": [],
   "source": [
    "def h_index_pandas(author_name:str) -> int :\n",
    "    kim = authors_with_counts.where(authors_with_counts[\"author_name\"] == author_name).dropna()\n",
    "    kim[\"seq_nr\"] = range(1,len(kim)+1)\n",
    "    kim = kim.where(kim.cites_count >= kim.seq_nr ).dropna().tail(1)\n",
    "\n",
    "    kim['h_score'] = kim[['seq_nr','cites_count']].min(axis=1)\n",
    "    return kim['h_score'].sum()"
   ]
  },
  {
   "cell_type": "code",
   "execution_count": 13,
   "metadata": {
    "Collapsed": "false",
    "ExecuteTime": {
     "end_time": "2019-10-23T15:54:44.412338Z",
     "start_time": "2019-10-23T15:54:44.400297Z"
    },
    "hidden": true,
    "scrolled": true
   },
   "outputs": [],
   "source": [
    "author_with_counts_seq = seq(authors_with_counts)"
   ]
  },
  {
   "cell_type": "code",
   "execution_count": 14,
   "metadata": {
    "Collapsed": "false",
    "ExecuteTime": {
     "end_time": "2019-10-22T20:01:49.637119Z",
     "start_time": "2019-10-22T20:01:49.631523Z"
    },
    "hidden": true,
    "scrolled": true
   },
   "outputs": [],
   "source": [
    "h_index = author_with_counts_seq.group_by(lambda x: x[0])\\\n",
    ".map(lambda x:\n",
    "     seq(x[1]).zip_with_index(start=1) #Entry: ([Author,Paper,Citations],row_nr)\n",
    "     .map(lambda zipped: (zipped[0][0],zipped[0][-1],zipped[1]) ) #Entry: (Author,Citations,row_nr)\n",
    "     .take_while(lambda x : x[1]>= x[2]).last()\n",
    "    ).map(lambda row : (row[0], min(row[1],row[2]))).order_by(lambda x: -x[1])"
   ]
  },
  {
   "cell_type": "code",
   "execution_count": 16,
   "metadata": {
    "Collapsed": "false",
    "hidden": true
   },
   "outputs": [],
   "source": [
    "person_key_name_dict = seq(persons[['key','name']]).to_dict()"
   ]
  },
  {
   "cell_type": "code",
   "execution_count": 23,
   "metadata": {
    "Collapsed": "false",
    "ExecuteTime": {
     "end_time": "2019-10-22T20:01:50.781828Z",
     "start_time": "2019-10-22T20:01:50.143556Z"
    },
    "hidden": true
   },
   "outputs": [
    {
     "data": {
      "text/html": [
       "<table>\n",
       "<tbody>\n",
       "<tr><td>Jeffrey D. Ullman    </td><td style=\"text-align: right;\">28</td></tr>\n",
       "<tr><td>Michael Stonebraker  </td><td style=\"text-align: right;\">27</td></tr>\n",
       "<tr><td>David J. DeWitt      </td><td style=\"text-align: right;\">24</td></tr>\n",
       "<tr><td>Philip A. Bernstein  </td><td style=\"text-align: right;\">22</td></tr>\n",
       "<tr><td>Won Kim 0001         </td><td style=\"text-align: right;\">21</td></tr>\n",
       "<tr><td>Yehoshua Sagiv       </td><td style=\"text-align: right;\">20</td></tr>\n",
       "<tr><td>Rakesh Agrawal 0001  </td><td style=\"text-align: right;\">20</td></tr>\n",
       "<tr><td>Catriel Beeri        </td><td style=\"text-align: right;\">20</td></tr>\n",
       "<tr><td>Michael J. Carey 0001</td><td style=\"text-align: right;\">20</td></tr>\n",
       "<tr><td>Umeshwar Dayal       </td><td style=\"text-align: right;\">20</td></tr>\n",
       "<tr><td>Jim Gray 0001        </td><td style=\"text-align: right;\">19</td></tr>\n",
       "<tr><td>Nathan Goodman       </td><td style=\"text-align: right;\">19</td></tr>\n",
       "<tr><td>David Maier 0001     </td><td style=\"text-align: right;\">19</td></tr>\n",
       "<tr><td>Serge Abiteboul      </td><td style=\"text-align: right;\">19</td></tr>\n",
       "<tr><td>Ronald Fagin         </td><td style=\"text-align: right;\">19</td></tr>\n",
       "<tr><td>Raghu Ramakrishnan   </td><td style=\"text-align: right;\">18</td></tr>\n",
       "<tr><td>Christos Faloutsos   </td><td style=\"text-align: right;\">18</td></tr>\n",
       "<tr><td>Hector Garcia-Molina </td><td style=\"text-align: right;\">18</td></tr>\n",
       "<tr><td>Jennifer Widom       </td><td style=\"text-align: right;\">18</td></tr>\n",
       "<tr><td>Jeffrey F. Naughton  </td><td style=\"text-align: right;\">18</td></tr>\n",
       "<tr><td>Bruce G. Lindsay 0001</td><td style=\"text-align: right;\">17</td></tr>\n",
       "<tr><td>C. Mohan 0001        </td><td style=\"text-align: right;\">17</td></tr>\n",
       "<tr><td>François Bancilhon   </td><td style=\"text-align: right;\">16</td></tr>\n",
       "<tr><td>Shamkant B. Navathe  </td><td style=\"text-align: right;\">16</td></tr>\n",
       "<tr><td>Hamid Pirahesh       </td><td style=\"text-align: right;\">16</td></tr>\n",
       "<tr><td>Raymond A. Lorie     </td><td style=\"text-align: right;\">15</td></tr>\n",
       "<tr><td>Richard Hull 0001    </td><td style=\"text-align: right;\">15</td></tr>\n",
       "<tr><td>Moshe Y. Vardi       </td><td style=\"text-align: right;\">15</td></tr>\n",
       "<tr><td>Stefano Ceri         </td><td style=\"text-align: right;\">15</td></tr>\n",
       "<tr><td>Alberto O. Mendelzon </td><td style=\"text-align: right;\">15</td></tr>\n",
       "</tbody>\n",
       "</table><p>Showing 30 of 15032 rows"
      ],
      "text/plain": [
       "[('Jeffrey D. Ullman', 28.0), ('Michael Stonebraker', 27), ('David J. DeWitt', 24), ('Philip A. Bernstein', 22), ('Won Kim 0001', 21), ('Yehoshua Sagiv', 20.0), ('Rakesh Agrawal 0001', 20.0), ('Catriel Beeri', 20), ('Michael J. Carey 0001', 20.0), ('Umeshwar Dayal', 20), ('Jim Gray 0001', 19), ('Nathan Goodman', 19.0), ('David Maier 0001', 19), ('Serge Abiteboul', 19), ('Ronald Fagin', 19.0), ('Raghu Ramakrishnan', 18.0), ('Christos Faloutsos', 18), ('Hector Garcia-Molina', 18.0), ('Jennifer Widom', 18), ('Jeffrey F. Naughton', 18), ('Bruce G. Lindsay 0001', 17), ('C. Mohan 0001', 17.0), ('François Bancilhon', 16), ('Shamkant B. Navathe', 16), ('Hamid Pirahesh', 16), ('Raymond A. Lorie', 15), ('Richard Hull 0001', 15.0), ('Moshe Y. Vardi', 15), ('Stefano Ceri', 15.0), ('Alberto O. Mendelzon', 15.0), ('Carlo Zaniolo', 15.0), ('Peter Buneman', 15.0), ('Yannis E. Ioannidis', 15), ('H. V. Jagadish', 15.0), ('Nick Roussopoulos', 14), ('Stanley B. Zdonik', 14), ('Arie Shoshani', 14), ('Gio Wiederhold', 14.0), ('Abraham Silberschatz', 14.0), ('Eugene Wong 0001', 13.0), ('Timos K. Sellis', 13), ('Richard T. Snodgrass', 13.0), ('Victor Vianu', 13), ('Paris C. Kanellakis', 13), ('Christos H. Papadimitriou', 13), ('S. Bing Yao', 13.0), ('Hans-Jörg Schek', 13), ('Goetz Graefe', 13), ('Henry F. Korth', 13.0), ('Guy M. Lohman', 13), ('Ramez Elmasri', 13), ('Alon Y. Levy', 13.0), ('Inderpal Singh Mumick', 13.0), ('Mihalis Yannakakis', 13.0), ('Miron Livny', 13.0), ('Ravi Krishnamurthy', 13), ('Hans-Peter Kriegel', 12.0), ('Randy H. Katz', 12), ('Jack Minker', 12.0), ('Tomasz Imielinski', 12), ('Patrick Valduriez', 12), ('Shamim A. Naqvi', 12.0), ('C. J. Date', 12.0), ('Laura M. Haas', 12), ('Ashish Gupta 0001', 12.0), ('Oded Shmueli', 12), ('Stavros Christodoulakis', 12), ('Philip S. Yu', 12.0), ('Peter P. Chen', 11.0), ('E. F. Codd', 11), ('Donald D. Chamberlin', 11), ('Amit P. Sheth', 11.0), ('Witold Litwin', 11.0), ('Anthony C. Klug', 11.0), ('James Clifford', 11.0), ('Arie Segev', 11), ('Mario Schkolnick', 11), ('Arnon Rosenthal', 11), ('Gultekin Özsoyoglu', 11), ('Michael J. Franklin', 11), ('Allen Van Gelder', 11.0), ('David B. Lomet', 11), ('Joseph M. Hellerstein', 11), ('Gerhard Weikum', 11), ('Morton M. Astrahan', 10), ('Irving L. Traiger', 10.0), ('Alfred V. Aho', 10), ('Michael Hammer', 10), ('Lawrence A. Rowe', 10.0), ('Darrell Woelk', 10.0), ('Harry K. T. Wong', 10.0), ('Matthias Jarke', 10.0), ('Per-Åke Larson', 10), ('Donovan A. Schneider', 10), ('George P. Copeland', 10.0), ('Ashok K. Chandra', 10), ('Vincent Y. Lum', 10), ('Eugene J. Shekita', 10), ('Jack A. Orenstein', 10.0), ('Dan Suciu', 10), ...]"
      ]
     },
     "metadata": {},
     "output_type": "display_data"
    }
   ],
   "source": [
    "display_seq(h_index.map(lambda x: (person_key_name_dict[x[0]],x[1])),rows=30)"
   ]
  },
  {
   "cell_type": "code",
   "execution_count": 53,
   "metadata": {
    "Collapsed": "false",
    "ExecuteTime": {
     "end_time": "2019-10-22T20:01:53.856954Z",
     "start_time": "2019-10-22T20:01:53.150118Z"
    },
    "hidden": true,
    "scrolled": true
   },
   "outputs": [
    {
     "data": {
      "text/plain": [
       "28.0"
      ]
     },
     "execution_count": 53,
     "metadata": {},
     "output_type": "execute_result"
    }
   ],
   "source": [
    "h_index_pandas(h_index.head()[0])"
   ]
  },
  {
   "cell_type": "markdown",
   "metadata": {
    "Collapsed": "false",
    "ExecuteTime": {
     "end_time": "2019-10-20T08:04:02.030446Z",
     "start_time": "2019-10-20T08:04:01.426925Z"
    },
    "heading_collapsed": true,
    "hidden": true
   },
   "source": [
    "### Draw H-index"
   ]
  },
  {
   "cell_type": "code",
   "execution_count": 32,
   "metadata": {
    "Collapsed": "false",
    "ExecuteTime": {
     "end_time": "2019-10-22T20:01:55.969489Z",
     "start_time": "2019-10-22T20:01:55.964403Z"
    },
    "hidden": true,
    "scrolled": true
   },
   "outputs": [],
   "source": [
    "def plot_x_index_histogram(index,letter):\n",
    "    n, bins, patches = plt.hist(index.map(lambda x: x[1]).to_list(),bins=20,  facecolor='pink', log=True)\n",
    "    plt.ylabel('Author count')\n",
    "    plt.xlabel(letter + '-index')\n",
    "    plt.show()"
   ]
  },
  {
   "cell_type": "code",
   "execution_count": 33,
   "metadata": {
    "Collapsed": "false",
    "ExecuteTime": {
     "end_time": "2019-10-22T20:01:57.053387Z",
     "start_time": "2019-10-22T20:01:56.556509Z"
    },
    "hidden": true
   },
   "outputs": [
    {
     "data": {
      "image/png": "[encoded data removed]",
      "text/plain": [
       "<Figure size 432x288 with 1 Axes>"
      ]
     },
     "metadata": {
      "needs_background": "light"
     },
     "output_type": "display_data"
    }
   ],
   "source": [
    "plot_x_index_histogram(h_index,'h')"
   ]
  },
  {
   "cell_type": "code",
   "execution_count": 56,
   "metadata": {
    "Collapsed": "false",
    "ExecuteTime": {
     "end_time": "2019-10-22T20:01:58.369334Z",
     "start_time": "2019-10-22T20:01:58.361722Z"
    },
    "hidden": true,
    "scrolled": true
   },
   "outputs": [],
   "source": [
    "def plot_x_index_points(index,letter):\n",
    "    _numbers = index.group_by(lambda x: x[1]).map(lambda x:(x[0],len(x[1])))\n",
    "    fig = plt.figure()\n",
    "    ax = fig.add_subplot(2, 1, 1)\n",
    "    ax.scatter(_numbers.map(lambda x: x[0]).to_list(),_numbers.map(lambda x:x[1]).to_list())\n",
    "    plt.ylabel('Author count')\n",
    "    plt.xlabel(letter + '-index')\n",
    "    ax.set_yscale('log')"
   ]
  },
  {
   "cell_type": "code",
   "execution_count": 57,
   "metadata": {
    "Collapsed": "false",
    "ExecuteTime": {
     "end_time": "2019-10-22T20:01:59.183314Z",
     "start_time": "2019-10-22T20:01:58.977554Z"
    },
    "hidden": true,
    "scrolled": true
   },
   "outputs": [
    {
     "data": {
      "image/png": "[encoded data removed]",
      "text/plain": [
       "<Figure size 432x288 with 1 Axes>"
      ]
     },
     "metadata": {
      "needs_background": "light"
     },
     "output_type": "display_data"
    }
   ],
   "source": [
    "plot_x_index_points(h_index,'h')"
   ]
  },
  {
   "cell_type": "markdown",
   "metadata": {
    "Collapsed": "false",
    "heading_collapsed": true,
    "hidden": true
   },
   "source": [
    "## G-index\n",
    "https://libguides.aalto.fi/c.php?g=647846&p=4542760"
   ]
  },
  {
   "cell_type": "code",
   "execution_count": 34,
   "metadata": {
    "Collapsed": "false",
    "ExecuteTime": {
     "end_time": "2019-10-22T20:02:00.911167Z",
     "start_time": "2019-10-22T20:02:00.905437Z"
    },
    "hidden": true,
    "scrolled": true
   },
   "outputs": [],
   "source": [
    "def cumulative_sum(s:Sequence) -> Sequence:  #Seq[int] -> Seq[int]\n",
    "    return s.fold_left([0],lambda acc,e : acc + [acc[-1] + e] ).drop(1)\n",
    "    \n",
    "\n",
    "def add_cumulative_sum(entries:Sequence) -> Sequence: #Seq[(A,Citations,R)] -> Seq[(A,Citations,CumSum,R)]\n",
    "    cum_sum = cumulative_sum(entries.map(lambda x: x[1]))\n",
    "    return entries.zip(cum_sum).map(lambda x: (x[0][0],x[0][1],x[1],x[0][2]))\n",
    "    "
   ]
  },
  {
   "cell_type": "code",
   "execution_count": 35,
   "metadata": {
    "Collapsed": "false",
    "ExecuteTime": {
     "end_time": "2019-10-22T20:02:01.444868Z",
     "start_time": "2019-10-22T20:02:01.439636Z"
    },
    "hidden": true,
    "scrolled": true
   },
   "outputs": [],
   "source": [
    "g_index = author_with_counts_seq.group_by(lambda x: x[0])\\\n",
    "    .map(lambda x:\n",
    "         add_cumulative_sum(\n",
    "             seq(x[1]).zip_with_index(start=1)\n",
    "             .map(lambda zipped: (zipped[0][0], zipped[0][-1], zipped[1])) # Entry: (Author,Citations,row_nr)\n",
    "         )  # Entry: (Author,Citations,CumSum,row_nr)\n",
    "        ).map(lambda x: x.take_while(lambda x: x[2] >= (x[3]*x[3])).last())\\\n",
    ".map(lambda row: (row[0], min(row[2], row[3])))\\\n",
    ".order_by(lambda x: -x[1])"
   ]
  },
  {
   "cell_type": "code",
   "execution_count": 38,
   "metadata": {
    "Collapsed": "false",
    "ExecuteTime": {
     "end_time": "2019-10-22T20:02:03.424863Z",
     "start_time": "2019-10-22T20:02:02.224729Z"
    },
    "hidden": true
   },
   "outputs": [
    {
     "data": {
      "text/html": [
       "<table>\n",
       "<tbody>\n",
       "<tr><td>Jeffrey D. Ullman    </td><td style=\"text-align: right;\">56</td></tr>\n",
       "<tr><td>Michael Stonebraker  </td><td style=\"text-align: right;\">46</td></tr>\n",
       "<tr><td>David J. DeWitt      </td><td style=\"text-align: right;\">44</td></tr>\n",
       "<tr><td>Jim Gray 0001        </td><td style=\"text-align: right;\">43</td></tr>\n",
       "<tr><td>Philip A. Bernstein  </td><td style=\"text-align: right;\">42</td></tr>\n",
       "<tr><td>David Maier 0001     </td><td style=\"text-align: right;\">39</td></tr>\n",
       "<tr><td>Won Kim 0001         </td><td style=\"text-align: right;\">36</td></tr>\n",
       "<tr><td>Nathan Goodman       </td><td style=\"text-align: right;\">35</td></tr>\n",
       "<tr><td>Serge Abiteboul      </td><td style=\"text-align: right;\">35</td></tr>\n",
       "<tr><td>Yehoshua Sagiv       </td><td style=\"text-align: right;\">34</td></tr>\n",
       "<tr><td>Catriel Beeri        </td><td style=\"text-align: right;\">34</td></tr>\n",
       "<tr><td>François Bancilhon   </td><td style=\"text-align: right;\">33</td></tr>\n",
       "<tr><td>Rakesh Agrawal 0001  </td><td style=\"text-align: right;\">32</td></tr>\n",
       "<tr><td>Michael J. Carey 0001</td><td style=\"text-align: right;\">32</td></tr>\n",
       "<tr><td>Umeshwar Dayal       </td><td style=\"text-align: right;\">31</td></tr>\n",
       "<tr><td>Raghu Ramakrishnan   </td><td style=\"text-align: right;\">30</td></tr>\n",
       "<tr><td>Ronald Fagin         </td><td style=\"text-align: right;\">30</td></tr>\n",
       "<tr><td>Richard Hull 0001    </td><td style=\"text-align: right;\">29</td></tr>\n",
       "<tr><td>Hector Garcia-Molina </td><td style=\"text-align: right;\">29</td></tr>\n",
       "<tr><td>Jennifer Widom       </td><td style=\"text-align: right;\">29</td></tr>\n",
       "<tr><td>Raymond A. Lorie     </td><td style=\"text-align: right;\">28</td></tr>\n",
       "<tr><td>Christos Faloutsos   </td><td style=\"text-align: right;\">28</td></tr>\n",
       "<tr><td>Shamkant B. Navathe  </td><td style=\"text-align: right;\">28</td></tr>\n",
       "<tr><td>Hamid Pirahesh       </td><td style=\"text-align: right;\">28</td></tr>\n",
       "<tr><td>Bruce G. Lindsay 0001</td><td style=\"text-align: right;\">28</td></tr>\n",
       "<tr><td>Stefano Ceri         </td><td style=\"text-align: right;\">27</td></tr>\n",
       "<tr><td>Donald D. Chamberlin </td><td style=\"text-align: right;\">26</td></tr>\n",
       "<tr><td>Eugene Wong 0001     </td><td style=\"text-align: right;\">26</td></tr>\n",
       "<tr><td>Alfred V. Aho        </td><td style=\"text-align: right;\">26</td></tr>\n",
       "<tr><td>C. Mohan 0001        </td><td style=\"text-align: right;\">26</td></tr>\n",
       "</tbody>\n",
       "</table><p>Showing 30 of 15032 rows"
      ],
      "text/plain": [
       "[('Jeffrey D. Ullman', 56), ('Michael Stonebraker', 46), ('David J. DeWitt', 44), ('Jim Gray 0001', 43), ('Philip A. Bernstein', 42), ('David Maier 0001', 39), ('Won Kim 0001', 36), ('Nathan Goodman', 35), ('Serge Abiteboul', 35), ('Yehoshua Sagiv', 34), ('Catriel Beeri', 34), ('François Bancilhon', 33), ('Rakesh Agrawal 0001', 32), ('Michael J. Carey 0001', 32), ('Umeshwar Dayal', 31), ('Raghu Ramakrishnan', 30), ('Ronald Fagin', 30), ('Richard Hull 0001', 29), ('Hector Garcia-Molina', 29), ('Jennifer Widom', 29), ('Raymond A. Lorie', 28), ('Christos Faloutsos', 28), ('Shamkant B. Navathe', 28), ('Hamid Pirahesh', 28), ('Bruce G. Lindsay 0001', 28), ('Stefano Ceri', 27), ('Donald D. Chamberlin', 26), ('Eugene Wong 0001', 26), ('Alfred V. Aho', 26), ('C. Mohan 0001', 26), ('Peter P. Chen', 25), ('E. F. Codd', 25), ('Nick Roussopoulos', 25), ('Goetz Graefe', 25), ('Alberto O. Mendelzon', 25), ('Peter Buneman', 25), ('Jeffrey F. Naughton', 25), ('Randy H. Katz', 24), ('Richard T. Snodgrass', 24), ('Paris C. Kanellakis', 24), ('Moshe Y. Vardi', 24), ('Patrick Valduriez', 24), ('Carlo Zaniolo', 24), ('Hans-Peter Kriegel', 23), ('Timos K. Sellis', 23), ('Stanley B. Zdonik', 23), ('Tomasz Imielinski', 23), ('Hans-Jörg Schek', 23), ('Henry F. Korth', 23), ('Ramez Elmasri', 23), ('Yannis E. Ioannidis', 23), ('H. V. Jagadish', 23), ('Per-Åke Larson', 22), ('S. Bing Yao', 22), ('Ashok K. Chandra', 22), ('Andreas Reuter 0001', 21), ('Victor Vianu', 21), ('Christos H. Papadimitriou', 21), ('George P. Copeland', 21), ('Shamim A. Naqvi', 21), ('Guy M. Lohman', 21), ('Laura M. Haas', 21), ('Arie Shoshani', 21), ('Miron Livny', 21), ('Abraham Silberschatz', 21), ('Morton M. Astrahan', 20), ('Dennis McLeod', 20), ('Rudolf Bayer', 20), ('Lawrence A. Rowe', 20), ('Darrell Woelk', 20), ('Jack Minker', 20), ('Arun N. Swami', 20), ('Witold Litwin', 20), ('James Clifford', 20), ('Alon Y. Levy', 20), ('Mihalis Yannakakis', 20), ('Gio Wiederhold', 20), ('Ravi Krishnamurthy', 20), ('Kenneth C. Sevcik', 19), ('Roger King', 19), ('Bernhard Seeger', 19), ('Amit P. Sheth', 19), ('Malcolm P. Atkinson', 19), ('William Kent', 19), ('Harry K. T. Wong', 19), ('Donovan A. Schneider', 19), ('Setrag Khoshafian', 19), ('C. J. Date', 19), ('Arie Segev', 19), ('Mario Schkolnick', 19), ('Inderpal Singh Mumick', 19), ('Ashish Gupta 0001', 19), ('Gabriel M. Kuper', 19), ('Oded Shmueli', 19), ('Frank Olken', 18), ('Jean-Marie Nicolas 0001', 18), ('Carlo Batini', 18), ('Klaus R. Dittrich', 18), ('John T. Robinson', 18), ('John Mylopoulos', 18), ...]"
      ]
     },
     "metadata": {},
     "output_type": "display_data"
    }
   ],
   "source": [
    "display_seq(g_index.map(lambda x: (person_key_name_dict[x[0]],x[1])),rows=30)"
   ]
  },
  {
   "cell_type": "markdown",
   "metadata": {
    "Collapsed": "false",
    "hidden": true
   },
   "source": [
    "### Draw G-index"
   ]
  },
  {
   "cell_type": "code",
   "execution_count": 61,
   "metadata": {
    "Collapsed": "false",
    "ExecuteTime": {
     "end_time": "2019-10-22T20:02:05.198309Z",
     "start_time": "2019-10-22T20:02:04.675393Z"
    },
    "hidden": true
   },
   "outputs": [
    {
     "data": {
      "image/png": "[encoded data removed]",
      "text/plain": [
       "<Figure size 432x288 with 1 Axes>"
      ]
     },
     "metadata": {
      "needs_background": "light"
     },
     "output_type": "display_data"
    },
    {
     "data": {
      "image/png": "[encoded data removed]",
      "text/plain": [
       "<Figure size 432x288 with 1 Axes>"
      ]
     },
     "metadata": {
      "needs_background": "light"
     },
     "output_type": "display_data"
    }
   ],
   "source": [
    "plot_x_index_histogram(g_index,'g')\n",
    "plot_x_index_points(g_index,'g')"
   ]
  },
  {
   "cell_type": "markdown",
   "metadata": {
    "Collapsed": "false",
    "hidden": true
   },
   "source": [
    "## Journal impact factor TODO"
   ]
  },
  {
   "cell_type": "markdown",
   "metadata": {
    "Collapsed": "false"
   },
   "source": [
    "# Adjusting graph in Neo4j"
   ]
  },
  {
   "cell_type": "code",
   "execution_count": 38,
   "metadata": {
    "Collapsed": "false",
    "ExecuteTime": {
     "end_time": "2019-11-01T20:39:13.994607Z",
     "start_time": "2019-11-01T20:39:13.992220Z"
    },
    "scrolled": true
   },
   "outputs": [],
   "source": [
    "from py2neo import Graph,Node\n",
    "graph = Graph(\"bolt://127.0.0.1:7687\",auth=(\"neo4j\", \"admin\"))"
   ]
  },
  {
   "cell_type": "markdown",
   "metadata": {
    "Collapsed": "false",
    "heading_collapsed": true
   },
   "source": [
    "### Create indices"
   ]
  },
  {
   "cell_type": "code",
   "execution_count": 17,
   "metadata": {
    "Collapsed": "false",
    "ExecuteTime": {
     "end_time": "2019-10-26T16:35:25.382055Z",
     "start_time": "2019-10-26T16:35:25.378786Z"
    },
    "hidden": true,
    "scrolled": true
   },
   "outputs": [],
   "source": [
    "# graph.run(\"create index on :publication(key)\")\n",
    "# graph.run(\"create index on :person(key)\")\n",
    "# graph.run(\"create index on :venue(key)\")"
   ]
  },
  {
   "cell_type": "markdown",
   "metadata": {
    "Collapsed": "false"
   },
   "source": [
    "## Co-authorship graph preparation"
   ]
  },
  {
   "cell_type": "markdown",
   "metadata": {
    "Collapsed": "false"
   },
   "source": [
    "### Creating"
   ]
  },
  {
   "cell_type": "code",
   "execution_count": 11,
   "metadata": {
    "Collapsed": "false",
    "ExecuteTime": {
     "end_time": "2019-10-26T19:19:14.537775Z",
     "start_time": "2019-10-26T19:19:14.530758Z"
    },
    "scrolled": true
   },
   "outputs": [
    {
     "data": {
      "text/html": [
       "<div>\n",
       "<style scoped>\n",
       "    .dataframe tbody tr th:only-of-type {\n",
       "        vertical-align: middle;\n",
       "    }\n",
       "\n",
       "    .dataframe tbody tr th {\n",
       "        vertical-align: top;\n",
       "    }\n",
       "\n",
       "    .dataframe thead th {\n",
       "        text-align: right;\n",
       "    }\n",
       "</style>\n",
       "<table border=\"1\" class=\"dataframe\">\n",
       "  <thead>\n",
       "    <tr style=\"text-align: right;\">\n",
       "      <th></th>\n",
       "      <th>author_name</th>\n",
       "      <th>publication_key</th>\n",
       "    </tr>\n",
       "  </thead>\n",
       "  <tbody>\n",
       "    <tr>\n",
       "      <th>0</th>\n",
       "      <td>marc rettig_pers</td>\n",
       "      <td>books/acm/0082477</td>\n",
       "    </tr>\n",
       "    <tr>\n",
       "      <th>1</th>\n",
       "      <td>won kim 0001_pers</td>\n",
       "      <td>books/acm/Kim95</td>\n",
       "    </tr>\n",
       "    <tr>\n",
       "      <th>2</th>\n",
       "      <td>jurgen annevelink_pers</td>\n",
       "      <td>books/acm/kim95/AnnevelinkACFHK95</td>\n",
       "    </tr>\n",
       "    <tr>\n",
       "      <th>3</th>\n",
       "      <td>rafiul ahad_pers</td>\n",
       "      <td>books/acm/kim95/AnnevelinkACFHK95</td>\n",
       "    </tr>\n",
       "    <tr>\n",
       "      <th>4</th>\n",
       "      <td>amelia carlson_pers</td>\n",
       "      <td>books/acm/kim95/AnnevelinkACFHK95</td>\n",
       "    </tr>\n",
       "  </tbody>\n",
       "</table>\n",
       "</div>"
      ],
      "text/plain": [
       "              author_name                    publication_key\n",
       "0        marc rettig_pers                  books/acm/0082477\n",
       "1       won kim 0001_pers                    books/acm/Kim95\n",
       "2  jurgen annevelink_pers  books/acm/kim95/AnnevelinkACFHK95\n",
       "3        rafiul ahad_pers  books/acm/kim95/AnnevelinkACFHK95\n",
       "4     amelia carlson_pers  books/acm/kim95/AnnevelinkACFHK95"
      ]
     },
     "execution_count": 11,
     "metadata": {},
     "output_type": "execute_result"
    }
   ],
   "source": [
    "authored.head()"
   ]
  },
  {
   "cell_type": "code",
   "execution_count": 7,
   "metadata": {
    "Collapsed": "false",
    "ExecuteTime": {
     "end_time": "2019-10-26T17:10:01.393492Z",
     "start_time": "2019-10-26T17:10:01.389670Z"
    },
    "scrolled": true
   },
   "outputs": [],
   "source": [
    "def to_coauthorship_tuples(arr):\n",
    "    return ((arr[i],arr[j]) for i in range(0,arr.size() -1) for j in range(i+1, arr.size()))"
   ]
  },
  {
   "cell_type": "code",
   "execution_count": 8,
   "metadata": {
    "Collapsed": "false",
    "ExecuteTime": {
     "end_time": "2019-10-26T17:09:14.310827Z",
     "start_time": "2019-10-26T17:09:14.306743Z"
    },
    "scrolled": true
   },
   "outputs": [],
   "source": [
    "grouped = seq(authored).group_by(lambda x :x[1])\\\n",
    ".filter(lambda x: len(x[1]) > 1)"
   ]
  },
  {
   "cell_type": "code",
   "execution_count": 20,
   "metadata": {
    "Collapsed": "false",
    "ExecuteTime": {
     "end_time": "2019-10-26T17:15:00.174102Z",
     "start_time": "2019-10-26T17:15:00.168394Z"
    },
    "scrolled": true
   },
   "outputs": [],
   "source": [
    "coauthorships = grouped.flat_map(lambda x: to_coauthorship_tuples(seq(x[1]).map(lambda author_book:author_book[0])))\\\n",
    ".count_by_value() \\\n",
    ".map(lambda x: (x[0][0],x[0][1],x[1])).to_pandas(columns= ['a_key','b_key','count'])"
   ]
  },
  {
   "cell_type": "code",
   "execution_count": 11,
   "metadata": {
    "Collapsed": "false"
   },
   "outputs": [
    {
     "data": {
      "text/html": [
       "<div>\n",
       "<style scoped>\n",
       "    .dataframe tbody tr th:only-of-type {\n",
       "        vertical-align: middle;\n",
       "    }\n",
       "\n",
       "    .dataframe tbody tr th {\n",
       "        vertical-align: top;\n",
       "    }\n",
       "\n",
       "    .dataframe thead th {\n",
       "        text-align: right;\n",
       "    }\n",
       "</style>\n",
       "<table border=\"1\" class=\"dataframe\">\n",
       "  <thead>\n",
       "    <tr style=\"text-align: right;\">\n",
       "      <th></th>\n",
       "      <th>a_key</th>\n",
       "      <th>b_key</th>\n",
       "      <th>count</th>\n",
       "    </tr>\n",
       "  </thead>\n",
       "  <tbody>\n",
       "    <tr>\n",
       "      <th>0</th>\n",
       "      <td>jurgen annevelink_pers</td>\n",
       "      <td>rafiul ahad_pers</td>\n",
       "      <td>1</td>\n",
       "    </tr>\n",
       "    <tr>\n",
       "      <th>1</th>\n",
       "      <td>jurgen annevelink_pers</td>\n",
       "      <td>amelia carlson_pers</td>\n",
       "      <td>1</td>\n",
       "    </tr>\n",
       "    <tr>\n",
       "      <th>2</th>\n",
       "      <td>jurgen annevelink_pers</td>\n",
       "      <td>daniel h. fishman_pers</td>\n",
       "      <td>1</td>\n",
       "    </tr>\n",
       "    <tr>\n",
       "      <th>3</th>\n",
       "      <td>jurgen annevelink_pers</td>\n",
       "      <td>michael l. heytens_pers</td>\n",
       "      <td>1</td>\n",
       "    </tr>\n",
       "    <tr>\n",
       "      <th>4</th>\n",
       "      <td>jurgen annevelink_pers</td>\n",
       "      <td>william kent_pers</td>\n",
       "      <td>3</td>\n",
       "    </tr>\n",
       "  </tbody>\n",
       "</table>\n",
       "</div>"
      ],
      "text/plain": [
       "                    a_key                    b_key  count\n",
       "0  jurgen annevelink_pers         rafiul ahad_pers      1\n",
       "1  jurgen annevelink_pers      amelia carlson_pers      1\n",
       "2  jurgen annevelink_pers   daniel h. fishman_pers      1\n",
       "3  jurgen annevelink_pers  michael l. heytens_pers      1\n",
       "4  jurgen annevelink_pers        william kent_pers      3"
      ]
     },
     "execution_count": 11,
     "metadata": {},
     "output_type": "execute_result"
    }
   ],
   "source": [
    "coauthorships.head()"
   ]
  },
  {
   "cell_type": "code",
   "execution_count": 23,
   "metadata": {
    "Collapsed": "false"
   },
   "outputs": [],
   "source": [
    "co = seq(coauthorships).map(lambda x: (*tuple(sorted((x[0],x[1]))),x[2]))\\\n",
    "    .to_pandas(columns= ['a_key','b_key','count'])\\\n",
    "    .groupby(['a_key','b_key'],as_index=False,axis=0).sum()"
   ]
  },
  {
   "cell_type": "code",
   "execution_count": 24,
   "metadata": {
    "Collapsed": "false"
   },
   "outputs": [
    {
     "data": {
      "text/plain": [
       "12284722"
      ]
     },
     "execution_count": 24,
     "metadata": {},
     "output_type": "execute_result"
    }
   ],
   "source": [
    "len(co)"
   ]
  },
  {
   "cell_type": "code",
   "execution_count": 25,
   "metadata": {
    "Collapsed": "false",
    "ExecuteTime": {
     "end_time": "2019-10-26T17:23:51.256757Z",
     "start_time": "2019-10-26T17:23:25.723274Z"
    },
    "scrolled": true
   },
   "outputs": [],
   "source": [
    "co.to_csv(base_dir + \"/coauthorships.csv\", index=False,header=False)"
   ]
  },
  {
   "cell_type": "markdown",
   "metadata": {
    "Collapsed": "false"
   },
   "source": [
    "### Inserting"
   ]
  },
  {
   "cell_type": "code",
   "execution_count": 8,
   "metadata": {
    "Collapsed": "false",
    "ExecuteTime": {
     "end_time": "2019-12-10T11:47:36.443172Z",
     "start_time": "2019-12-10T11:47:28.823782Z"
    },
    "scrolled": true
   },
   "outputs": [],
   "source": [
    "coauthorships = pd.read_csv(base_dir + \"/coauthorships.csv\",header=None,names= ['a_key','b_key','count'])"
   ]
  },
  {
   "cell_type": "code",
   "execution_count": 9,
   "metadata": {
    "Collapsed": "false",
    "ExecuteTime": {
     "end_time": "2019-12-10T11:47:37.216211Z",
     "start_time": "2019-12-10T11:47:37.211707Z"
    }
   },
   "outputs": [
    {
     "data": {
      "text/plain": [
       "12284722"
      ]
     },
     "execution_count": 9,
     "metadata": {},
     "output_type": "execute_result"
    }
   ],
   "source": [
    "len(coauthorships)"
   ]
  },
  {
   "cell_type": "code",
   "execution_count": 12,
   "metadata": {
    "ExecuteTime": {
     "end_time": "2019-12-10T11:48:33.063396Z",
     "start_time": "2019-12-10T11:48:26.586745Z"
    }
   },
   "outputs": [],
   "source": [
    "coauthorships =  coauthorships.where(coauthorships.a_key != coauthorships.b_key).dropna()"
   ]
  },
  {
   "cell_type": "code",
   "execution_count": 13,
   "metadata": {
    "Collapsed": "false",
    "ExecuteTime": {
     "end_time": "2019-12-10T11:48:36.433666Z",
     "start_time": "2019-12-10T11:48:36.430255Z"
    }
   },
   "outputs": [
    {
     "data": {
      "text/plain": [
       "12284648"
      ]
     },
     "execution_count": 13,
     "metadata": {},
     "output_type": "execute_result"
    }
   ],
   "source": [
    "len(coauthorships)"
   ]
  },
  {
   "cell_type": "code",
   "execution_count": 36,
   "metadata": {
    "Collapsed": "false",
    "ExecuteTime": {
     "end_time": "2019-10-26T19:31:04.226185Z",
     "start_time": "2019-10-26T19:31:04.222353Z"
    },
    "scrolled": true
   },
   "outputs": [
    {
     "data": {
      "text/plain": [
       "1228"
      ]
     },
     "execution_count": 36,
     "metadata": {},
     "output_type": "execute_result"
    }
   ],
   "source": [
    "chunk_nb = int(len(coauthorships) /10000)\n",
    "chunk_nb"
   ]
  },
  {
   "cell_type": "code",
   "execution_count": 40,
   "metadata": {
    "Collapsed": "false",
    "ExecuteTime": {
     "end_time": "2019-11-01T20:45:40.905900Z",
     "start_time": "2019-11-01T20:40:09.457824Z"
    }
   },
   "outputs": [
    {
     "name": "stderr",
     "output_type": "stream",
     "text": [
      "100%|██████████| 1228/1228 [17:55<00:00,  1.34it/s]\n"
     ]
    }
   ],
   "source": [
    "import tqdm\n",
    "for i,chunk in tqdm.tqdm(enumerate(np.array_split(coauthorships,chunk_nb)),total=chunk_nb):\n",
    "    entries = seq(chunk).map(lambda x : {'a':x[0],'b':x[1],'cnt': x[2]}).to_list()\n",
    "    tx= graph.begin()\n",
    "    tx.run(\"\"\"\n",
    "unwind {entries} as e\n",
    "match  (a:person{key:e.a}) with a, e\n",
    "match (b:person{key:e.b}) with a,b,e\n",
    "merge(a)-[:COAUTHORS_WITH{count: e.cnt}]->(b)\n",
    "return count(*)\n",
    "\"\"\",entries=entries)\n",
    "    tx.commit()"
   ]
  },
  {
   "cell_type": "markdown",
   "metadata": {
    "Collapsed": "false"
   },
   "source": [
    "### Creating infomap"
   ]
  },
  {
   "cell_type": "code",
   "execution_count": 14,
   "metadata": {
    "Collapsed": "false",
    "ExecuteTime": {
     "end_time": "2019-12-10T11:49:25.069980Z",
     "start_time": "2019-12-10T11:48:55.108886Z"
    }
   },
   "outputs": [],
   "source": [
    "import igraph as ig\n",
    "iGraph = ig.Graph.TupleList(seq(coauthorships).to_list(),weights=True,vertex_name_attr='id')"
   ]
  },
  {
   "cell_type": "code",
   "execution_count": 15,
   "metadata": {
    "Collapsed": "false",
    "ExecuteTime": {
     "end_time": "2019-12-10T11:49:47.036291Z",
     "start_time": "2019-12-10T11:49:38.793974Z"
    }
   },
   "outputs": [],
   "source": [
    "iGraph.write_pajek(base_dir + \"coauthorships.net\")"
   ]
  },
  {
   "cell_type": "markdown",
   "metadata": {
    "Collapsed": "false"
   },
   "source": [
    "Running infomap:\n",
    "`./Infomap  ~/blob/data/data_mining/dblp/csv/coauthorships.net .`"
   ]
  },
  {
   "cell_type": "markdown",
   "metadata": {
    "Collapsed": "false"
   },
   "source": [
    "### Inserting infomap results"
   ]
  },
  {
   "cell_type": "code",
   "execution_count": 10,
   "metadata": {
    "Collapsed": "false"
   },
   "outputs": [
    {
     "data": {
      "text/plain": [
       "'/home/owner/blob/data/data_mining/dblp/csv/'"
      ]
     },
     "execution_count": 10,
     "metadata": {},
     "output_type": "execute_result"
    }
   ],
   "source": [
    "base_dir"
   ]
  },
  {
   "cell_type": "markdown",
   "metadata": {
    "Collapsed": "false"
   },
   "source": [
    "`tail -n +3 < infomap.tree | sd '(?P<path>(\\d+:)+\\d+)\\s.*?\"(?P<id>.*?)\".*' ' $path,$id' > infomap_cleaned.csv`"
   ]
  },
  {
   "cell_type": "code",
   "execution_count": 9,
   "metadata": {
    "Collapsed": "false"
   },
   "outputs": [],
   "source": [
    "infomap = pd.read_csv(base_dir + \"/infomap/infomap_cleaned.csv\",header=None,names=['path','key'])"
   ]
  },
  {
   "cell_type": "code",
   "execution_count": 10,
   "metadata": {
    "Collapsed": "false"
   },
   "outputs": [],
   "source": [
    "infomap['path_len'] = infomap.path.apply(lambda x : len(x.split(\":\")))"
   ]
  },
  {
   "cell_type": "code",
   "execution_count": 11,
   "metadata": {
    "Collapsed": "false"
   },
   "outputs": [
    {
     "data": {
      "text/html": [
       "<div>\n",
       "<style scoped>\n",
       "    .dataframe tbody tr th:only-of-type {\n",
       "        vertical-align: middle;\n",
       "    }\n",
       "\n",
       "    .dataframe tbody tr th {\n",
       "        vertical-align: top;\n",
       "    }\n",
       "\n",
       "    .dataframe thead th {\n",
       "        text-align: right;\n",
       "    }\n",
       "</style>\n",
       "<table border=\"1\" class=\"dataframe\">\n",
       "  <thead>\n",
       "    <tr style=\"text-align: right;\">\n",
       "      <th></th>\n",
       "      <th>path</th>\n",
       "      <th>key</th>\n",
       "      <th>path_len</th>\n",
       "    </tr>\n",
       "  </thead>\n",
       "  <tbody>\n",
       "    <tr>\n",
       "      <th>0</th>\n",
       "      <td>1:1:1</td>\n",
       "      <td>qiang wang_pers</td>\n",
       "      <td>3</td>\n",
       "    </tr>\n",
       "    <tr>\n",
       "      <th>1</th>\n",
       "      <td>1:1:2</td>\n",
       "      <td>philip h. s. torr_pers</td>\n",
       "      <td>3</td>\n",
       "    </tr>\n",
       "    <tr>\n",
       "      <th>2</th>\n",
       "      <td>1:1:3</td>\n",
       "      <td>jiri matas_pers</td>\n",
       "      <td>3</td>\n",
       "    </tr>\n",
       "    <tr>\n",
       "      <th>3</th>\n",
       "      <td>1:1:4</td>\n",
       "      <td>haibin ling_pers</td>\n",
       "      <td>3</td>\n",
       "    </tr>\n",
       "    <tr>\n",
       "      <th>4</th>\n",
       "      <td>1:1:5</td>\n",
       "      <td>zheng zhang_pers</td>\n",
       "      <td>3</td>\n",
       "    </tr>\n",
       "  </tbody>\n",
       "</table>\n",
       "</div>"
      ],
      "text/plain": [
       "     path                     key  path_len\n",
       "0   1:1:1         qiang wang_pers         3\n",
       "1   1:1:2  philip h. s. torr_pers         3\n",
       "2   1:1:3         jiri matas_pers         3\n",
       "3   1:1:4        haibin ling_pers         3\n",
       "4   1:1:5        zheng zhang_pers         3"
      ]
     },
     "execution_count": 11,
     "metadata": {},
     "output_type": "execute_result"
    }
   ],
   "source": [
    "infomap.head()"
   ]
  },
  {
   "cell_type": "code",
   "execution_count": null,
   "metadata": {
    "Collapsed": "false"
   },
   "outputs": [],
   "source": []
  },
  {
   "cell_type": "code",
   "execution_count": 8,
   "metadata": {
    "Collapsed": "false"
   },
   "outputs": [
    {
     "data": {
      "text/plain": [
       "(2, 5)"
      ]
     },
     "execution_count": 8,
     "metadata": {},
     "output_type": "execute_result"
    }
   ],
   "source": [
    "infomap.path_len.min(),infomap.path_len.max()"
   ]
  },
  {
   "cell_type": "markdown",
   "metadata": {
    "Collapsed": "false"
   },
   "source": [
    "#### Trimming paths"
   ]
  },
  {
   "cell_type": "code",
   "execution_count": 10,
   "metadata": {
    "Collapsed": "false"
   },
   "outputs": [
    {
     "data": {
      "text/plain": [
       "<matplotlib.axes._subplots.AxesSubplot at 0x7f9f90f9d6d0>"
      ]
     },
     "execution_count": 10,
     "metadata": {},
     "output_type": "execute_result"
    },
    {
     "data": {
      "image/png": "[encoded data removed]",
      "text/plain": [
       "<Figure size 432x288 with 1 Axes>"
      ]
     },
     "metadata": {
      "needs_background": "light"
     },
     "output_type": "display_data"
    }
   ],
   "source": [
    "infomap.path_len.hist(bins=10)"
   ]
  },
  {
   "cell_type": "code",
   "execution_count": 12,
   "metadata": {
    "Collapsed": "false"
   },
   "outputs": [
    {
     "data": {
      "text/html": [
       "<div>\n",
       "<style scoped>\n",
       "    .dataframe tbody tr th:only-of-type {\n",
       "        vertical-align: middle;\n",
       "    }\n",
       "\n",
       "    .dataframe tbody tr th {\n",
       "        vertical-align: top;\n",
       "    }\n",
       "\n",
       "    .dataframe thead th {\n",
       "        text-align: right;\n",
       "    }\n",
       "</style>\n",
       "<table border=\"1\" class=\"dataframe\">\n",
       "  <thead>\n",
       "    <tr style=\"text-align: right;\">\n",
       "      <th></th>\n",
       "      <th>path</th>\n",
       "      <th>key</th>\n",
       "      <th>path_len</th>\n",
       "    </tr>\n",
       "  </thead>\n",
       "  <tbody>\n",
       "    <tr>\n",
       "      <th>0</th>\n",
       "      <td>1:1:1</td>\n",
       "      <td>qiang wang_pers</td>\n",
       "      <td>3</td>\n",
       "    </tr>\n",
       "  </tbody>\n",
       "</table>\n",
       "</div>"
      ],
      "text/plain": [
       "     path              key  path_len\n",
       "0   1:1:1  qiang wang_pers         3"
      ]
     },
     "execution_count": 12,
     "metadata": {},
     "output_type": "execute_result"
    }
   ],
   "source": [
    "infomap.head(n=1)"
   ]
  },
  {
   "cell_type": "code",
   "execution_count": 13,
   "metadata": {
    "Collapsed": "false"
   },
   "outputs": [],
   "source": [
    "def path3(s:str) -> str:\n",
    "    s = s.split(\":\")\n",
    "    return \"{}:{}:{}\".format(s[0],s[1], s[2] if len(s) >2 else 0)\n",
    "\n",
    "def path2(s:str) -> str:\n",
    "    s = s.split(\":\")\n",
    "    return \"{}:{}\".format(s[0],s[1])"
   ]
  },
  {
   "cell_type": "code",
   "execution_count": 14,
   "metadata": {
    "Collapsed": "false"
   },
   "outputs": [],
   "source": [
    "infomap['path2'] = infomap.path.apply(path2)\n",
    "infomap['path3'] = infomap.path.apply(path3)"
   ]
  },
  {
   "cell_type": "code",
   "execution_count": 15,
   "metadata": {
    "Collapsed": "false"
   },
   "outputs": [],
   "source": [
    "infomap['major'] = infomap.path.apply(lambda p: int(p.split(':')[0]))\n",
    "infomap['minor'] = infomap.path.apply(lambda p: int(p.split(':')[1]))"
   ]
  },
  {
   "cell_type": "code",
   "execution_count": 16,
   "metadata": {
    "Collapsed": "false"
   },
   "outputs": [
    {
     "name": "stdout",
     "output_type": "stream",
     "text": [
      "1 57627\n",
      "1 10910\n"
     ]
    }
   ],
   "source": [
    "print(infomap.minor.min(),infomap.major.max())\n",
    "print(infomap.minor.min(),infomap.minor.max())"
   ]
  },
  {
   "cell_type": "code",
   "execution_count": 17,
   "metadata": {
    "Collapsed": "false"
   },
   "outputs": [
    {
     "data": {
      "text/html": [
       "<div>\n",
       "<style scoped>\n",
       "    .dataframe tbody tr th:only-of-type {\n",
       "        vertical-align: middle;\n",
       "    }\n",
       "\n",
       "    .dataframe tbody tr th {\n",
       "        vertical-align: top;\n",
       "    }\n",
       "\n",
       "    .dataframe thead th {\n",
       "        text-align: right;\n",
       "    }\n",
       "</style>\n",
       "<table border=\"1\" class=\"dataframe\">\n",
       "  <thead>\n",
       "    <tr style=\"text-align: right;\">\n",
       "      <th></th>\n",
       "      <th>path</th>\n",
       "      <th>key</th>\n",
       "      <th>path_len</th>\n",
       "      <th>path2</th>\n",
       "      <th>path3</th>\n",
       "      <th>major</th>\n",
       "      <th>minor</th>\n",
       "    </tr>\n",
       "  </thead>\n",
       "  <tbody>\n",
       "    <tr>\n",
       "      <th>0</th>\n",
       "      <td>1:1:1</td>\n",
       "      <td>qiang wang_pers</td>\n",
       "      <td>3</td>\n",
       "      <td>1:1</td>\n",
       "      <td>1:1:1</td>\n",
       "      <td>1</td>\n",
       "      <td>1</td>\n",
       "    </tr>\n",
       "    <tr>\n",
       "      <th>1</th>\n",
       "      <td>1:1:2</td>\n",
       "      <td>philip h. s. torr_pers</td>\n",
       "      <td>3</td>\n",
       "      <td>1:1</td>\n",
       "      <td>1:1:2</td>\n",
       "      <td>1</td>\n",
       "      <td>1</td>\n",
       "    </tr>\n",
       "    <tr>\n",
       "      <th>2</th>\n",
       "      <td>1:1:3</td>\n",
       "      <td>jiri matas_pers</td>\n",
       "      <td>3</td>\n",
       "      <td>1:1</td>\n",
       "      <td>1:1:3</td>\n",
       "      <td>1</td>\n",
       "      <td>1</td>\n",
       "    </tr>\n",
       "    <tr>\n",
       "      <th>3</th>\n",
       "      <td>1:1:4</td>\n",
       "      <td>haibin ling_pers</td>\n",
       "      <td>3</td>\n",
       "      <td>1:1</td>\n",
       "      <td>1:1:4</td>\n",
       "      <td>1</td>\n",
       "      <td>1</td>\n",
       "    </tr>\n",
       "    <tr>\n",
       "      <th>4</th>\n",
       "      <td>1:1:5</td>\n",
       "      <td>zheng zhang_pers</td>\n",
       "      <td>3</td>\n",
       "      <td>1:1</td>\n",
       "      <td>1:1:5</td>\n",
       "      <td>1</td>\n",
       "      <td>1</td>\n",
       "    </tr>\n",
       "  </tbody>\n",
       "</table>\n",
       "</div>"
      ],
      "text/plain": [
       "     path                     key  path_len path2   path3  major  minor\n",
       "0   1:1:1         qiang wang_pers         3   1:1   1:1:1      1      1\n",
       "1   1:1:2  philip h. s. torr_pers         3   1:1   1:1:2      1      1\n",
       "2   1:1:3         jiri matas_pers         3   1:1   1:1:3      1      1\n",
       "3   1:1:4        haibin ling_pers         3   1:1   1:1:4      1      1\n",
       "4   1:1:5        zheng zhang_pers         3   1:1   1:1:5      1      1"
      ]
     },
     "execution_count": 17,
     "metadata": {},
     "output_type": "execute_result"
    }
   ],
   "source": [
    "infomap.head()"
   ]
  },
  {
   "cell_type": "code",
   "execution_count": 20,
   "metadata": {
    "Collapsed": "false"
   },
   "outputs": [],
   "source": [
    "infomap.to_csv(infomap_dir  + 'author_community.csv',index=False)"
   ]
  },
  {
   "cell_type": "code",
   "execution_count": 71,
   "metadata": {
    "Collapsed": "false"
   },
   "outputs": [],
   "source": [
    "infomap_counts = infomap[['path2','key']].groupby('path2',as_index = False).count()\n",
    "infomap_counts = infomap_counts.where(infomap_counts.key >1).dropna()"
   ]
  },
  {
   "cell_type": "code",
   "execution_count": 72,
   "metadata": {
    "Collapsed": "false"
   },
   "outputs": [
    {
     "data": {
      "text/html": [
       "<div>\n",
       "<style scoped>\n",
       "    .dataframe tbody tr th:only-of-type {\n",
       "        vertical-align: middle;\n",
       "    }\n",
       "\n",
       "    .dataframe tbody tr th {\n",
       "        vertical-align: top;\n",
       "    }\n",
       "\n",
       "    .dataframe thead th {\n",
       "        text-align: right;\n",
       "    }\n",
       "</style>\n",
       "<table border=\"1\" class=\"dataframe\">\n",
       "  <thead>\n",
       "    <tr style=\"text-align: right;\">\n",
       "      <th></th>\n",
       "      <th>key</th>\n",
       "    </tr>\n",
       "  </thead>\n",
       "  <tbody>\n",
       "    <tr>\n",
       "      <th>0.500</th>\n",
       "      <td>12.000</td>\n",
       "    </tr>\n",
       "    <tr>\n",
       "      <th>0.800</th>\n",
       "      <td>33.000</td>\n",
       "    </tr>\n",
       "    <tr>\n",
       "      <th>0.900</th>\n",
       "      <td>53.000</td>\n",
       "    </tr>\n",
       "    <tr>\n",
       "      <th>0.999</th>\n",
       "      <td>296.766</td>\n",
       "    </tr>\n",
       "    <tr>\n",
       "      <th>1.000</th>\n",
       "      <td>792.000</td>\n",
       "    </tr>\n",
       "  </tbody>\n",
       "</table>\n",
       "</div>"
      ],
      "text/plain": [
       "           key\n",
       "0.500   12.000\n",
       "0.800   33.000\n",
       "0.900   53.000\n",
       "0.999  296.766\n",
       "1.000  792.000"
      ]
     },
     "execution_count": 72,
     "metadata": {},
     "output_type": "execute_result"
    }
   ],
   "source": [
    "infomap_counts.quantile([0.5,0.8,0.9,0.999,1])"
   ]
  },
  {
   "cell_type": "code",
   "execution_count": 74,
   "metadata": {
    "Collapsed": "false"
   },
   "outputs": [
    {
     "data": {
      "text/html": [
       "<div>\n",
       "<style scoped>\n",
       "    .dataframe tbody tr th:only-of-type {\n",
       "        vertical-align: middle;\n",
       "    }\n",
       "\n",
       "    .dataframe tbody tr th {\n",
       "        vertical-align: top;\n",
       "    }\n",
       "\n",
       "    .dataframe thead th {\n",
       "        text-align: right;\n",
       "    }\n",
       "</style>\n",
       "<table border=\"1\" class=\"dataframe\">\n",
       "  <thead>\n",
       "    <tr style=\"text-align: right;\">\n",
       "      <th></th>\n",
       "      <th>path2</th>\n",
       "      <th>key</th>\n",
       "    </tr>\n",
       "  </thead>\n",
       "  <tbody>\n",
       "    <tr>\n",
       "      <th>476</th>\n",
       "      <td>100:1</td>\n",
       "      <td>151.0</td>\n",
       "    </tr>\n",
       "  </tbody>\n",
       "</table>\n",
       "</div>"
      ],
      "text/plain": [
       "      path2    key\n",
       "476   100:1  151.0"
      ]
     },
     "execution_count": 74,
     "metadata": {},
     "output_type": "execute_result"
    }
   ],
   "source": [
    "infomap_counts.head(n=1)"
   ]
  },
  {
   "cell_type": "code",
   "execution_count": 75,
   "metadata": {
    "Collapsed": "false"
   },
   "outputs": [],
   "source": [
    "interesting_infomaps = seq(infomap_counts.path2).to_set()"
   ]
  },
  {
   "cell_type": "code",
   "execution_count": 76,
   "metadata": {
    "Collapsed": "false"
   },
   "outputs": [],
   "source": [
    "infomap_to_insert = infomap.where(infomap.path2.isin(interesting_infomaps)).dropna()[['path2','key']]"
   ]
  },
  {
   "cell_type": "code",
   "execution_count": 81,
   "metadata": {
    "Collapsed": "false"
   },
   "outputs": [
    {
     "name": "stdout",
     "output_type": "stream",
     "text": [
      "0.9300710969646352\n"
     ]
    },
    {
     "data": {
      "text/html": [
       "<div>\n",
       "<style scoped>\n",
       "    .dataframe tbody tr th:only-of-type {\n",
       "        vertical-align: middle;\n",
       "    }\n",
       "\n",
       "    .dataframe tbody tr th {\n",
       "        vertical-align: top;\n",
       "    }\n",
       "\n",
       "    .dataframe thead th {\n",
       "        text-align: right;\n",
       "    }\n",
       "</style>\n",
       "<table border=\"1\" class=\"dataframe\">\n",
       "  <thead>\n",
       "    <tr style=\"text-align: right;\">\n",
       "      <th></th>\n",
       "      <th>path2</th>\n",
       "      <th>key</th>\n",
       "    </tr>\n",
       "  </thead>\n",
       "  <tbody>\n",
       "    <tr>\n",
       "      <th>0</th>\n",
       "      <td>1:1</td>\n",
       "      <td>qiang wang_pers</td>\n",
       "    </tr>\n",
       "    <tr>\n",
       "      <th>1</th>\n",
       "      <td>1:1</td>\n",
       "      <td>philip h. s. torr_pers</td>\n",
       "    </tr>\n",
       "    <tr>\n",
       "      <th>2</th>\n",
       "      <td>1:1</td>\n",
       "      <td>jiri matas_pers</td>\n",
       "    </tr>\n",
       "    <tr>\n",
       "      <th>3</th>\n",
       "      <td>1:1</td>\n",
       "      <td>haibin ling_pers</td>\n",
       "    </tr>\n",
       "    <tr>\n",
       "      <th>4</th>\n",
       "      <td>1:1</td>\n",
       "      <td>zheng zhang_pers</td>\n",
       "    </tr>\n",
       "  </tbody>\n",
       "</table>\n",
       "</div>"
      ],
      "text/plain": [
       "  path2                     key\n",
       "0   1:1         qiang wang_pers\n",
       "1   1:1  philip h. s. torr_pers\n",
       "2   1:1         jiri matas_pers\n",
       "3   1:1        haibin ling_pers\n",
       "4   1:1        zheng zhang_pers"
      ]
     },
     "execution_count": 81,
     "metadata": {},
     "output_type": "execute_result"
    }
   ],
   "source": [
    "print(len(infomap_to_insert)/len(infomap))\n",
    "infomap_to_insert.head()"
   ]
  },
  {
   "cell_type": "code",
   "execution_count": 84,
   "metadata": {
    "Collapsed": "false",
    "ExecuteTime": {
     "end_time": "2019-10-26T19:31:04.226185Z",
     "start_time": "2019-10-26T19:31:04.222353Z"
    },
    "scrolled": true
   },
   "outputs": [
    {
     "data": {
      "text/plain": [
       "215"
      ]
     },
     "execution_count": 84,
     "metadata": {},
     "output_type": "execute_result"
    }
   ],
   "source": [
    "chunk_nb = int(len(infomap_to_insert) /10000)\n",
    "chunk_nb"
   ]
  },
  {
   "cell_type": "code",
   "execution_count": 85,
   "metadata": {
    "Collapsed": "false",
    "ExecuteTime": {
     "end_time": "2019-11-01T20:39:16.965550Z",
     "start_time": "2019-11-01T20:39:16.956645Z"
    },
    "scrolled": true
   },
   "outputs": [
    {
     "name": "stderr",
     "output_type": "stream",
     "text": [
      "100%|██████████| 215/215 [01:14<00:00,  2.37it/s]\n"
     ]
    }
   ],
   "source": [
    "import tqdm\n",
    "for i, chunk in tqdm.tqdm(enumerate(np.array_split(infomap_to_insert,chunk_nb)),total=chunk_nb):\n",
    "    entries = seq(chunk).map(lambda x : {'label':x[0],'person':x[1]}).to_list()\n",
    "    tx= graph.begin()\n",
    "    tx.run(\"\"\"\n",
    "unwind {entries} as e\n",
    "MATCH (a:person{key:e.person})\n",
    "set a.infomap = e.label\n",
    "\"\"\",entries=entries)\n",
    "    tx.commit()\n"
   ]
  },
  {
   "cell_type": "code",
   "execution_count": 8,
   "metadata": {
    "Collapsed": "false",
    "ExecuteTime": {
     "end_time": "2019-11-06T16:32:20.923771Z",
     "start_time": "2019-11-06T16:32:19.577520Z"
    }
   },
   "outputs": [],
   "source": [
    "infomap = pd.read_csv(base_dir + \"/infomap_minor/author_community.csv\",header=None)\n",
    "infomap.columns = ['major','minor','key']"
   ]
  },
  {
   "cell_type": "code",
   "execution_count": 9,
   "metadata": {
    "Collapsed": "false",
    "ExecuteTime": {
     "end_time": "2019-11-06T16:32:29.570308Z",
     "start_time": "2019-11-06T16:32:29.539903Z"
    }
   },
   "outputs": [
    {
     "name": "stdout",
     "output_type": "stream",
     "text": [
      "57627\n"
     ]
    }
   ],
   "source": [
    "major_max = infomap.major.max()\n",
    "minor_max = infomap.minor.max()\n",
    "print(major_max)"
   ]
  },
  {
   "cell_type": "code",
   "execution_count": 19,
   "metadata": {
    "Collapsed": "false",
    "ExecuteTime": {
     "end_time": "2019-11-03T12:39:10.344583Z",
     "start_time": "2019-11-03T12:39:09.397119Z"
    }
   },
   "outputs": [
    {
     "data": {
      "text/html": [
       "<table>\n",
       "<tbody>\n",
       "<tr><td>1:36</td><td style=\"text-align: right;\">1</td><td style=\"text-align: right;\"> 1</td><td>hannu tenhunen_pers           </td></tr>\n",
       "<tr><td>1:36</td><td style=\"text-align: right;\">1</td><td style=\"text-align: right;\"> 2</td><td>pasi liljeberg_pers           </td></tr>\n",
       "<tr><td>1:36</td><td style=\"text-align: right;\">1</td><td style=\"text-align: right;\"> 3</td><td>juha plosila_pers             </td></tr>\n",
       "<tr><td>1:36</td><td style=\"text-align: right;\">1</td><td style=\"text-align: right;\"> 4</td><td>masoud daneshtalab_pers       </td></tr>\n",
       "<tr><td>1:36</td><td style=\"text-align: right;\">1</td><td style=\"text-align: right;\"> 5</td><td>amir-mohammad rahmani_pers    </td></tr>\n",
       "<tr><td>1:36</td><td style=\"text-align: right;\">1</td><td style=\"text-align: right;\"> 6</td><td>masoumeh ebrahimi_pers        </td></tr>\n",
       "<tr><td>1:36</td><td style=\"text-align: right;\">1</td><td style=\"text-align: right;\"> 7</td><td>amir m. rahmani_pers          </td></tr>\n",
       "<tr><td>1:36</td><td style=\"text-align: right;\">1</td><td style=\"text-align: right;\"> 8</td><td>tiberiu seceleanu_pers        </td></tr>\n",
       "<tr><td>1:36</td><td style=\"text-align: right;\">1</td><td style=\"text-align: right;\"> 9</td><td>tomi westerlund_pers          </td></tr>\n",
       "<tr><td>1:36</td><td style=\"text-align: right;\">1</td><td style=\"text-align: right;\">10</td><td>mohammad hashem haghbayan_pers</td></tr>\n",
       "</tbody>\n",
       "</table><p>Showing 10 of 335314 rows"
      ],
      "text/plain": [
       "[array(['1:36', 1, 1.0, 'hannu tenhunen_pers'], dtype=object), array(['1:36', 1, 2.0, 'pasi liljeberg_pers'], dtype=object), array(['1:36', 1, 3.0, 'juha plosila_pers'], dtype=object), array(['1:36', 1, 4.0, 'masoud daneshtalab_pers'], dtype=object), array(['1:36', 1, 5.0, 'amir-mohammad rahmani_pers'], dtype=object), array(['1:36', 1, 6.0, 'masoumeh ebrahimi_pers'], dtype=object), array(['1:36', 1, 7.0, 'amir m. rahmani_pers'], dtype=object), array(['1:36', 1, 8.0, 'tiberiu seceleanu_pers'], dtype=object), array(['1:36', 1, 9.0, 'tomi westerlund_pers'], dtype=object), array(['1:36', 1, 10.0, 'mohammad hashem haghbayan_pers'], dtype=object), array(['1:36', 1, 11.0, 'tuan nguyen gia_pers'], dtype=object), array(['1:36', 1, 12.0, 'thomas canhao xu_pers'], dtype=object), array(['1:36', 1, 13.0, 'arman anzanpour_pers'], dtype=object), array(['1:36', 1, 14.0, 'khalid latif 0002_pers'], dtype=object), array(['1:36', 1, 15.0, 'iman azimi_pers'], dtype=object), array(['1:36', 1, 16.0, 'fahimeh farahnakian_pers'], dtype=object), array(['1:36', 1, 17.0, 'kameswar rao vaddina_pers'], dtype=object), array(['1:36', 1, 18.0, 'anil kanduri_pers'], dtype=object), array(['1:36', 1, 19.0, 'amin majd_pers'], dtype=object), array(['1:36', 1, 20.0, 'mohammad fattah_pers'], dtype=object), array(['1:36', 1, 21.0, 'mingzhe jiang_pers'], dtype=object), array(['1:36', 1, 22.0, 'sergei dytckov_pers'], dtype=object), array(['1:36', 1, 23.0, 'golnaz sahebi_pers'], dtype=object), array(['1:36', 1, 24.0, 'gaetana sapienza_pers'], dtype=object), array(['1:36', 1, 25.0, 'behailu negash_pers'], dtype=object), array(['1:36', 1, 26.0, 'hassan anwar_pers'], dtype=object), array(['1:36', 1, 27.0, 'igor tcarenko_pers'], dtype=object), array(['1:36', 1, 28.0, 'anna axelin_pers'], dtype=object), array(['1:36', 1, 29.0, 'mohammad loni_pers'], dtype=object), array(['1:36', 1, 30.0, 'bo yang 0009_pers'], dtype=object), array(['1:36', 1, 31.0, 'mai ali_pers'], dtype=object), array(['1:36', 1, 32.0, 'alexander wei yin_pers'], dtype=object), array(['1:36', 1, 33.0, 'jose granados_pers'], dtype=object), array(['1:36', 1, 34.0, 'moazzam fareed niazi_pers'], dtype=object), array(['1:36', 1, 35.0, 'sina shahhosseini_pers'], dtype=object), array(['1:36', 1, 36.0, 'maximilian gotzinger_pers'], dtype=object), array(['1:36', 1, 37.0, 'marco ramírez_pers'], dtype=object), array(['1:36', 1, 38.0, 'jorge peña queralta_pers'], dtype=object), array(['1:36', 1, 39.0, 'olugbenga oti_pers'], dtype=object), array(['1:36', 1, 40.0, 'hannakaisa niela-vilén_pers'], dtype=object), array(['1:36', 1, 41.0, 'martin pongratz_pers'], dtype=object), array(['1:36', 1, 42.0, 'victor kathan sarker_pers'], dtype=object), array(['1:36', 1, 43.0, 'syed rameez ullah kakakhel_pers'], dtype=object), array(['1:36', 1, 44.0, 'markus laurinen_pers'], dtype=object), array(['1:36', 1, 45.0, 'shima soroushnia_pers'], dtype=object), array(['1:36', 1, 46.0, 'elham shamsa_pers'], dtype=object), array(['1:36', 1, 47.0, 'victor k. sarker_pers'], dtype=object), array(['1:36', 1, 48.0, 'toni westerlund_pers'], dtype=object), array(['1:36', 1, 49.0, 'sami teravainen_pers'], dtype=object), array(['1:36', 1, 50.0, 'maghsood salimi_pers'], dtype=object), array(['1:36', 1, 51.0, 'andreas gothenberg_pers'], dtype=object), array(['1:36', 1, 52.0, 'sina labbaf_pers'], dtype=object), array(['1:36', 1, 53.0, 'guangchao ji_pers'], dtype=object), array(['1:36', 1, 54.0, 'anurag anurag_pers'], dtype=object), array(['1:36', 1, 55.0, 'tuan ngyen_pers'], dtype=object), array(['1:36', 1, 56.0, 'riitta mieronkoski_pers'], dtype=object), array(['1:36', 1, 57.0, 'nora hagelberg_pers'], dtype=object), array(['1:36', 1, 58.0, 'mohammad r. nakhkash_pers'], dtype=object), array(['1:36', 1, 59.0, 'bingxin li_pers'], dtype=object), array(['1:36', 1, 60.0, 'abdolah loni_pers'], dtype=object), array(['1:36', 1, 61.0, 'masoumeh kamali_pers'], dtype=object), array(['1:36', 1, 62.0, 'emad kasaeyan naeini_pers'], dtype=object), array(['1:36', 1, 63.0, 'c. mccord_pers'], dtype=object), array(['1:36', 1, 64.0, 'uzair a. noman_pers'], dtype=object), array(['1:36', 1, 65.0, 'elise syrjälä_pers'], dtype=object), array(['1:36', 1, 66.0, 'sushri sunita purohit_pers'], dtype=object), array(['1:36', 1, 67.0, 'ali zoljodi_pers'], dtype=object), array(['1:36', 1, 68.0, 'adam strak_pers'], dtype=object), array(['1:36', 1, 69.0, 'nguyen duc bui phong_pers'], dtype=object), array(['1:36', 1, 70.0, 'johanna tuominen_pers'], dtype=object), array(['1:36', 1, 71.0, 'lauri mukkala_pers'], dtype=object), array(['1:36', 1, 72.0, 'tomi metsälä_pers'], dtype=object), array(['1:36', 1, 73.0, 'abdulakeem odunmbaku_pers'], dtype=object), array(['1:36', 1, 74.0, 'robert eksten_pers'], dtype=object), array(['1:36', 1, 75.0, 'b. e. jonsson_pers'], dtype=object), array(['1:36', 1, 76.0, 'ronald wolvers_pers'], dtype=object), array(['1:36', 2, 1.0, 'axel jantsch_pers'], dtype=object), array(['1:36', 2, 2.0, 'zhonghai lu_pers'], dtype=object), array(['1:36', 2, 3.0, 'ingo sander_pers'], dtype=object), array(['1:36', 2, 4.0, 'wolfgang kuehn_pers'], dtype=object), array(['1:36', 2, 5.0, 'ming liu 0011_pers'], dtype=object), array(['1:36', 2, 6.0, 'mikael millberg_pers'], dtype=object), array(['1:36', 2, 7.0, 'seyed-hosein attarzadeh-niaki_pers'], dtype=object), array(['1:36', 2, 8.0, 'huimin she_pers'], dtype=object), array(['1:36', 2, 9.0, 'johannes lang_pers'], dtype=object), array(['1:36', 2, 10.0, 'jun zhu 0011_pers'], dtype=object), array(['1:36', 2, 11.0, 'abdul naeem_pers'], dtype=object), array(['1:36', 2, 12.0, 'zhenan liu_pers'], dtype=object), array(['1:36', 2, 13.0, 'erland nilsson_pers'], dtype=object), array(['1:36', 2, 14.0, 'tarvo raudvere_pers'], dtype=object), array(['1:36', 2, 15.0, 'george ungureanu_pers'], dtype=object), array(['1:36', 2, 16.0, 'rikard thid_pers'], dtype=object), array(['1:36', 2, 17.0, 'j. roskoss_pers'], dtype=object), array(['1:36', 2, 18.0, 'robert lauter_pers'], dtype=object), array(['1:36', 2, 19.0, 'dávid juhász_pers'], dtype=object), array(['1:36', 2, 20.0, 'per bjuréus_pers'], dtype=object), array(['1:36', 2, 21.0, 'raimo haukilahti_pers'], dtype=object), array(['1:36', 2, 22.0, 'mikkel koefoed jakobsen_pers'], dtype=object), array(['1:36', 2, 23.0, 'yanchen long_pers'], dtype=object), array(['1:36', 2, 24.0, 'mathias verdon_pers'], dtype=object), ...]"
      ]
     },
     "execution_count": 19,
     "metadata": {},
     "output_type": "execute_result"
    }
   ],
   "source": [
    "seq(infomap).filter(lambda x: not str(x[0]).isnumeric() )"
   ]
  },
  {
   "cell_type": "markdown",
   "metadata": {
    "Collapsed": "false"
   },
   "source": [
    "### Minor:"
   ]
  },
  {
   "cell_type": "code",
   "execution_count": 13,
   "metadata": {
    "Collapsed": "false",
    "ExecuteTime": {
     "end_time": "2019-11-03T12:36:25.498645Z",
     "start_time": "2019-11-03T12:36:25.301340Z"
    }
   },
   "outputs": [
    {
     "ename": "TypeError",
     "evalue": "'>=' not supported between instances of 'str' and 'int'",
     "output_type": "error",
     "traceback": [
      "\u001b[0;31m---------------------------------------------------------------------------\u001b[0m",
      "\u001b[0;31mTypeError\u001b[0m                                 Traceback (most recent call last)",
      "\u001b[0;32m~/.local/lib/python3.7/site-packages/pandas/core/nanops.py\u001b[0m in \u001b[0;36mf\u001b[0;34m(values, axis, skipna, **kwds)\u001b[0m\n\u001b[1;32m    126\u001b[0m                 \u001b[0;32melse\u001b[0m\u001b[0;34m:\u001b[0m\u001b[0;34m\u001b[0m\u001b[0;34m\u001b[0m\u001b[0m\n\u001b[0;32m--> 127\u001b[0;31m                     \u001b[0mresult\u001b[0m \u001b[0;34m=\u001b[0m \u001b[0malt\u001b[0m\u001b[0;34m(\u001b[0m\u001b[0mvalues\u001b[0m\u001b[0;34m,\u001b[0m \u001b[0maxis\u001b[0m\u001b[0;34m=\u001b[0m\u001b[0maxis\u001b[0m\u001b[0;34m,\u001b[0m \u001b[0mskipna\u001b[0m\u001b[0;34m=\u001b[0m\u001b[0mskipna\u001b[0m\u001b[0;34m,\u001b[0m \u001b[0;34m**\u001b[0m\u001b[0mkwds\u001b[0m\u001b[0;34m)\u001b[0m\u001b[0;34m\u001b[0m\u001b[0;34m\u001b[0m\u001b[0m\n\u001b[0m\u001b[1;32m    128\u001b[0m             \u001b[0;32mexcept\u001b[0m \u001b[0mException\u001b[0m\u001b[0;34m:\u001b[0m\u001b[0;34m\u001b[0m\u001b[0;34m\u001b[0m\u001b[0m\n",
      "\u001b[0;32m~/.local/lib/python3.7/site-packages/pandas/core/nanops.py\u001b[0m in \u001b[0;36mreduction\u001b[0;34m(values, axis, skipna, mask)\u001b[0m\n\u001b[1;32m    741\u001b[0m         \u001b[0;32melse\u001b[0m\u001b[0;34m:\u001b[0m\u001b[0;34m\u001b[0m\u001b[0;34m\u001b[0m\u001b[0m\n\u001b[0;32m--> 742\u001b[0;31m             \u001b[0mresult\u001b[0m \u001b[0;34m=\u001b[0m \u001b[0mgetattr\u001b[0m\u001b[0;34m(\u001b[0m\u001b[0mvalues\u001b[0m\u001b[0;34m,\u001b[0m \u001b[0mmeth\u001b[0m\u001b[0;34m)\u001b[0m\u001b[0;34m(\u001b[0m\u001b[0maxis\u001b[0m\u001b[0;34m)\u001b[0m\u001b[0;34m\u001b[0m\u001b[0;34m\u001b[0m\u001b[0m\n\u001b[0m\u001b[1;32m    743\u001b[0m \u001b[0;34m\u001b[0m\u001b[0m\n",
      "\u001b[0;32m~/.local/lib/python3.7/site-packages/numpy/core/_methods.py\u001b[0m in \u001b[0;36m_amax\u001b[0;34m(a, axis, out, keepdims, initial)\u001b[0m\n\u001b[1;32m     27\u001b[0m           initial=_NoValue):\n\u001b[0;32m---> 28\u001b[0;31m     \u001b[0;32mreturn\u001b[0m \u001b[0mumr_maximum\u001b[0m\u001b[0;34m(\u001b[0m\u001b[0ma\u001b[0m\u001b[0;34m,\u001b[0m \u001b[0maxis\u001b[0m\u001b[0;34m,\u001b[0m \u001b[0;32mNone\u001b[0m\u001b[0;34m,\u001b[0m \u001b[0mout\u001b[0m\u001b[0;34m,\u001b[0m \u001b[0mkeepdims\u001b[0m\u001b[0;34m,\u001b[0m \u001b[0minitial\u001b[0m\u001b[0;34m)\u001b[0m\u001b[0;34m\u001b[0m\u001b[0;34m\u001b[0m\u001b[0m\n\u001b[0m\u001b[1;32m     29\u001b[0m \u001b[0;34m\u001b[0m\u001b[0m\n",
      "\u001b[0;31mTypeError\u001b[0m: '>=' not supported between instances of 'str' and 'int'",
      "\nDuring handling of the above exception, another exception occurred:\n",
      "\u001b[0;31mTypeError\u001b[0m                                 Traceback (most recent call last)",
      "\u001b[0;32m<ipython-input-13-ed60cdf44a81>\u001b[0m in \u001b[0;36m<module>\u001b[0;34m\u001b[0m\n\u001b[0;32m----> 1\u001b[0;31m \u001b[0mmax_major\u001b[0m \u001b[0;34m=\u001b[0m \u001b[0minfomap\u001b[0m\u001b[0;34m.\u001b[0m\u001b[0mmajor\u001b[0m\u001b[0;34m.\u001b[0m\u001b[0mmax\u001b[0m\u001b[0;34m(\u001b[0m\u001b[0;34m)\u001b[0m\u001b[0;34m\u001b[0m\u001b[0;34m\u001b[0m\u001b[0m\n\u001b[0m\u001b[1;32m      2\u001b[0m \u001b[0minfomap\u001b[0m\u001b[0;34m[\u001b[0m\u001b[0;34m'label'\u001b[0m\u001b[0;34m]\u001b[0m \u001b[0;34m=\u001b[0m \u001b[0minfomap\u001b[0m\u001b[0;34m.\u001b[0m\u001b[0mmajor\u001b[0m \u001b[0;34m*\u001b[0m \u001b[0mmax_major\u001b[0m \u001b[0;34m+\u001b[0m \u001b[0minfomap\u001b[0m\u001b[0;34m.\u001b[0m\u001b[0mminor\u001b[0m\u001b[0;34m\u001b[0m\u001b[0;34m\u001b[0m\u001b[0m\n\u001b[1;32m      3\u001b[0m \u001b[0minfomap\u001b[0m \u001b[0;34m=\u001b[0m \u001b[0minfomap\u001b[0m\u001b[0;34m.\u001b[0m\u001b[0mdrop\u001b[0m\u001b[0;34m(\u001b[0m\u001b[0;34m[\u001b[0m\u001b[0;34m'minor'\u001b[0m\u001b[0;34m,\u001b[0m\u001b[0;34m'major'\u001b[0m\u001b[0;34m]\u001b[0m\u001b[0;34m,\u001b[0m\u001b[0maxis\u001b[0m\u001b[0;34m=\u001b[0m\u001b[0;36m1\u001b[0m\u001b[0;34m)\u001b[0m\u001b[0;34m\u001b[0m\u001b[0;34m\u001b[0m\u001b[0m\n\u001b[1;32m      4\u001b[0m \u001b[0minfomap\u001b[0m\u001b[0;34m.\u001b[0m\u001b[0mhead\u001b[0m\u001b[0;34m(\u001b[0m\u001b[0;34m)\u001b[0m\u001b[0;34m\u001b[0m\u001b[0;34m\u001b[0m\u001b[0m\n",
      "\u001b[0;32m~/.local/lib/python3.7/site-packages/pandas/core/generic.py\u001b[0m in \u001b[0;36mstat_func\u001b[0;34m(self, axis, skipna, level, numeric_only, **kwargs)\u001b[0m\n\u001b[1;32m  10954\u001b[0m                                       skipna=skipna)\n\u001b[1;32m  10955\u001b[0m         return self._reduce(f, name, axis=axis, skipna=skipna,\n\u001b[0;32m> 10956\u001b[0;31m                             numeric_only=numeric_only)\n\u001b[0m\u001b[1;32m  10957\u001b[0m \u001b[0;34m\u001b[0m\u001b[0m\n\u001b[1;32m  10958\u001b[0m     \u001b[0;32mreturn\u001b[0m \u001b[0mset_function_name\u001b[0m\u001b[0;34m(\u001b[0m\u001b[0mstat_func\u001b[0m\u001b[0;34m,\u001b[0m \u001b[0mname\u001b[0m\u001b[0;34m,\u001b[0m \u001b[0mcls\u001b[0m\u001b[0;34m)\u001b[0m\u001b[0;34m\u001b[0m\u001b[0;34m\u001b[0m\u001b[0m\n",
      "\u001b[0;32m~/.local/lib/python3.7/site-packages/pandas/core/series.py\u001b[0m in \u001b[0;36m_reduce\u001b[0;34m(self, op, name, axis, skipna, numeric_only, filter_type, **kwds)\u001b[0m\n\u001b[1;32m   3628\u001b[0m                                           'numeric_only.'.format(name))\n\u001b[1;32m   3629\u001b[0m             \u001b[0;32mwith\u001b[0m \u001b[0mnp\u001b[0m\u001b[0;34m.\u001b[0m\u001b[0merrstate\u001b[0m\u001b[0;34m(\u001b[0m\u001b[0mall\u001b[0m\u001b[0;34m=\u001b[0m\u001b[0;34m'ignore'\u001b[0m\u001b[0;34m)\u001b[0m\u001b[0;34m:\u001b[0m\u001b[0;34m\u001b[0m\u001b[0;34m\u001b[0m\u001b[0m\n\u001b[0;32m-> 3630\u001b[0;31m                 \u001b[0;32mreturn\u001b[0m \u001b[0mop\u001b[0m\u001b[0;34m(\u001b[0m\u001b[0mdelegate\u001b[0m\u001b[0;34m,\u001b[0m \u001b[0mskipna\u001b[0m\u001b[0;34m=\u001b[0m\u001b[0mskipna\u001b[0m\u001b[0;34m,\u001b[0m \u001b[0;34m**\u001b[0m\u001b[0mkwds\u001b[0m\u001b[0;34m)\u001b[0m\u001b[0;34m\u001b[0m\u001b[0;34m\u001b[0m\u001b[0m\n\u001b[0m\u001b[1;32m   3631\u001b[0m \u001b[0;34m\u001b[0m\u001b[0m\n\u001b[1;32m   3632\u001b[0m         \u001b[0;31m# TODO(EA) dispatch to Index\u001b[0m\u001b[0;34m\u001b[0m\u001b[0;34m\u001b[0m\u001b[0;34m\u001b[0m\u001b[0m\n",
      "\u001b[0;32m~/.local/lib/python3.7/site-packages/pandas/core/nanops.py\u001b[0m in \u001b[0;36mf\u001b[0;34m(values, axis, skipna, **kwds)\u001b[0m\n\u001b[1;32m    128\u001b[0m             \u001b[0;32mexcept\u001b[0m \u001b[0mException\u001b[0m\u001b[0;34m:\u001b[0m\u001b[0;34m\u001b[0m\u001b[0;34m\u001b[0m\u001b[0m\n\u001b[1;32m    129\u001b[0m                 \u001b[0;32mtry\u001b[0m\u001b[0;34m:\u001b[0m\u001b[0;34m\u001b[0m\u001b[0;34m\u001b[0m\u001b[0m\n\u001b[0;32m--> 130\u001b[0;31m                     \u001b[0mresult\u001b[0m \u001b[0;34m=\u001b[0m \u001b[0malt\u001b[0m\u001b[0;34m(\u001b[0m\u001b[0mvalues\u001b[0m\u001b[0;34m,\u001b[0m \u001b[0maxis\u001b[0m\u001b[0;34m=\u001b[0m\u001b[0maxis\u001b[0m\u001b[0;34m,\u001b[0m \u001b[0mskipna\u001b[0m\u001b[0;34m=\u001b[0m\u001b[0mskipna\u001b[0m\u001b[0;34m,\u001b[0m \u001b[0;34m**\u001b[0m\u001b[0mkwds\u001b[0m\u001b[0;34m)\u001b[0m\u001b[0;34m\u001b[0m\u001b[0;34m\u001b[0m\u001b[0m\n\u001b[0m\u001b[1;32m    131\u001b[0m                 \u001b[0;32mexcept\u001b[0m \u001b[0mValueError\u001b[0m \u001b[0;32mas\u001b[0m \u001b[0me\u001b[0m\u001b[0;34m:\u001b[0m\u001b[0;34m\u001b[0m\u001b[0;34m\u001b[0m\u001b[0m\n\u001b[1;32m    132\u001b[0m                     \u001b[0;31m# we want to transform an object array\u001b[0m\u001b[0;34m\u001b[0m\u001b[0;34m\u001b[0m\u001b[0;34m\u001b[0m\u001b[0m\n",
      "\u001b[0;32m~/.local/lib/python3.7/site-packages/pandas/core/nanops.py\u001b[0m in \u001b[0;36mreduction\u001b[0;34m(values, axis, skipna, mask)\u001b[0m\n\u001b[1;32m    740\u001b[0m                 \u001b[0mresult\u001b[0m \u001b[0;34m=\u001b[0m \u001b[0mnp\u001b[0m\u001b[0;34m.\u001b[0m\u001b[0mnan\u001b[0m\u001b[0;34m\u001b[0m\u001b[0;34m\u001b[0m\u001b[0m\n\u001b[1;32m    741\u001b[0m         \u001b[0;32melse\u001b[0m\u001b[0;34m:\u001b[0m\u001b[0;34m\u001b[0m\u001b[0;34m\u001b[0m\u001b[0m\n\u001b[0;32m--> 742\u001b[0;31m             \u001b[0mresult\u001b[0m \u001b[0;34m=\u001b[0m \u001b[0mgetattr\u001b[0m\u001b[0;34m(\u001b[0m\u001b[0mvalues\u001b[0m\u001b[0;34m,\u001b[0m \u001b[0mmeth\u001b[0m\u001b[0;34m)\u001b[0m\u001b[0;34m(\u001b[0m\u001b[0maxis\u001b[0m\u001b[0;34m)\u001b[0m\u001b[0;34m\u001b[0m\u001b[0;34m\u001b[0m\u001b[0m\n\u001b[0m\u001b[1;32m    743\u001b[0m \u001b[0;34m\u001b[0m\u001b[0m\n\u001b[1;32m    744\u001b[0m         \u001b[0mresult\u001b[0m \u001b[0;34m=\u001b[0m \u001b[0m_wrap_results\u001b[0m\u001b[0;34m(\u001b[0m\u001b[0mresult\u001b[0m\u001b[0;34m,\u001b[0m \u001b[0mdtype\u001b[0m\u001b[0;34m,\u001b[0m \u001b[0mfill_value\u001b[0m\u001b[0;34m)\u001b[0m\u001b[0;34m\u001b[0m\u001b[0;34m\u001b[0m\u001b[0m\n",
      "\u001b[0;32m~/.local/lib/python3.7/site-packages/numpy/core/_methods.py\u001b[0m in \u001b[0;36m_amax\u001b[0;34m(a, axis, out, keepdims, initial)\u001b[0m\n\u001b[1;32m     26\u001b[0m def _amax(a, axis=None, out=None, keepdims=False,\n\u001b[1;32m     27\u001b[0m           initial=_NoValue):\n\u001b[0;32m---> 28\u001b[0;31m     \u001b[0;32mreturn\u001b[0m \u001b[0mumr_maximum\u001b[0m\u001b[0;34m(\u001b[0m\u001b[0ma\u001b[0m\u001b[0;34m,\u001b[0m \u001b[0maxis\u001b[0m\u001b[0;34m,\u001b[0m \u001b[0;32mNone\u001b[0m\u001b[0;34m,\u001b[0m \u001b[0mout\u001b[0m\u001b[0;34m,\u001b[0m \u001b[0mkeepdims\u001b[0m\u001b[0;34m,\u001b[0m \u001b[0minitial\u001b[0m\u001b[0;34m)\u001b[0m\u001b[0;34m\u001b[0m\u001b[0;34m\u001b[0m\u001b[0m\n\u001b[0m\u001b[1;32m     29\u001b[0m \u001b[0;34m\u001b[0m\u001b[0m\n\u001b[1;32m     30\u001b[0m def _amin(a, axis=None, out=None, keepdims=False,\n",
      "\u001b[0;31mTypeError\u001b[0m: '>=' not supported between instances of 'str' and 'int'"
     ]
    }
   ],
   "source": [
    "max_major = infomap.major.max()\n",
    "infomap['label'] = infomap.major * max_major + infomap.minor\n",
    "infomap = infomap.drop(['minor','major'],axis=1)\n",
    "infomap.head()"
   ]
  },
  {
   "cell_type": "code",
   "execution_count": 60,
   "metadata": {
    "Collapsed": "false",
    "ExecuteTime": {
     "end_time": "2019-11-02T13:11:38.146645Z",
     "start_time": "2019-11-02T13:11:38.143063Z"
    }
   },
   "outputs": [
    {
     "data": {
      "text/plain": [
       "1159"
      ]
     },
     "execution_count": 60,
     "metadata": {},
     "output_type": "execute_result"
    }
   ],
   "source": [
    "chunk_nb = int(len(infomap)/ 2000 )\n",
    "chunk_nb"
   ]
  },
  {
   "cell_type": "code",
   "execution_count": 58,
   "metadata": {
    "Collapsed": "false",
    "ExecuteTime": {
     "end_time": "2019-11-01T20:45:40.905900Z",
     "start_time": "2019-11-01T20:40:09.457824Z"
    }
   },
   "outputs": [
    {
     "name": "stderr",
     "output_type": "stream",
     "text": [
      "100%|██████████| 1159/1159 [05:31<00:00,  3.50it/s]\n"
     ]
    }
   ],
   "source": [
    "import tqdm\n",
    "for i,chunk in tqdm.tqdm(enumerate(np.array_split(infomap,chunk_nb)),total=chunk_nb):\n",
    "    entries = seq(chunk).map(lambda x : {'key':x[0],'label':x[1]}).to_list()\n",
    "    tx= graph.begin()\n",
    "    tx.run(\"\"\"\n",
    "unwind {entries} as e\n",
    "MATCH (a:person{key:e.key})\n",
    "set a.infomap_minor = e.label\n",
    "return a\n",
    "\"\"\",entries=entries)\n",
    "    tx.commit()"
   ]
  },
  {
   "cell_type": "markdown",
   "metadata": {
    "Collapsed": "false"
   },
   "source": [
    "### Major"
   ]
  },
  {
   "cell_type": "code",
   "execution_count": 63,
   "metadata": {
    "Collapsed": "false",
    "ExecuteTime": {
     "end_time": "2019-11-02T13:12:32.611213Z",
     "start_time": "2019-11-02T13:12:32.572066Z"
    }
   },
   "outputs": [],
   "source": [
    "infomap_major = infomap.drop('minor',axis=1)"
   ]
  },
  {
   "cell_type": "code",
   "execution_count": 64,
   "metadata": {
    "Collapsed": "false",
    "ExecuteTime": {
     "end_time": "2019-11-02T13:13:09.304591Z",
     "start_time": "2019-11-02T13:13:09.297141Z"
    }
   },
   "outputs": [
    {
     "data": {
      "text/html": [
       "<div>\n",
       "<style scoped>\n",
       "    .dataframe tbody tr th:only-of-type {\n",
       "        vertical-align: middle;\n",
       "    }\n",
       "\n",
       "    .dataframe tbody tr th {\n",
       "        vertical-align: top;\n",
       "    }\n",
       "\n",
       "    .dataframe thead th {\n",
       "        text-align: right;\n",
       "    }\n",
       "</style>\n",
       "<table border=\"1\" class=\"dataframe\">\n",
       "  <thead>\n",
       "    <tr style=\"text-align: right;\">\n",
       "      <th></th>\n",
       "      <th>major</th>\n",
       "      <th>key</th>\n",
       "    </tr>\n",
       "  </thead>\n",
       "  <tbody>\n",
       "    <tr>\n",
       "      <th>0</th>\n",
       "      <td>1</td>\n",
       "      <td>qiang wang_pers</td>\n",
       "    </tr>\n",
       "    <tr>\n",
       "      <th>1</th>\n",
       "      <td>1</td>\n",
       "      <td>philip h. s. torr_pers</td>\n",
       "    </tr>\n",
       "    <tr>\n",
       "      <th>2</th>\n",
       "      <td>1</td>\n",
       "      <td>jiri matas_pers</td>\n",
       "    </tr>\n",
       "    <tr>\n",
       "      <th>3</th>\n",
       "      <td>1</td>\n",
       "      <td>haibin ling_pers</td>\n",
       "    </tr>\n",
       "    <tr>\n",
       "      <th>4</th>\n",
       "      <td>1</td>\n",
       "      <td>zheng zhang_pers</td>\n",
       "    </tr>\n",
       "  </tbody>\n",
       "</table>\n",
       "</div>"
      ],
      "text/plain": [
       "   major                     key\n",
       "0      1         qiang wang_pers\n",
       "1      1  philip h. s. torr_pers\n",
       "2      1         jiri matas_pers\n",
       "3      1        haibin ling_pers\n",
       "4      1        zheng zhang_pers"
      ]
     },
     "execution_count": 64,
     "metadata": {},
     "output_type": "execute_result"
    }
   ],
   "source": [
    "infomap_major.head()"
   ]
  },
  {
   "cell_type": "code",
   "execution_count": 65,
   "metadata": {
    "Collapsed": "false",
    "ExecuteTime": {
     "end_time": "2019-11-02T13:19:58.252656Z",
     "start_time": "2019-11-02T13:13:58.779456Z"
    }
   },
   "outputs": [
    {
     "name": "stderr",
     "output_type": "stream",
     "text": [
      "100%|██████████| 1159/1159 [05:59<00:00,  3.23it/s]\n"
     ]
    }
   ],
   "source": [
    "import tqdm\n",
    "for i,chunk in tqdm.tqdm(enumerate(np.array_split(infomap_major,chunk_nb)),total=chunk_nb):\n",
    "    entries = seq(chunk).map(lambda x : {'key':x[1],'label':x[0]}).to_list()\n",
    "    tx= graph.begin()\n",
    "    tx.run(\"\"\"\n",
    "unwind {entries} as e\n",
    "MATCH (a:person{key:e.key})\n",
    "set a.infomap_major = e.label\n",
    "return a\n",
    "\"\"\",entries=entries)\n",
    "    tx.commit()"
   ]
  }
 ],
 "metadata": {
  "kernelspec": {
   "display_name": "Python 3",
   "language": "python",
   "name": "python3"
  },
  "language_info": {
   "codemirror_mode": {
    "name": "ipython",
    "version": 3
   },
   "file_extension": ".py",
   "mimetype": "text/x-python",
   "name": "python",
   "nbconvert_exporter": "python",
   "pygments_lexer": "ipython3",
   "version": "3.8.0"
  }
 },
 "nbformat": 4,
 "nbformat_minor": 4
}
